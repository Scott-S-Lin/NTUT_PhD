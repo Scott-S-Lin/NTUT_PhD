{
  "nbformat": 4,
  "nbformat_minor": 0,
  "metadata": {
    "accelerator": "GPU",
    "colab": {
      "name": "Lab5_scott.ipynb",
      "provenance": [],
      "include_colab_link": true
    },
    "kernelspec": {
      "display_name": "tf2",
      "language": "python",
      "name": "tf2"
    },
    "language_info": {
      "codemirror_mode": {
        "name": "ipython",
        "version": 3
      },
      "file_extension": ".py",
      "mimetype": "text/x-python",
      "name": "python",
      "nbconvert_exporter": "python",
      "pygments_lexer": "ipython3",
      "version": "3.7.7"
    },
    "widgets": {
      "application/vnd.jupyter.widget-state+json": {
        "419ee01720c1471b9582031e7f8f5101": {
          "model_module": "@jupyter-widgets/controls",
          "model_name": "HBoxModel",
          "state": {
            "_dom_classes": [],
            "_model_module": "@jupyter-widgets/controls",
            "_model_module_version": "1.5.0",
            "_model_name": "HBoxModel",
            "_view_count": null,
            "_view_module": "@jupyter-widgets/controls",
            "_view_module_version": "1.5.0",
            "_view_name": "HBoxView",
            "box_style": "",
            "children": [
              "IPY_MODEL_9d0976e4a134458d8ab88007b79ab41e",
              "IPY_MODEL_b63d8e30f2924e72a4b65aa5e8da7270"
            ],
            "layout": "IPY_MODEL_6c46039e904c4eada7684ffdff2ca0e9"
          }
        },
        "9d0976e4a134458d8ab88007b79ab41e": {
          "model_module": "@jupyter-widgets/controls",
          "model_name": "FloatProgressModel",
          "state": {
            "_dom_classes": [],
            "_model_module": "@jupyter-widgets/controls",
            "_model_module_version": "1.5.0",
            "_model_name": "FloatProgressModel",
            "_view_count": null,
            "_view_module": "@jupyter-widgets/controls",
            "_view_module_version": "1.5.0",
            "_view_name": "ProgressView",
            "bar_style": "success",
            "description": "Dl Completed...: 100%",
            "description_tooltip": null,
            "layout": "IPY_MODEL_dfa9eee07602446d9921b540010734f5",
            "max": 1,
            "min": 0,
            "orientation": "horizontal",
            "style": "IPY_MODEL_7cec81298e8d4141b36a1b1b4df65be5",
            "value": 1
          }
        },
        "b63d8e30f2924e72a4b65aa5e8da7270": {
          "model_module": "@jupyter-widgets/controls",
          "model_name": "HTMLModel",
          "state": {
            "_dom_classes": [],
            "_model_module": "@jupyter-widgets/controls",
            "_model_module_version": "1.5.0",
            "_model_name": "HTMLModel",
            "_view_count": null,
            "_view_module": "@jupyter-widgets/controls",
            "_view_module_version": "1.5.0",
            "_view_name": "HTMLView",
            "description": "",
            "description_tooltip": null,
            "layout": "IPY_MODEL_7ddae43f3415422397b0aa5f0cdee168",
            "placeholder": "​",
            "style": "IPY_MODEL_1bf82ce1340a4325be653402626bc9fd",
            "value": " 1/1 [00:07&lt;00:00,  7.33s/ url]"
          }
        },
        "6c46039e904c4eada7684ffdff2ca0e9": {
          "model_module": "@jupyter-widgets/base",
          "model_name": "LayoutModel",
          "state": {
            "_model_module": "@jupyter-widgets/base",
            "_model_module_version": "1.2.0",
            "_model_name": "LayoutModel",
            "_view_count": null,
            "_view_module": "@jupyter-widgets/base",
            "_view_module_version": "1.2.0",
            "_view_name": "LayoutView",
            "align_content": null,
            "align_items": null,
            "align_self": null,
            "border": null,
            "bottom": null,
            "display": null,
            "flex": null,
            "flex_flow": null,
            "grid_area": null,
            "grid_auto_columns": null,
            "grid_auto_flow": null,
            "grid_auto_rows": null,
            "grid_column": null,
            "grid_gap": null,
            "grid_row": null,
            "grid_template_areas": null,
            "grid_template_columns": null,
            "grid_template_rows": null,
            "height": null,
            "justify_content": null,
            "justify_items": null,
            "left": null,
            "margin": null,
            "max_height": null,
            "max_width": null,
            "min_height": null,
            "min_width": null,
            "object_fit": null,
            "object_position": null,
            "order": null,
            "overflow": null,
            "overflow_x": null,
            "overflow_y": null,
            "padding": null,
            "right": null,
            "top": null,
            "visibility": null,
            "width": null
          }
        },
        "dfa9eee07602446d9921b540010734f5": {
          "model_module": "@jupyter-widgets/base",
          "model_name": "LayoutModel",
          "state": {
            "_model_module": "@jupyter-widgets/base",
            "_model_module_version": "1.2.0",
            "_model_name": "LayoutModel",
            "_view_count": null,
            "_view_module": "@jupyter-widgets/base",
            "_view_module_version": "1.2.0",
            "_view_name": "LayoutView",
            "align_content": null,
            "align_items": null,
            "align_self": null,
            "border": null,
            "bottom": null,
            "display": null,
            "flex": null,
            "flex_flow": null,
            "grid_area": null,
            "grid_auto_columns": null,
            "grid_auto_flow": null,
            "grid_auto_rows": null,
            "grid_column": null,
            "grid_gap": null,
            "grid_row": null,
            "grid_template_areas": null,
            "grid_template_columns": null,
            "grid_template_rows": null,
            "height": null,
            "justify_content": null,
            "justify_items": null,
            "left": null,
            "margin": null,
            "max_height": null,
            "max_width": null,
            "min_height": null,
            "min_width": null,
            "object_fit": null,
            "object_position": null,
            "order": null,
            "overflow": null,
            "overflow_x": null,
            "overflow_y": null,
            "padding": null,
            "right": null,
            "top": null,
            "visibility": null,
            "width": null
          }
        },
        "7cec81298e8d4141b36a1b1b4df65be5": {
          "model_module": "@jupyter-widgets/controls",
          "model_name": "ProgressStyleModel",
          "state": {
            "_model_module": "@jupyter-widgets/controls",
            "_model_module_version": "1.5.0",
            "_model_name": "ProgressStyleModel",
            "_view_count": null,
            "_view_module": "@jupyter-widgets/base",
            "_view_module_version": "1.2.0",
            "_view_name": "StyleView",
            "bar_color": null,
            "description_width": "initial"
          }
        },
        "7ddae43f3415422397b0aa5f0cdee168": {
          "model_module": "@jupyter-widgets/base",
          "model_name": "LayoutModel",
          "state": {
            "_model_module": "@jupyter-widgets/base",
            "_model_module_version": "1.2.0",
            "_model_name": "LayoutModel",
            "_view_count": null,
            "_view_module": "@jupyter-widgets/base",
            "_view_module_version": "1.2.0",
            "_view_name": "LayoutView",
            "align_content": null,
            "align_items": null,
            "align_self": null,
            "border": null,
            "bottom": null,
            "display": null,
            "flex": null,
            "flex_flow": null,
            "grid_area": null,
            "grid_auto_columns": null,
            "grid_auto_flow": null,
            "grid_auto_rows": null,
            "grid_column": null,
            "grid_gap": null,
            "grid_row": null,
            "grid_template_areas": null,
            "grid_template_columns": null,
            "grid_template_rows": null,
            "height": null,
            "justify_content": null,
            "justify_items": null,
            "left": null,
            "margin": null,
            "max_height": null,
            "max_width": null,
            "min_height": null,
            "min_width": null,
            "object_fit": null,
            "object_position": null,
            "order": null,
            "overflow": null,
            "overflow_x": null,
            "overflow_y": null,
            "padding": null,
            "right": null,
            "top": null,
            "visibility": null,
            "width": null
          }
        },
        "1bf82ce1340a4325be653402626bc9fd": {
          "model_module": "@jupyter-widgets/controls",
          "model_name": "DescriptionStyleModel",
          "state": {
            "_model_module": "@jupyter-widgets/controls",
            "_model_module_version": "1.5.0",
            "_model_name": "DescriptionStyleModel",
            "_view_count": null,
            "_view_module": "@jupyter-widgets/base",
            "_view_module_version": "1.2.0",
            "_view_name": "StyleView",
            "description_width": ""
          }
        },
        "e6e1714443614a19b98228e6737becb9": {
          "model_module": "@jupyter-widgets/controls",
          "model_name": "HBoxModel",
          "state": {
            "_dom_classes": [],
            "_model_module": "@jupyter-widgets/controls",
            "_model_module_version": "1.5.0",
            "_model_name": "HBoxModel",
            "_view_count": null,
            "_view_module": "@jupyter-widgets/controls",
            "_view_module_version": "1.5.0",
            "_view_name": "HBoxView",
            "box_style": "",
            "children": [
              "IPY_MODEL_c2641bc0cd42466e8739ae661586b5b3",
              "IPY_MODEL_d8f72b2380d14f579a391c3c7c32fbcf"
            ],
            "layout": "IPY_MODEL_a07e6eb444e742b8bf697f19cadcee03"
          }
        },
        "c2641bc0cd42466e8739ae661586b5b3": {
          "model_module": "@jupyter-widgets/controls",
          "model_name": "FloatProgressModel",
          "state": {
            "_dom_classes": [],
            "_model_module": "@jupyter-widgets/controls",
            "_model_module_version": "1.5.0",
            "_model_name": "FloatProgressModel",
            "_view_count": null,
            "_view_module": "@jupyter-widgets/controls",
            "_view_module_version": "1.5.0",
            "_view_name": "ProgressView",
            "bar_style": "success",
            "description": "Dl Size...: 100%",
            "description_tooltip": null,
            "layout": "IPY_MODEL_2e4c04957ff144e59bfcb9254bfea146",
            "max": 1,
            "min": 0,
            "orientation": "horizontal",
            "style": "IPY_MODEL_bf78b2cfd01b4cb3bb03d48962a160a8",
            "value": 1
          }
        },
        "d8f72b2380d14f579a391c3c7c32fbcf": {
          "model_module": "@jupyter-widgets/controls",
          "model_name": "HTMLModel",
          "state": {
            "_dom_classes": [],
            "_model_module": "@jupyter-widgets/controls",
            "_model_module_version": "1.5.0",
            "_model_name": "HTMLModel",
            "_view_count": null,
            "_view_module": "@jupyter-widgets/controls",
            "_view_module_version": "1.5.0",
            "_view_name": "HTMLView",
            "description": "",
            "description_tooltip": null,
            "layout": "IPY_MODEL_b4d1b868264b4f7da86556a147cbe7fb",
            "placeholder": "​",
            "style": "IPY_MODEL_47fa155c235c40c0b3cd20993b4879f3",
            "value": " 162/162 [00:07&lt;00:00, 22.36 MiB/s]"
          }
        },
        "a07e6eb444e742b8bf697f19cadcee03": {
          "model_module": "@jupyter-widgets/base",
          "model_name": "LayoutModel",
          "state": {
            "_model_module": "@jupyter-widgets/base",
            "_model_module_version": "1.2.0",
            "_model_name": "LayoutModel",
            "_view_count": null,
            "_view_module": "@jupyter-widgets/base",
            "_view_module_version": "1.2.0",
            "_view_name": "LayoutView",
            "align_content": null,
            "align_items": null,
            "align_self": null,
            "border": null,
            "bottom": null,
            "display": null,
            "flex": null,
            "flex_flow": null,
            "grid_area": null,
            "grid_auto_columns": null,
            "grid_auto_flow": null,
            "grid_auto_rows": null,
            "grid_column": null,
            "grid_gap": null,
            "grid_row": null,
            "grid_template_areas": null,
            "grid_template_columns": null,
            "grid_template_rows": null,
            "height": null,
            "justify_content": null,
            "justify_items": null,
            "left": null,
            "margin": null,
            "max_height": null,
            "max_width": null,
            "min_height": null,
            "min_width": null,
            "object_fit": null,
            "object_position": null,
            "order": null,
            "overflow": null,
            "overflow_x": null,
            "overflow_y": null,
            "padding": null,
            "right": null,
            "top": null,
            "visibility": null,
            "width": null
          }
        },
        "2e4c04957ff144e59bfcb9254bfea146": {
          "model_module": "@jupyter-widgets/base",
          "model_name": "LayoutModel",
          "state": {
            "_model_module": "@jupyter-widgets/base",
            "_model_module_version": "1.2.0",
            "_model_name": "LayoutModel",
            "_view_count": null,
            "_view_module": "@jupyter-widgets/base",
            "_view_module_version": "1.2.0",
            "_view_name": "LayoutView",
            "align_content": null,
            "align_items": null,
            "align_self": null,
            "border": null,
            "bottom": null,
            "display": null,
            "flex": null,
            "flex_flow": null,
            "grid_area": null,
            "grid_auto_columns": null,
            "grid_auto_flow": null,
            "grid_auto_rows": null,
            "grid_column": null,
            "grid_gap": null,
            "grid_row": null,
            "grid_template_areas": null,
            "grid_template_columns": null,
            "grid_template_rows": null,
            "height": null,
            "justify_content": null,
            "justify_items": null,
            "left": null,
            "margin": null,
            "max_height": null,
            "max_width": null,
            "min_height": null,
            "min_width": null,
            "object_fit": null,
            "object_position": null,
            "order": null,
            "overflow": null,
            "overflow_x": null,
            "overflow_y": null,
            "padding": null,
            "right": null,
            "top": null,
            "visibility": null,
            "width": null
          }
        },
        "bf78b2cfd01b4cb3bb03d48962a160a8": {
          "model_module": "@jupyter-widgets/controls",
          "model_name": "ProgressStyleModel",
          "state": {
            "_model_module": "@jupyter-widgets/controls",
            "_model_module_version": "1.5.0",
            "_model_name": "ProgressStyleModel",
            "_view_count": null,
            "_view_module": "@jupyter-widgets/base",
            "_view_module_version": "1.2.0",
            "_view_name": "StyleView",
            "bar_color": null,
            "description_width": "initial"
          }
        },
        "b4d1b868264b4f7da86556a147cbe7fb": {
          "model_module": "@jupyter-widgets/base",
          "model_name": "LayoutModel",
          "state": {
            "_model_module": "@jupyter-widgets/base",
            "_model_module_version": "1.2.0",
            "_model_name": "LayoutModel",
            "_view_count": null,
            "_view_module": "@jupyter-widgets/base",
            "_view_module_version": "1.2.0",
            "_view_name": "LayoutView",
            "align_content": null,
            "align_items": null,
            "align_self": null,
            "border": null,
            "bottom": null,
            "display": null,
            "flex": null,
            "flex_flow": null,
            "grid_area": null,
            "grid_auto_columns": null,
            "grid_auto_flow": null,
            "grid_auto_rows": null,
            "grid_column": null,
            "grid_gap": null,
            "grid_row": null,
            "grid_template_areas": null,
            "grid_template_columns": null,
            "grid_template_rows": null,
            "height": null,
            "justify_content": null,
            "justify_items": null,
            "left": null,
            "margin": null,
            "max_height": null,
            "max_width": null,
            "min_height": null,
            "min_width": null,
            "object_fit": null,
            "object_position": null,
            "order": null,
            "overflow": null,
            "overflow_x": null,
            "overflow_y": null,
            "padding": null,
            "right": null,
            "top": null,
            "visibility": null,
            "width": null
          }
        },
        "47fa155c235c40c0b3cd20993b4879f3": {
          "model_module": "@jupyter-widgets/controls",
          "model_name": "DescriptionStyleModel",
          "state": {
            "_model_module": "@jupyter-widgets/controls",
            "_model_module_version": "1.5.0",
            "_model_name": "DescriptionStyleModel",
            "_view_count": null,
            "_view_module": "@jupyter-widgets/base",
            "_view_module_version": "1.2.0",
            "_view_name": "StyleView",
            "description_width": ""
          }
        },
        "be196416695a4f698f143da3dd28d07f": {
          "model_module": "@jupyter-widgets/controls",
          "model_name": "HBoxModel",
          "state": {
            "_dom_classes": [],
            "_model_module": "@jupyter-widgets/controls",
            "_model_module_version": "1.5.0",
            "_model_name": "HBoxModel",
            "_view_count": null,
            "_view_module": "@jupyter-widgets/controls",
            "_view_module_version": "1.5.0",
            "_view_name": "HBoxView",
            "box_style": "",
            "children": [
              "IPY_MODEL_e9cd6e26654d4ac5b877617ee56ff8a7",
              "IPY_MODEL_a4b0165f80554a5baac6fe911659a33a"
            ],
            "layout": "IPY_MODEL_ba7ecf5794e740fa92d2a5c5f0eba910"
          }
        },
        "e9cd6e26654d4ac5b877617ee56ff8a7": {
          "model_module": "@jupyter-widgets/controls",
          "model_name": "FloatProgressModel",
          "state": {
            "_dom_classes": [],
            "_model_module": "@jupyter-widgets/controls",
            "_model_module_version": "1.5.0",
            "_model_name": "FloatProgressModel",
            "_view_count": null,
            "_view_module": "@jupyter-widgets/controls",
            "_view_module_version": "1.5.0",
            "_view_name": "ProgressView",
            "bar_style": "success",
            "description": "Extraction completed...: 100%",
            "description_tooltip": null,
            "layout": "IPY_MODEL_7eb0681e45964b30a719f756975ef79d",
            "max": 1,
            "min": 0,
            "orientation": "horizontal",
            "style": "IPY_MODEL_26364f8865284d929c21e605ec78b026",
            "value": 1
          }
        },
        "a4b0165f80554a5baac6fe911659a33a": {
          "model_module": "@jupyter-widgets/controls",
          "model_name": "HTMLModel",
          "state": {
            "_dom_classes": [],
            "_model_module": "@jupyter-widgets/controls",
            "_model_module_version": "1.5.0",
            "_model_name": "HTMLModel",
            "_view_count": null,
            "_view_module": "@jupyter-widgets/controls",
            "_view_module_version": "1.5.0",
            "_view_name": "HTMLView",
            "description": "",
            "description_tooltip": null,
            "layout": "IPY_MODEL_63d72e686a4a4b4cb5e48f3334203cda",
            "placeholder": "​",
            "style": "IPY_MODEL_a8f4da5acb734761ad71f04c35abc73c",
            "value": " 1/1 [00:07&lt;00:00,  7.13s/ file]"
          }
        },
        "ba7ecf5794e740fa92d2a5c5f0eba910": {
          "model_module": "@jupyter-widgets/base",
          "model_name": "LayoutModel",
          "state": {
            "_model_module": "@jupyter-widgets/base",
            "_model_module_version": "1.2.0",
            "_model_name": "LayoutModel",
            "_view_count": null,
            "_view_module": "@jupyter-widgets/base",
            "_view_module_version": "1.2.0",
            "_view_name": "LayoutView",
            "align_content": null,
            "align_items": null,
            "align_self": null,
            "border": null,
            "bottom": null,
            "display": null,
            "flex": null,
            "flex_flow": null,
            "grid_area": null,
            "grid_auto_columns": null,
            "grid_auto_flow": null,
            "grid_auto_rows": null,
            "grid_column": null,
            "grid_gap": null,
            "grid_row": null,
            "grid_template_areas": null,
            "grid_template_columns": null,
            "grid_template_rows": null,
            "height": null,
            "justify_content": null,
            "justify_items": null,
            "left": null,
            "margin": null,
            "max_height": null,
            "max_width": null,
            "min_height": null,
            "min_width": null,
            "object_fit": null,
            "object_position": null,
            "order": null,
            "overflow": null,
            "overflow_x": null,
            "overflow_y": null,
            "padding": null,
            "right": null,
            "top": null,
            "visibility": null,
            "width": null
          }
        },
        "7eb0681e45964b30a719f756975ef79d": {
          "model_module": "@jupyter-widgets/base",
          "model_name": "LayoutModel",
          "state": {
            "_model_module": "@jupyter-widgets/base",
            "_model_module_version": "1.2.0",
            "_model_name": "LayoutModel",
            "_view_count": null,
            "_view_module": "@jupyter-widgets/base",
            "_view_module_version": "1.2.0",
            "_view_name": "LayoutView",
            "align_content": null,
            "align_items": null,
            "align_self": null,
            "border": null,
            "bottom": null,
            "display": null,
            "flex": null,
            "flex_flow": null,
            "grid_area": null,
            "grid_auto_columns": null,
            "grid_auto_flow": null,
            "grid_auto_rows": null,
            "grid_column": null,
            "grid_gap": null,
            "grid_row": null,
            "grid_template_areas": null,
            "grid_template_columns": null,
            "grid_template_rows": null,
            "height": null,
            "justify_content": null,
            "justify_items": null,
            "left": null,
            "margin": null,
            "max_height": null,
            "max_width": null,
            "min_height": null,
            "min_width": null,
            "object_fit": null,
            "object_position": null,
            "order": null,
            "overflow": null,
            "overflow_x": null,
            "overflow_y": null,
            "padding": null,
            "right": null,
            "top": null,
            "visibility": null,
            "width": null
          }
        },
        "26364f8865284d929c21e605ec78b026": {
          "model_module": "@jupyter-widgets/controls",
          "model_name": "ProgressStyleModel",
          "state": {
            "_model_module": "@jupyter-widgets/controls",
            "_model_module_version": "1.5.0",
            "_model_name": "ProgressStyleModel",
            "_view_count": null,
            "_view_module": "@jupyter-widgets/base",
            "_view_module_version": "1.2.0",
            "_view_name": "StyleView",
            "bar_color": null,
            "description_width": "initial"
          }
        },
        "63d72e686a4a4b4cb5e48f3334203cda": {
          "model_module": "@jupyter-widgets/base",
          "model_name": "LayoutModel",
          "state": {
            "_model_module": "@jupyter-widgets/base",
            "_model_module_version": "1.2.0",
            "_model_name": "LayoutModel",
            "_view_count": null,
            "_view_module": "@jupyter-widgets/base",
            "_view_module_version": "1.2.0",
            "_view_name": "LayoutView",
            "align_content": null,
            "align_items": null,
            "align_self": null,
            "border": null,
            "bottom": null,
            "display": null,
            "flex": null,
            "flex_flow": null,
            "grid_area": null,
            "grid_auto_columns": null,
            "grid_auto_flow": null,
            "grid_auto_rows": null,
            "grid_column": null,
            "grid_gap": null,
            "grid_row": null,
            "grid_template_areas": null,
            "grid_template_columns": null,
            "grid_template_rows": null,
            "height": null,
            "justify_content": null,
            "justify_items": null,
            "left": null,
            "margin": null,
            "max_height": null,
            "max_width": null,
            "min_height": null,
            "min_width": null,
            "object_fit": null,
            "object_position": null,
            "order": null,
            "overflow": null,
            "overflow_x": null,
            "overflow_y": null,
            "padding": null,
            "right": null,
            "top": null,
            "visibility": null,
            "width": null
          }
        },
        "a8f4da5acb734761ad71f04c35abc73c": {
          "model_module": "@jupyter-widgets/controls",
          "model_name": "DescriptionStyleModel",
          "state": {
            "_model_module": "@jupyter-widgets/controls",
            "_model_module_version": "1.5.0",
            "_model_name": "DescriptionStyleModel",
            "_view_count": null,
            "_view_module": "@jupyter-widgets/base",
            "_view_module_version": "1.2.0",
            "_view_name": "StyleView",
            "description_width": ""
          }
        },
        "dd7dc42485714e98a30662698ed23463": {
          "model_module": "@jupyter-widgets/controls",
          "model_name": "HBoxModel",
          "state": {
            "_dom_classes": [],
            "_model_module": "@jupyter-widgets/controls",
            "_model_module_version": "1.5.0",
            "_model_name": "HBoxModel",
            "_view_count": null,
            "_view_module": "@jupyter-widgets/controls",
            "_view_module_version": "1.5.0",
            "_view_name": "HBoxView",
            "box_style": "",
            "children": [
              "IPY_MODEL_6e1882f867bf46c89ea899cd63f302bb",
              "IPY_MODEL_e0031dc3e99e45c7a75204ec38e9c503"
            ],
            "layout": "IPY_MODEL_302c1f1ca87947aeaaf54226edb07f3c"
          }
        },
        "6e1882f867bf46c89ea899cd63f302bb": {
          "model_module": "@jupyter-widgets/controls",
          "model_name": "FloatProgressModel",
          "state": {
            "_dom_classes": [],
            "_model_module": "@jupyter-widgets/controls",
            "_model_module_version": "1.5.0",
            "_model_name": "FloatProgressModel",
            "_view_count": null,
            "_view_module": "@jupyter-widgets/controls",
            "_view_module_version": "1.5.0",
            "_view_name": "ProgressView",
            "bar_style": "info",
            "description": "",
            "description_tooltip": null,
            "layout": "IPY_MODEL_45d87bb76fcf4f4e9a4c4fb4273aefc0",
            "max": 1,
            "min": 0,
            "orientation": "horizontal",
            "style": "IPY_MODEL_bb4d649c167b47e4a021cedf32651fd1",
            "value": 1
          }
        },
        "e0031dc3e99e45c7a75204ec38e9c503": {
          "model_module": "@jupyter-widgets/controls",
          "model_name": "HTMLModel",
          "state": {
            "_dom_classes": [],
            "_model_module": "@jupyter-widgets/controls",
            "_model_module_version": "1.5.0",
            "_model_name": "HTMLModel",
            "_view_count": null,
            "_view_module": "@jupyter-widgets/controls",
            "_view_module_version": "1.5.0",
            "_view_name": "HTMLView",
            "description": "",
            "description_tooltip": null,
            "layout": "IPY_MODEL_5ef1fea840514aa4aae005579f6fe2f7",
            "placeholder": "​",
            "style": "IPY_MODEL_4ccdb9f3338e4f098aa7c2c84e981739",
            "value": " 41570/0 [00:28&lt;00:00, 1506.00 examples/s]"
          }
        },
        "302c1f1ca87947aeaaf54226edb07f3c": {
          "model_module": "@jupyter-widgets/base",
          "model_name": "LayoutModel",
          "state": {
            "_model_module": "@jupyter-widgets/base",
            "_model_module_version": "1.2.0",
            "_model_name": "LayoutModel",
            "_view_count": null,
            "_view_module": "@jupyter-widgets/base",
            "_view_module_version": "1.2.0",
            "_view_name": "LayoutView",
            "align_content": null,
            "align_items": null,
            "align_self": null,
            "border": null,
            "bottom": null,
            "display": null,
            "flex": null,
            "flex_flow": null,
            "grid_area": null,
            "grid_auto_columns": null,
            "grid_auto_flow": null,
            "grid_auto_rows": null,
            "grid_column": null,
            "grid_gap": null,
            "grid_row": null,
            "grid_template_areas": null,
            "grid_template_columns": null,
            "grid_template_rows": null,
            "height": null,
            "justify_content": null,
            "justify_items": null,
            "left": null,
            "margin": null,
            "max_height": null,
            "max_width": null,
            "min_height": null,
            "min_width": null,
            "object_fit": null,
            "object_position": null,
            "order": null,
            "overflow": null,
            "overflow_x": null,
            "overflow_y": null,
            "padding": null,
            "right": null,
            "top": null,
            "visibility": null,
            "width": null
          }
        },
        "45d87bb76fcf4f4e9a4c4fb4273aefc0": {
          "model_module": "@jupyter-widgets/base",
          "model_name": "LayoutModel",
          "state": {
            "_model_module": "@jupyter-widgets/base",
            "_model_module_version": "1.2.0",
            "_model_name": "LayoutModel",
            "_view_count": null,
            "_view_module": "@jupyter-widgets/base",
            "_view_module_version": "1.2.0",
            "_view_name": "LayoutView",
            "align_content": null,
            "align_items": null,
            "align_self": null,
            "border": null,
            "bottom": null,
            "display": null,
            "flex": null,
            "flex_flow": null,
            "grid_area": null,
            "grid_auto_columns": null,
            "grid_auto_flow": null,
            "grid_auto_rows": null,
            "grid_column": null,
            "grid_gap": null,
            "grid_row": null,
            "grid_template_areas": null,
            "grid_template_columns": null,
            "grid_template_rows": null,
            "height": null,
            "justify_content": null,
            "justify_items": null,
            "left": null,
            "margin": null,
            "max_height": null,
            "max_width": null,
            "min_height": null,
            "min_width": null,
            "object_fit": null,
            "object_position": null,
            "order": null,
            "overflow": null,
            "overflow_x": null,
            "overflow_y": null,
            "padding": null,
            "right": null,
            "top": null,
            "visibility": null,
            "width": null
          }
        },
        "bb4d649c167b47e4a021cedf32651fd1": {
          "model_module": "@jupyter-widgets/controls",
          "model_name": "ProgressStyleModel",
          "state": {
            "_model_module": "@jupyter-widgets/controls",
            "_model_module_version": "1.5.0",
            "_model_name": "ProgressStyleModel",
            "_view_count": null,
            "_view_module": "@jupyter-widgets/base",
            "_view_module_version": "1.2.0",
            "_view_name": "StyleView",
            "bar_color": null,
            "description_width": "initial"
          }
        },
        "5ef1fea840514aa4aae005579f6fe2f7": {
          "model_module": "@jupyter-widgets/base",
          "model_name": "LayoutModel",
          "state": {
            "_model_module": "@jupyter-widgets/base",
            "_model_module_version": "1.2.0",
            "_model_name": "LayoutModel",
            "_view_count": null,
            "_view_module": "@jupyter-widgets/base",
            "_view_module_version": "1.2.0",
            "_view_name": "LayoutView",
            "align_content": null,
            "align_items": null,
            "align_self": null,
            "border": null,
            "bottom": null,
            "display": null,
            "flex": null,
            "flex_flow": null,
            "grid_area": null,
            "grid_auto_columns": null,
            "grid_auto_flow": null,
            "grid_auto_rows": null,
            "grid_column": null,
            "grid_gap": null,
            "grid_row": null,
            "grid_template_areas": null,
            "grid_template_columns": null,
            "grid_template_rows": null,
            "height": null,
            "justify_content": null,
            "justify_items": null,
            "left": null,
            "margin": null,
            "max_height": null,
            "max_width": null,
            "min_height": null,
            "min_width": null,
            "object_fit": null,
            "object_position": null,
            "order": null,
            "overflow": null,
            "overflow_x": null,
            "overflow_y": null,
            "padding": null,
            "right": null,
            "top": null,
            "visibility": null,
            "width": null
          }
        },
        "4ccdb9f3338e4f098aa7c2c84e981739": {
          "model_module": "@jupyter-widgets/controls",
          "model_name": "DescriptionStyleModel",
          "state": {
            "_model_module": "@jupyter-widgets/controls",
            "_model_module_version": "1.5.0",
            "_model_name": "DescriptionStyleModel",
            "_view_count": null,
            "_view_module": "@jupyter-widgets/base",
            "_view_module_version": "1.2.0",
            "_view_name": "StyleView",
            "description_width": ""
          }
        }
      }
    }
  },
  "cells": [
    {
      "cell_type": "markdown",
      "metadata": {
        "id": "view-in-github",
        "colab_type": "text"
      },
      "source": [
        "<a href=\"https://colab.research.google.com/github/Scott-S-Lin/NTUT_PhD/blob/main/Lab5_scott.ipynb\" target=\"_parent\"><img src=\"https://colab.research.google.com/assets/colab-badge.svg\" alt=\"Open In Colab\"/></a>"
      ]
    },
    {
      "cell_type": "markdown",
      "metadata": {
        "id": "V3PpQEvrRjH4"
      },
      "source": [
        "# Lab 5"
      ]
    },
    {
      "cell_type": "markdown",
      "metadata": {
        "id": "o2GSI-vwRjIF"
      },
      "source": [
        "<table class=\"tfo-notebook-buttons\" align=\"left\">\n",
        "  <td>\n",
        "    <a target=\"_blank\" href=\"https://colab.research.google.com/github/taipeitechmmslab/MMSLAB-TF2/blob/master/Lab5.ipynb\"><img src=\"https://www.tensorflow.org/images/colab_logo_32px.png\" />Run in Google Colab</a>\n",
        "  </td>\n",
        "  <td>\n",
        "    <a target=\"_blank\" href=\"https://github.com/taipeitechmmslab/MMSLAB-TF2/blob/master/Lab5.ipynb\"><img src=\"https://www.tensorflow.org/images/GitHub-Mark-32px.png\" />View source on GitHub</a>\n",
        "  </td>\n",
        "</table>"
      ]
    },
    {
      "cell_type": "markdown",
      "metadata": {
        "id": "zEdA7MaWRjIG"
      },
      "source": [
        "### Import"
      ]
    },
    {
      "cell_type": "code",
      "metadata": {
        "colab": {
          "resources": {
            "http://localhost:8080/nbextensions/google.colab/files.js": {
              "data": "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",
              "headers": [
                [
                  "content-type",
                  "application/javascript"
                ]
              ],
              "ok": true,
              "status": 200,
              "status_text": ""
            }
          },
          "base_uri": "https://localhost:8080/",
          "height": 76
        },
        "id": "D5rpuTZfRjIH",
        "outputId": "18b68e21-13c3-4a47-d9a4-cd501e228046"
      },
      "source": [
        "import os\n",
        "import numpy as np\n",
        "import pandas as pd\n",
        "import tensorflow as tf\n",
        "import matplotlib.pyplot as plt\n",
        "import tensorflow_datasets as tfds\n",
        "\n",
        "from tensorflow import keras\n",
        "from tensorflow.keras import layers\n",
        "from tensorflow.keras import initializers\n",
        "\n",
        "from google.colab import files\n",
        "src = list(files.upload().values())[0]\n",
        "open('preprocessing.py','wb').write(src)\n",
        "import preprocessing\n",
        "\n",
        "\n",
        "from preprocessing import parse_aug_fn, parse_fn"
      ],
      "execution_count": null,
      "outputs": [
        {
          "output_type": "display_data",
          "data": {
            "text/html": [
              "\n",
              "     <input type=\"file\" id=\"files-011cf4c4-d440-4d9c-9e62-c8515d9b432d\" name=\"files[]\" multiple disabled\n",
              "        style=\"border:none\" />\n",
              "     <output id=\"result-011cf4c4-d440-4d9c-9e62-c8515d9b432d\">\n",
              "      Upload widget is only available when the cell has been executed in the\n",
              "      current browser session. Please rerun this cell to enable.\n",
              "      </output>\n",
              "      <script src=\"/nbextensions/google.colab/files.js\"></script> "
            ],
            "text/plain": [
              "<IPython.core.display.HTML object>"
            ]
          },
          "metadata": {
            "tags": []
          }
        },
        {
          "output_type": "stream",
          "text": [
            "Saving preprocessing.py to preprocessing (1).py\n"
          ],
          "name": "stdout"
        }
      ]
    },
    {
      "cell_type": "markdown",
      "metadata": {
        "id": "xYqvK6leRjIJ"
      },
      "source": [
        "## Activation Function 激活函數"
      ]
    },
    {
      "cell_type": "markdown",
      "metadata": {
        "id": "3Qam2H0sRjIJ"
      },
      "source": [
        "1. ReLU"
      ]
    },
    {
      "cell_type": "code",
      "metadata": {
        "colab": {
          "base_uri": "https://localhost:8080/",
          "height": 283
        },
        "id": "K-ZvAo8LRjIK",
        "scrolled": true,
        "outputId": "91ebd36c-0415-4687-fb4a-3ba7453c5781"
      },
      "source": [
        "x = np.arange(-2, 2, 0.01)\n",
        "y = np.where(x>0, x, 0)\n",
        "plt.plot(x, y, label='ReLU')\n",
        "plt.grid(True)\n",
        "x = np.arange(-2, 2, 0.01)\n",
        "y = np.where(x>0, 1, 0)\n",
        "plt.plot(x, y, label='Derivative of ReLU')\n",
        "plt.grid(True)\n",
        "plt.legend(loc='upper left')"
      ],
      "execution_count": null,
      "outputs": [
        {
          "output_type": "execute_result",
          "data": {
            "text/plain": [
              "<matplotlib.legend.Legend at 0x7fee778826d0>"
            ]
          },
          "metadata": {
            "tags": []
          },
          "execution_count": 3
        },
        {
          "output_type": "display_data",
          "data": {
            "image/png": "[encoded data removed]",
            "text/plain": [
              "<Figure size 432x288 with 1 Axes>"
            ]
          },
          "metadata": {
            "tags": []
          }
        }
      ]
    },
    {
      "cell_type": "markdown",
      "metadata": {
        "id": "OkHM5jdQRjIM"
      },
      "source": [
        "2. Sigmoid"
      ]
    },
    {
      "cell_type": "code",
      "metadata": {
        "colab": {
          "base_uri": "https://localhost:8080/",
          "height": 283
        },
        "id": "WoUJMr1HRjIN",
        "outputId": "f3ed047c-d5ca-48d0-9147-f679777f167f"
      },
      "source": [
        "x1 = np.arange(-5, 5, 0.01)\n",
        "y1 = 1 / (1 + np.exp(-x1))\n",
        "plt.plot(x1, y1, label='Sigmoid')\n",
        "plt.grid(True)\n",
        "x2 = np.arange(-5, 5, 0.01)\n",
        "y2 = (1 / (1 + np.exp(-x2))) * (1 - (1 / (1 + np.exp(-x2))))\n",
        "plt.plot(x2, y2, label='Derivative of Sigmoid')\n",
        "plt.grid(True)\n",
        "plt.legend(loc='upper left')"
      ],
      "execution_count": null,
      "outputs": [
        {
          "output_type": "execute_result",
          "data": {
            "text/plain": [
              "<matplotlib.legend.Legend at 0x7fee778a4410>"
            ]
          },
          "metadata": {
            "tags": []
          },
          "execution_count": 4
        },
        {
          "output_type": "display_data",
          "data": {
            "image/png": "[encoded data removed]",
            "text/plain": [
              "<Figure size 432x288 with 1 Axes>"
            ]
          },
          "metadata": {
            "tags": []
          }
        }
      ]
    },
    {
      "cell_type": "markdown",
      "metadata": {
        "id": "_2IYXiEYRjIO"
      },
      "source": [
        "3. Tanh"
      ]
    },
    {
      "cell_type": "code",
      "metadata": {
        "colab": {
          "base_uri": "https://localhost:8080/",
          "height": 283
        },
        "id": "4i-_8zxLRjIP",
        "scrolled": true,
        "outputId": "b8e0bbb3-704b-4ee4-9997-7fe594729551"
      },
      "source": [
        "x = np.arange(-5, 5, 0.01)\n",
        "y = (np.exp(x) - np.exp(-x)) / (np.exp(x) + np.exp(-x))\n",
        "plt.plot(x, y, label='Tanh')\n",
        "plt.grid(True)\n",
        "x = np.arange(-5, 5, 0.01)\n",
        "y = 1 - np.square((np.exp(x) - np.exp(-x)) / (np.exp(x) + np.exp(-x)))\n",
        "plt.plot(x, y, label='Derivative of Tanh')\n",
        "plt.grid(True)\n",
        "plt.legend(loc='upper left')"
      ],
      "execution_count": null,
      "outputs": [
        {
          "output_type": "execute_result",
          "data": {
            "text/plain": [
              "<matplotlib.legend.Legend at 0x7fee7790b810>"
            ]
          },
          "metadata": {
            "tags": []
          },
          "execution_count": 5
        },
        {
          "output_type": "display_data",
          "data": {
            "image/png": "[encoded data removed]",
            "text/plain": [
              "<Figure size 432x288 with 1 Axes>"
            ]
          },
          "metadata": {
            "tags": []
          }
        }
      ]
    },
    {
      "cell_type": "markdown",
      "metadata": {
        "id": "Od2XvwS4RjIP"
      },
      "source": [
        "## 權重初始化"
      ]
    },
    {
      "cell_type": "markdown",
      "metadata": {
        "id": "p3VMPT2kRjIQ"
      },
      "source": [
        "1. RandomNormal (std 1 )"
      ]
    },
    {
      "cell_type": "code",
      "metadata": {
        "id": "et1Ao-13RjIQ"
      },
      "source": [
        "inputs = keras.Input(shape=(100,))\n",
        "x1 = layers.Dense(100, 'sigmoid', False, initializers.RandomNormal(0, 1))(inputs)\n",
        "x2 = layers.Dense(100, 'sigmoid', False, initializers.RandomNormal(0, 1))(x1)\n",
        "x3 = layers.Dense(100, 'sigmoid', False, initializers.RandomNormal(0, 1))(x2)\n",
        "x4 = layers.Dense(100, 'sigmoid', False, initializers.RandomNormal(0, 1))(x3)\n",
        "x5 = layers.Dense(100, 'sigmoid', False, initializers.RandomNormal(0, 1))(x4)\n",
        "model_1 = keras.Model(inputs, [x1, x2, x3, x4, x5])"
      ],
      "execution_count": null,
      "outputs": []
    },
    {
      "cell_type": "code",
      "metadata": {
        "colab": {
          "base_uri": "https://localhost:8080/",
          "height": 281
        },
        "id": "5rcTLbTERjIR",
        "scrolled": true,
        "outputId": "bf329110-349a-4bbb-bb6c-92c4d027fd14"
      },
      "source": [
        "x = np.random.randn(100, 100)\n",
        "outputs = model_1.predict(x)\n",
        "for i, layer_output in enumerate(outputs):\n",
        "    plt.subplot(1, 5, i+1)  # 選擇顯示在表中的哪個格子裡\n",
        "    plt.title(str(i+1) + \"-layer\")  # 設定值方圖的標題\n",
        "    if i != 0: plt.yticks([], [])  # 只顯示第一列值方圖的y軸\n",
        "    plt.hist(layer_output.flatten(), 30, range=[0,1])  # 畫出值方圖\n",
        "plt.show()"
      ],
      "execution_count": null,
      "outputs": [
        {
          "output_type": "display_data",
          "data": {
            "image/png": "[encoded data removed]",
            "text/plain": [
              "<Figure size 432x288 with 5 Axes>"
            ]
          },
          "metadata": {
            "tags": []
          }
        }
      ]
    },
    {
      "cell_type": "markdown",
      "metadata": {
        "id": "GLbTGwJYRjIS"
      },
      "source": [
        "2. RandomNormal (std 0.05 )"
      ]
    },
    {
      "cell_type": "code",
      "metadata": {
        "id": "7VrZBpxMRjIS"
      },
      "source": [
        "inputs = keras.Input(shape=(100,))\n",
        "x1 = layers.Dense(100, 'sigmoid', False, initializers.RandomNormal(0, 0.01))(inputs)\n",
        "x2 = layers.Dense(100, 'sigmoid', False, initializers.RandomNormal(0, 0.01))(x1)\n",
        "x3 = layers.Dense(100, 'sigmoid', False, initializers.RandomNormal(0, 0.01))(x2)\n",
        "x4 = layers.Dense(100, 'sigmoid', False, initializers.RandomNormal(0, 0.01))(x3)\n",
        "x5 = layers.Dense(100, 'sigmoid', False, initializers.RandomNormal(0, 0.01))(x4)\n",
        "model_2 = keras.Model(inputs, [x1, x2, x3, x4, x5])"
      ],
      "execution_count": null,
      "outputs": []
    },
    {
      "cell_type": "code",
      "metadata": {
        "colab": {
          "base_uri": "https://localhost:8080/",
          "height": 281
        },
        "id": "AtTcxK8WRjIT",
        "outputId": "ce047b1b-3dd3-4e90-d64e-53a406611a61"
      },
      "source": [
        "x = np.random.randn(100, 100)\n",
        "outputs = model_2.predict(x)\n",
        "for i, layer_output in enumerate(outputs):\n",
        "    plt.subplot(1, 5, i+1)  # 選擇顯示在表中的哪個格子裡\n",
        "    plt.title(str(i+1) + \"-layer\")  # 設定值方圖的標題\n",
        "    if i != 0: plt.yticks([], [])  # 只顯示第一列值方圖的y軸\n",
        "    plt.hist(layer_output.flatten(), 30, range=[0,1])  # 畫出值方圖\n",
        "plt.show()"
      ],
      "execution_count": null,
      "outputs": [
        {
          "output_type": "display_data",
          "data": {
            "image/png": "[encoded data removed]",
            "text/plain": [
              "<Figure size 432x288 with 5 Axes>"
            ]
          },
          "metadata": {
            "tags": []
          }
        }
      ]
    },
    {
      "cell_type": "markdown",
      "metadata": {
        "id": "D5CRJp0oRjIT"
      },
      "source": [
        "3. Xavier/Glorot Initialization (Sigmoid)"
      ]
    },
    {
      "cell_type": "code",
      "metadata": {
        "id": "g8zwoCewRjIU"
      },
      "source": [
        "inputs = keras.Input(shape=(100,))\n",
        "x1 = layers.Dense(100, 'sigmoid', False, initializers.glorot_normal())(inputs)\n",
        "x2 = layers.Dense(100, 'sigmoid', False, initializers.glorot_normal())(x1)\n",
        "x3 = layers.Dense(100, 'sigmoid', False, initializers.glorot_normal())(x2)\n",
        "x4 = layers.Dense(100, 'sigmoid', False, initializers.glorot_normal())(x3)\n",
        "x5 = layers.Dense(100, 'sigmoid', False, initializers.glorot_normal())(x4)\n",
        "model_3 = keras.Model(inputs, [x1, x2, x3, x4, x5])"
      ],
      "execution_count": null,
      "outputs": []
    },
    {
      "cell_type": "code",
      "metadata": {
        "colab": {
          "base_uri": "https://localhost:8080/",
          "height": 281
        },
        "id": "BwASKZkLRjIU",
        "outputId": "a9c3efb0-3dd5-40c3-92bf-88ff786a60ad"
      },
      "source": [
        "x = np.random.randn(100, 100)\n",
        "outputs = model_3.predict(x)\n",
        "for i, layer_output in enumerate(outputs):\n",
        "    plt.subplot(1, 5, i+1)  # 選擇顯示在表中的哪個格子裡\n",
        "    plt.title(str(i+1) + \"-layer\")  # 設定值方圖的標題\n",
        "    if i != 0: plt.yticks([], [])  # 只顯示第一列值方圖的y軸\n",
        "    plt.hist(layer_output.flatten(), 30, range=[0,1])  # 畫出值方圖\n",
        "plt.show()"
      ],
      "execution_count": null,
      "outputs": [
        {
          "output_type": "display_data",
          "data": {
            "image/png": "[encoded data removed]",
            "text/plain": [
              "<Figure size 432x288 with 5 Axes>"
            ]
          },
          "metadata": {
            "tags": []
          }
        }
      ]
    },
    {
      "cell_type": "markdown",
      "metadata": {
        "id": "4p8KPLzoRjIV"
      },
      "source": [
        "4. Xavier/Glorot Initialization (ReLU)"
      ]
    },
    {
      "cell_type": "code",
      "metadata": {
        "id": "42RT3GZ7RjIV"
      },
      "source": [
        "inputs = keras.Input(shape=(100,))\n",
        "x1 = layers.Dense(100, 'relu', False, initializers.glorot_normal())(inputs)\n",
        "x2 = layers.Dense(100, 'relu', False, initializers.glorot_normal())(x1)\n",
        "x3 = layers.Dense(100, 'relu', False, initializers.glorot_normal())(x2)\n",
        "x4 = layers.Dense(100, 'relu', False, initializers.glorot_normal())(x3)\n",
        "x5 = layers.Dense(100, 'relu', False, initializers.glorot_normal())(x4)\n",
        "model_4 = keras.Model(inputs, [x1, x2, x3, x4, x5])"
      ],
      "execution_count": null,
      "outputs": []
    },
    {
      "cell_type": "code",
      "metadata": {
        "colab": {
          "base_uri": "https://localhost:8080/",
          "height": 281
        },
        "id": "0I1Z_PpCRjIX",
        "outputId": "4d74ca57-94b4-4188-ba22-5427d0ec7086"
      },
      "source": [
        "x = np.random.randn(100, 100)\n",
        "outputs = model_4.predict(x)\n",
        "for i, layer_output in enumerate(outputs):\n",
        "    plt.subplot(1, 5, i+1)  # 選擇顯示在表中的哪個格子裡\n",
        "    plt.title(str(i+1) + \"-layer\")  # 設定值方圖的標題\n",
        "    if i != 0: plt.yticks([], [])  # 只顯示第一列值方圖的y軸\n",
        "    plt.hist(layer_output.flatten(), 30, range=[0,1])  # 畫出值方圖\n",
        "plt.show()"
      ],
      "execution_count": null,
      "outputs": [
        {
          "output_type": "display_data",
          "data": {
            "image/png": "[encoded data removed]",
            "text/plain": [
              "<Figure size 432x288 with 5 Axes>"
            ]
          },
          "metadata": {
            "tags": []
          }
        }
      ]
    },
    {
      "cell_type": "markdown",
      "metadata": {
        "id": "mYjneuJIRjIX"
      },
      "source": [
        "5. He initialization"
      ]
    },
    {
      "cell_type": "code",
      "metadata": {
        "id": "DUcv2pwdRjIY"
      },
      "source": [
        "inputs = keras.Input(shape=(100,))\n",
        "x1 = layers.Dense(100, 'relu', False, initializers.he_normal())(inputs)\n",
        "x2 = layers.Dense(100, 'relu', False, initializers.he_normal())(x1)\n",
        "x3 = layers.Dense(100, 'relu', False, initializers.he_normal())(x2)\n",
        "x4 = layers.Dense(100, 'relu', False, initializers.he_normal())(x3)\n",
        "x5 = layers.Dense(100, 'relu', False, initializers.he_normal())(x4)\n",
        "model_5 = keras.Model(inputs, [x1, x2, x3, x4, x5])"
      ],
      "execution_count": null,
      "outputs": []
    },
    {
      "cell_type": "code",
      "metadata": {
        "colab": {
          "base_uri": "https://localhost:8080/",
          "height": 281
        },
        "id": "XLZ9botoRjIY",
        "outputId": "97b87552-54b6-4d8c-88c7-c0eb83aad50f"
      },
      "source": [
        "x = np.random.randn(100, 100)\n",
        "outputs = model_5.predict(x)\n",
        "for i, layer_output in enumerate(outputs):\n",
        "    plt.subplot(1, 5, i+1)  # 選擇顯示在表中的哪個格子裡\n",
        "    plt.title(str(i+1) + \"-layer\")  # 設定值方圖的標題\n",
        "    if i != 0: plt.yticks([], [])  # 只顯示第一列值方圖的y軸\n",
        "    plt.hist(layer_output.flatten(), 30, range=[0,1])  # 畫出值方圖\n",
        "plt.show()"
      ],
      "execution_count": null,
      "outputs": [
        {
          "output_type": "display_data",
          "data": {
            "image/png": "[encoded data removed]",
            "text/plain": [
              "<Figure size 432x288 with 5 Axes>"
            ]
          },
          "metadata": {
            "tags": []
          }
        }
      ]
    },
    {
      "cell_type": "markdown",
      "metadata": {
        "id": "uQH0JAKeRjIZ"
      },
      "source": [
        "# 實驗一：使用CIFAR-10數據集實驗證三種權重初始化方法"
      ]
    },
    {
      "cell_type": "markdown",
      "metadata": {
        "id": "cKo7MxFhRjIZ"
      },
      "source": [
        "### Import必要套件"
      ]
    },
    {
      "cell_type": "code",
      "metadata": {
        "id": "P5BOQUVDRjIa"
      },
      "source": [
        "import os\n",
        "import numpy as np\n",
        "import pandas as pd\n",
        "import tensorflow as tf\n",
        "import tensorflow_datasets as tfds\n",
        "import matplotlib.pyplot as plt\n",
        "from tensorflow import keras\n",
        "from tensorflow.keras import layers\n",
        "from tensorflow.keras import initializers \n",
        "# 從資料夾中的preprocessing.py檔案中Import parse_aug_fn和parse_fn函數\n",
        "from preprocessing import parse_aug_fn, parse_fn"
      ],
      "execution_count": null,
      "outputs": []
    },
    {
      "cell_type": "markdown",
      "metadata": {
        "id": "i0-mXAR6RjIa"
      },
      "source": [
        "### 讀取數據並分析\n",
        "載入Cifar10數據集："
      ]
    },
    {
      "cell_type": "code",
      "metadata": {
        "colab": {
          "background_save": true,
          "base_uri": "https://localhost:8080/",
          "height": 287,
          "referenced_widgets": [
            "419ee01720c1471b9582031e7f8f5101",
            "9d0976e4a134458d8ab88007b79ab41e",
            "b63d8e30f2924e72a4b65aa5e8da7270",
            "6c46039e904c4eada7684ffdff2ca0e9",
            "dfa9eee07602446d9921b540010734f5",
            "7cec81298e8d4141b36a1b1b4df65be5",
            "7ddae43f3415422397b0aa5f0cdee168",
            "1bf82ce1340a4325be653402626bc9fd",
            "e6e1714443614a19b98228e6737becb9",
            "c2641bc0cd42466e8739ae661586b5b3",
            "d8f72b2380d14f579a391c3c7c32fbcf",
            "a07e6eb444e742b8bf697f19cadcee03",
            "2e4c04957ff144e59bfcb9254bfea146",
            "bf78b2cfd01b4cb3bb03d48962a160a8",
            "b4d1b868264b4f7da86556a147cbe7fb",
            "47fa155c235c40c0b3cd20993b4879f3",
            "be196416695a4f698f143da3dd28d07f",
            "e9cd6e26654d4ac5b877617ee56ff8a7",
            "a4b0165f80554a5baac6fe911659a33a",
            "ba7ecf5794e740fa92d2a5c5f0eba910",
            "7eb0681e45964b30a719f756975ef79d",
            "26364f8865284d929c21e605ec78b026",
            "63d72e686a4a4b4cb5e48f3334203cda",
            "a8f4da5acb734761ad71f04c35abc73c",
            "dd7dc42485714e98a30662698ed23463",
            "6e1882f867bf46c89ea899cd63f302bb",
            "e0031dc3e99e45c7a75204ec38e9c503",
            "302c1f1ca87947aeaaf54226edb07f3c",
            "45d87bb76fcf4f4e9a4c4fb4273aefc0",
            "bb4d649c167b47e4a021cedf32651fd1",
            "5ef1fea840514aa4aae005579f6fe2f7",
            "4ccdb9f3338e4f098aa7c2c84e981739",
            "9fb92ce9b18d4e9c8415643d52350b46",
            "50aa529304cc4c6eb79599e4c9661b56",
            "04c316e9d6ac45fe9184cbbdc04be227"
          ]
        },
        "id": "8IiL5E91RjIb",
        "outputId": "28d1fd9f-8ec8-490e-d7f3-49b4e769d545"
      },
      "source": [
        "# 將train Data重新分成9:1等分，分別分給train data, valid data\n",
        "train_split, valid_split = ['train[:90%]', 'train[90%:]']\n",
        "# 取得訓練數據，並順便讀取data的資訊\n",
        "train_data, info = tfds.load(\"cifar10\", split=train_split, with_info=True, data_dir='/home/share/dataset/tensorflow-datasets')\n",
        "# 取得驗證數據\n",
        "valid_data = tfds.load(\"cifar10\", split=valid_split, data_dir='/home/share/dataset/tensorflow-datasets')\n",
        "# 取得測試數據\n",
        "test_data = tfds.load(\"cifar10\", split=tfds.Split.TEST, data_dir='/home/share/dataset/tensorflow-datasets')"
      ],
      "execution_count": null,
      "outputs": [
        {
          "output_type": "stream",
          "text": [
            "\u001b[1mDownloading and preparing dataset cifar10/3.0.2 (download: 162.17 MiB, generated: 132.40 MiB, total: 294.58 MiB) to /home/share/dataset/tensorflow-datasets/cifar10/3.0.2...\u001b[0m\n"
          ],
          "name": "stdout"
        },
        {
          "output_type": "display_data",
          "data": {
            "application/vnd.jupyter.widget-view+json": {
              "model_id": "419ee01720c1471b9582031e7f8f5101",
              "version_major": 2,
              "version_minor": 0
            },
            "text/plain": [
              "HBox(children=(FloatProgress(value=1.0, bar_style='info', description='Dl Completed...', max=1.0, style=Progre…"
            ]
          },
          "metadata": {
            "tags": []
          }
        },
        {
          "output_type": "display_data",
          "data": {
            "application/vnd.jupyter.widget-view+json": {
              "model_id": "e6e1714443614a19b98228e6737becb9",
              "version_major": 2,
              "version_minor": 0
            },
            "text/plain": [
              "HBox(children=(FloatProgress(value=1.0, bar_style='info', description='Dl Size...', max=1.0, style=ProgressSty…"
            ]
          },
          "metadata": {
            "tags": []
          }
        },
        {
          "output_type": "display_data",
          "data": {
            "application/vnd.jupyter.widget-view+json": {
              "model_id": "be196416695a4f698f143da3dd28d07f",
              "version_major": 2,
              "version_minor": 0
            },
            "text/plain": [
              "HBox(children=(FloatProgress(value=1.0, bar_style='info', description='Extraction completed...', max=1.0, styl…"
            ]
          },
          "metadata": {
            "tags": []
          }
        },
        {
          "output_type": "stream",
          "text": [
            "\n",
            "\n",
            "\n",
            "\n",
            "\n",
            "\n"
          ],
          "name": "stdout"
        },
        {
          "output_type": "display_data",
          "data": {
            "application/vnd.jupyter.widget-view+json": {
              "model_id": "dd7dc42485714e98a30662698ed23463",
              "version_major": 2,
              "version_minor": 0
            },
            "text/plain": [
              "HBox(children=(FloatProgress(value=1.0, bar_style='info', max=1.0), HTML(value='')))"
            ]
          },
          "metadata": {
            "tags": []
          }
        },
        {
          "output_type": "stream",
          "text": [
            "\rShuffling and writing examples to /home/share/dataset/tensorflow-datasets/cifar10/3.0.2.incompleteTOU375/cifar10-train.tfrecord\n"
          ],
          "name": "stdout"
        },
        {
          "output_type": "display_data",
          "data": {
            "application/vnd.jupyter.widget-view+json": {
              "model_id": "9fb92ce9b18d4e9c8415643d52350b46",
              "version_major": 2,
              "version_minor": 0
            },
            "text/plain": [
              "HBox(children=(FloatProgress(value=0.0, max=50000.0), HTML(value='')))"
            ]
          },
          "metadata": {
            "tags": []
          }
        },
        {
          "output_type": "stream",
          "text": [
            "\r"
          ],
          "name": "stdout"
        },
        {
          "output_type": "display_data",
          "data": {
            "application/vnd.jupyter.widget-view+json": {
              "model_id": "50aa529304cc4c6eb79599e4c9661b56",
              "version_major": 2,
              "version_minor": 0
            },
            "text/plain": [
              "HBox(children=(FloatProgress(value=1.0, bar_style='info', max=1.0), HTML(value='')))"
            ]
          },
          "metadata": {
            "tags": []
          }
        },
        {
          "output_type": "stream",
          "text": [
            "\rShuffling and writing examples to /home/share/dataset/tensorflow-datasets/cifar10/3.0.2.incompleteTOU375/cifar10-test.tfrecord\n"
          ],
          "name": "stdout"
        },
        {
          "output_type": "display_data",
          "data": {
            "application/vnd.jupyter.widget-view+json": {
              "model_id": "04c316e9d6ac45fe9184cbbdc04be227",
              "version_major": 2,
              "version_minor": 0
            },
            "text/plain": [
              "HBox(children=(FloatProgress(value=0.0, max=10000.0), HTML(value='')))"
            ]
          },
          "metadata": {
            "tags": []
          }
        },
        {
          "output_type": "stream",
          "text": [
            "\u001b[1mDataset cifar10 downloaded and prepared to /home/share/dataset/tensorflow-datasets/cifar10/3.0.2. Subsequent calls will reuse this data.\u001b[0m\n"
          ],
          "name": "stdout"
        }
      ]
    },
    {
      "cell_type": "markdown",
      "metadata": {
        "id": "sVDmuJEVRjIb"
      },
      "source": [
        "### Dataset 設定"
      ]
    },
    {
      "cell_type": "code",
      "metadata": {
        "id": "wexFHQwVRjIb"
      },
      "source": [
        "AUTOTUNE = tf.data.experimental.AUTOTUNE  # 自動調整模式\n",
        "batch_size = 64  # 批次大小\n",
        "train_num = int(info.splits['train'].num_examples / 10) * 9  # 訓練資料數量\n",
        "\n",
        "train_data = train_data.shuffle(train_num)  # 打散資料集\n",
        "# 載入預處理「 parse_aug_fn」function，cpu數量為自動調整模式\n",
        "train_data = train_data.map(map_func=parse_aug_fn, num_parallel_calls=AUTOTUNE)\n",
        "# 設定批次大小並將prefetch模式開啟(暫存空間為自動調整模式)\n",
        "train_data = train_data.batch(batch_size).prefetch(buffer_size=AUTOTUNE)\n",
        "\n",
        "# 載入預處理「 parse_fn」function，cpu數量為自動調整模式\n",
        "valid_data = valid_data.map(map_func=parse_fn, num_parallel_calls=AUTOTUNE)\n",
        "# 設定批次大小並將prefetch模式開啟(暫存空間為自動調整模式)\n",
        "valid_data = valid_data.batch(batch_size).prefetch(buffer_size=AUTOTUNE)\n",
        "\n",
        "# 載入預處理「 parse_fn」function，cpu數量為自動調整模式\n",
        "test_data = test_data.map(map_func=parse_fn, num_parallel_calls=AUTOTUNE)\n",
        "# 設定批次大小並將prefetch模式開啟(暫存空間為自動調整模式)\n",
        "test_data = test_data.batch(batch_size).prefetch(buffer_size=AUTOTUNE)"
      ],
      "execution_count": null,
      "outputs": []
    },
    {
      "cell_type": "markdown",
      "metadata": {
        "id": "FtOorAM7RjIc"
      },
      "source": [
        "### 訓練網路模型"
      ]
    },
    {
      "cell_type": "code",
      "metadata": {
        "id": "B2gkhf3jRjIc"
      },
      "source": [
        "def build_and_train_model(run_name, init):\n",
        "    \"\"\"\n",
        "    run_name:傳入目前執行的任務名子\n",
        "    init:傳入網路層初始化化的方式\n",
        "    \"\"\"\n",
        "    inputs = keras.Input(shape=(32, 32, 3))\n",
        "    x = layers.Conv2D(64, (3, 3), activation='relu', kernel_initializer=init)(inputs)\n",
        "    x = layers.MaxPool2D()(x)\n",
        "    x = layers.Conv2D(128, (3, 3), activation='relu', kernel_initializer=init)(x)\n",
        "    x = layers.Conv2D(256, (3, 3), activation='relu', kernel_initializer=init)(x)\n",
        "    x = layers.Conv2D(128, (3, 3), activation='relu', kernel_initializer=init)(x)\n",
        "    x = layers.Conv2D(64, (3, 3), activation='relu', kernel_initializer=init)(x)\n",
        "    x = layers.Flatten()(x)\n",
        "    x = layers.Dense(64, activation='relu', kernel_initializer=init)(x)\n",
        "    x = layers.Dropout(0.5)(x)\n",
        "    outputs = layers.Dense(10, activation='softmax')(x)\n",
        "    # 建立網路模型(將輸入到輸出所有經過的網路層連接起來)\n",
        "    model = keras.Model(inputs, outputs)\n",
        "    \n",
        "    # 儲存訓練記錄檔\n",
        "    logfiles = 'lab5-logs/{}-{}'.format(run_name, init.__class__.__name__)\n",
        "    model_cbk = keras.callbacks.TensorBoard(log_dir=logfiles, \n",
        "                                            histogram_freq=1)\n",
        "    # 儲存最好的網路模型權重\n",
        "    modelfiles = model_dir + '/{}-best-model.h5'.format(run_name)\n",
        "    model_mckp = keras.callbacks.ModelCheckpoint(modelfiles, \n",
        "                                                 monitor='val_categorical_accuracy', \n",
        "                                                 save_best_only=True, \n",
        "                                                 mode='max')\n",
        "    \n",
        "    # 設定訓練使用的優化器、損失函數和指標函數\n",
        "    model.compile(keras.optimizers.Adam(), \n",
        "               loss=keras.losses.CategoricalCrossentropy(), \n",
        "               metrics=[keras.metrics.CategoricalAccuracy()])\n",
        "    \n",
        "    # 訓練網路模型\n",
        "    model.fit(train_data,\n",
        "              epochs=100, \n",
        "              validation_data=valid_data,\n",
        "              callbacks=[model_cbk, model_mckp])"
      ],
      "execution_count": null,
      "outputs": []
    },
    {
      "cell_type": "code",
      "metadata": {
        "id": "brS8mOmNRjId",
        "scrolled": true,
        "outputId": "186ee8f7-f8c0-4c5e-9476-f26f74c114e3"
      },
      "source": [
        "session_num = 1\n",
        "# 設定儲存權重目錄\n",
        "model_dir = 'lab5-logs/models/'\n",
        "os.makedirs(model_dir)\n",
        "# 設定要測試的三種初始化方法\n",
        "weights_initialization_list = [initializers.RandomNormal(0, 0.01),\n",
        "                        initializers.glorot_normal(),\n",
        "                        initializers.he_normal()]\n",
        "\n",
        "for init in weights_initialization_list:\n",
        "    print('--- Running training session %d' % (session_num))\n",
        "    run_name = \"run-%d\" % session_num\n",
        "    build_and_train_model(run_name, init)  # 創建和訓練網路\n",
        "    session_num += 1"
      ],
      "execution_count": null,
      "outputs": [
        {
          "output_type": "stream",
          "text": [
            "--- Running training session 1\n",
            "Epoch 1/100\n"
          ],
          "name": "stdout"
        },
        {
          "output_type": "stream",
          "text": [
            "WARNING: Logging before flag parsing goes to stderr.\n",
            "W0613 17:04:39.261276 140675303655232 deprecation.py:323] From /usr/local/lib/python3.6/dist-packages/tensorflow/python/ops/math_grad.py:1250: add_dispatch_support.<locals>.wrapper (from tensorflow.python.ops.array_ops) is deprecated and will be removed in a future version.\n",
            "Instructions for updating:\n",
            "Use tf.where in 2.0, which has the same broadcast rule as np.where\n"
          ],
          "name": "stderr"
        },
        {
          "output_type": "stream",
          "text": [
            "\r      1/Unknown - 8s 8s/step - loss: 2.3026 - categorical_accuracy: 0.1406"
          ],
          "name": "stdout"
        },
        {
          "output_type": "stream",
          "text": [
            "W0613 17:04:44.289539 140675303655232 callbacks.py:241] Method (on_train_batch_end) is slow compared to the batch update (0.109824). Check your callbacks.\n"
          ],
          "name": "stderr"
        },
        {
          "output_type": "stream",
          "text": [
            "704/704 [==============================] - 21s 30ms/step - loss: 2.1710 - categorical_accuracy: 0.1678 - val_loss: 0.0000e+00 - val_categorical_accuracy: 0.0000e+00\n",
            "Epoch 2/100\n",
            "704/704 [==============================] - 13s 18ms/step - loss: 2.0251 - categorical_accuracy: 0.2390 - val_loss: 1.9204 - val_categorical_accuracy: 0.2906\n",
            "Epoch 3/100\n",
            "704/704 [==============================] - 14s 20ms/step - loss: 1.9734 - categorical_accuracy: 0.2678 - val_loss: 1.8632 - val_categorical_accuracy: 0.3286\n",
            "Epoch 4/100\n",
            "704/704 [==============================] - 12s 18ms/step - loss: 1.9029 - categorical_accuracy: 0.2937 - val_loss: 1.7494 - val_categorical_accuracy: 0.3642\n",
            "Epoch 5/100\n",
            "704/704 [==============================] - 12s 17ms/step - loss: 1.8575 - categorical_accuracy: 0.3144 - val_loss: 1.6670 - val_categorical_accuracy: 0.3848\n",
            "Epoch 6/100\n",
            "704/704 [==============================] - 15s 21ms/step - loss: 1.8234 - categorical_accuracy: 0.3293 - val_loss: 1.5896 - val_categorical_accuracy: 0.4026\n",
            "Epoch 7/100\n",
            "704/704 [==============================] - 13s 19ms/step - loss: 1.7821 - categorical_accuracy: 0.3475 - val_loss: 1.6108 - val_categorical_accuracy: 0.4154\n",
            "Epoch 8/100\n",
            "704/704 [==============================] - 20s 29ms/step - loss: 1.7565 - categorical_accuracy: 0.3568 - val_loss: 1.5481 - val_categorical_accuracy: 0.4398\n",
            "Epoch 9/100\n",
            "704/704 [==============================] - 18s 26ms/step - loss: 1.7224 - categorical_accuracy: 0.3690 - val_loss: 1.5207 - val_categorical_accuracy: 0.4456\n",
            "Epoch 10/100\n",
            "704/704 [==============================] - 19s 26ms/step - loss: 1.7016 - categorical_accuracy: 0.3808 - val_loss: 1.4264 - val_categorical_accuracy: 0.4810\n",
            "Epoch 11/100\n",
            "704/704 [==============================] - 19s 26ms/step - loss: 1.6823 - categorical_accuracy: 0.3862 - val_loss: 1.4268 - val_categorical_accuracy: 0.4870\n",
            "Epoch 12/100\n",
            "704/704 [==============================] - 18s 26ms/step - loss: 1.6656 - categorical_accuracy: 0.3921 - val_loss: 1.4152 - val_categorical_accuracy: 0.4960\n",
            "Epoch 13/100\n",
            "704/704 [==============================] - 19s 28ms/step - loss: 1.6488 - categorical_accuracy: 0.4019 - val_loss: 1.3920 - val_categorical_accuracy: 0.5006\n",
            "Epoch 14/100\n",
            "704/704 [==============================] - 18s 26ms/step - loss: 1.6315 - categorical_accuracy: 0.4070 - val_loss: 1.4123 - val_categorical_accuracy: 0.4926\n",
            "Epoch 15/100\n",
            "704/704 [==============================] - 19s 26ms/step - loss: 1.6078 - categorical_accuracy: 0.4160 - val_loss: 1.3274 - val_categorical_accuracy: 0.5180\n",
            "Epoch 16/100\n",
            "704/704 [==============================] - 19s 26ms/step - loss: 1.5962 - categorical_accuracy: 0.4195 - val_loss: 1.3326 - val_categorical_accuracy: 0.5226\n",
            "Epoch 17/100\n",
            "704/704 [==============================] - 20s 29ms/step - loss: 1.5773 - categorical_accuracy: 0.4286 - val_loss: 1.3822 - val_categorical_accuracy: 0.5120\n",
            "Epoch 18/100\n",
            "704/704 [==============================] - 19s 28ms/step - loss: 1.5548 - categorical_accuracy: 0.4438 - val_loss: 1.2726 - val_categorical_accuracy: 0.5384\n",
            "Epoch 19/100\n",
            "704/704 [==============================] - 18s 26ms/step - loss: 1.5436 - categorical_accuracy: 0.4456 - val_loss: 1.2957 - val_categorical_accuracy: 0.5330\n",
            "Epoch 20/100\n",
            "704/704 [==============================] - 19s 26ms/step - loss: 1.5322 - categorical_accuracy: 0.4512 - val_loss: 1.2457 - val_categorical_accuracy: 0.5642\n",
            "Epoch 21/100\n",
            "704/704 [==============================] - 19s 26ms/step - loss: 1.5146 - categorical_accuracy: 0.4569 - val_loss: 1.2802 - val_categorical_accuracy: 0.5428\n",
            "Epoch 22/100\n",
            "704/704 [==============================] - 19s 26ms/step - loss: 1.5033 - categorical_accuracy: 0.4643 - val_loss: 1.2673 - val_categorical_accuracy: 0.5478\n",
            "Epoch 23/100\n",
            "704/704 [==============================] - 18s 26ms/step - loss: 1.4856 - categorical_accuracy: 0.4706 - val_loss: 1.2134 - val_categorical_accuracy: 0.5682\n",
            "Epoch 24/100\n",
            "704/704 [==============================] - 19s 27ms/step - loss: 1.4795 - categorical_accuracy: 0.4712 - val_loss: 1.1995 - val_categorical_accuracy: 0.5720\n",
            "Epoch 25/100\n",
            "704/704 [==============================] - 19s 26ms/step - loss: 1.4663 - categorical_accuracy: 0.4766 - val_loss: 1.2097 - val_categorical_accuracy: 0.5768\n",
            "Epoch 26/100\n",
            "704/704 [==============================] - 19s 26ms/step - loss: 1.4518 - categorical_accuracy: 0.4868 - val_loss: 1.1449 - val_categorical_accuracy: 0.5902\n",
            "Epoch 27/100\n",
            "704/704 [==============================] - 19s 26ms/step - loss: 1.4378 - categorical_accuracy: 0.4898 - val_loss: 1.1387 - val_categorical_accuracy: 0.5944\n",
            "Epoch 28/100\n",
            "704/704 [==============================] - 19s 26ms/step - loss: 1.4359 - categorical_accuracy: 0.4914 - val_loss: 1.1378 - val_categorical_accuracy: 0.5940\n",
            "Epoch 29/100\n",
            "704/704 [==============================] - 19s 27ms/step - loss: 1.4237 - categorical_accuracy: 0.4952 - val_loss: 1.1508 - val_categorical_accuracy: 0.5922\n",
            "Epoch 30/100\n",
            "704/704 [==============================] - 19s 26ms/step - loss: 1.4220 - categorical_accuracy: 0.4989 - val_loss: 1.1676 - val_categorical_accuracy: 0.5896\n",
            "Epoch 31/100\n",
            "704/704 [==============================] - 19s 27ms/step - loss: 1.4000 - categorical_accuracy: 0.5029 - val_loss: 1.1343 - val_categorical_accuracy: 0.6042\n",
            "Epoch 32/100\n",
            "704/704 [==============================] - 19s 27ms/step - loss: 1.4019 - categorical_accuracy: 0.5063 - val_loss: 1.1353 - val_categorical_accuracy: 0.5956\n",
            "Epoch 33/100\n",
            "704/704 [==============================] - 19s 26ms/step - loss: 1.3906 - categorical_accuracy: 0.5080 - val_loss: 1.0854 - val_categorical_accuracy: 0.6176\n",
            "Epoch 34/100\n",
            "704/704 [==============================] - 19s 27ms/step - loss: 1.3845 - categorical_accuracy: 0.5109 - val_loss: 1.0918 - val_categorical_accuracy: 0.6164\n",
            "Epoch 35/100\n",
            "704/704 [==============================] - 19s 26ms/step - loss: 1.3802 - categorical_accuracy: 0.5109 - val_loss: 1.1117 - val_categorical_accuracy: 0.6128\n",
            "Epoch 36/100\n",
            "704/704 [==============================] - 19s 27ms/step - loss: 1.3649 - categorical_accuracy: 0.5173 - val_loss: 1.0851 - val_categorical_accuracy: 0.6116\n",
            "Epoch 37/100\n",
            "704/704 [==============================] - 19s 27ms/step - loss: 1.3629 - categorical_accuracy: 0.5198 - val_loss: 1.1114 - val_categorical_accuracy: 0.6098\n",
            "Epoch 38/100\n",
            "704/704 [==============================] - 19s 27ms/step - loss: 1.3532 - categorical_accuracy: 0.5234 - val_loss: 1.0505 - val_categorical_accuracy: 0.6258\n",
            "Epoch 39/100\n",
            "704/704 [==============================] - 19s 27ms/step - loss: 1.3480 - categorical_accuracy: 0.5255 - val_loss: 1.0703 - val_categorical_accuracy: 0.6234\n",
            "Epoch 40/100\n",
            "704/704 [==============================] - 19s 26ms/step - loss: 1.3537 - categorical_accuracy: 0.5239 - val_loss: 1.0426 - val_categorical_accuracy: 0.6230\n",
            "Epoch 41/100\n",
            "704/704 [==============================] - 19s 27ms/step - loss: 1.3382 - categorical_accuracy: 0.5310 - val_loss: 1.0465 - val_categorical_accuracy: 0.6268\n",
            "Epoch 42/100\n",
            "704/704 [==============================] - 18s 26ms/step - loss: 1.3347 - categorical_accuracy: 0.5321 - val_loss: 1.0033 - val_categorical_accuracy: 0.6368\n",
            "Epoch 43/100\n",
            "704/704 [==============================] - 18s 26ms/step - loss: 1.3281 - categorical_accuracy: 0.5333 - val_loss: 1.0098 - val_categorical_accuracy: 0.6396\n",
            "Epoch 44/100\n",
            "704/704 [==============================] - 18s 26ms/step - loss: 1.3293 - categorical_accuracy: 0.5328 - val_loss: 1.0080 - val_categorical_accuracy: 0.6492\n",
            "Epoch 45/100\n",
            "704/704 [==============================] - 18s 26ms/step - loss: 1.3220 - categorical_accuracy: 0.5392 - val_loss: 1.0960 - val_categorical_accuracy: 0.6152\n",
            "Epoch 46/100\n",
            "704/704 [==============================] - 18s 26ms/step - loss: 1.3107 - categorical_accuracy: 0.5430 - val_loss: 1.0137 - val_categorical_accuracy: 0.6444\n",
            "Epoch 47/100\n",
            "704/704 [==============================] - 18s 26ms/step - loss: 1.3051 - categorical_accuracy: 0.5427 - val_loss: 1.0426 - val_categorical_accuracy: 0.6412\n",
            "Epoch 48/100\n",
            "704/704 [==============================] - 18s 26ms/step - loss: 1.3057 - categorical_accuracy: 0.5451 - val_loss: 1.0318 - val_categorical_accuracy: 0.6324\n",
            "Epoch 49/100\n",
            "704/704 [==============================] - 18s 26ms/step - loss: 1.3015 - categorical_accuracy: 0.5464 - val_loss: 1.0116 - val_categorical_accuracy: 0.6382\n",
            "Epoch 50/100\n",
            "704/704 [==============================] - 18s 26ms/step - loss: 1.2970 - categorical_accuracy: 0.5459 - val_loss: 1.0158 - val_categorical_accuracy: 0.6362\n",
            "Epoch 51/100\n",
            "704/704 [==============================] - 18s 25ms/step - loss: 1.2883 - categorical_accuracy: 0.5511 - val_loss: 1.0333 - val_categorical_accuracy: 0.6268\n",
            "Epoch 52/100\n",
            "704/704 [==============================] - 18s 26ms/step - loss: 1.2887 - categorical_accuracy: 0.5480 - val_loss: 0.9812 - val_categorical_accuracy: 0.6498\n",
            "Epoch 53/100\n",
            "704/704 [==============================] - 18s 26ms/step - loss: 1.2818 - categorical_accuracy: 0.5538 - val_loss: 0.9883 - val_categorical_accuracy: 0.6458\n",
            "Epoch 54/100\n",
            "704/704 [==============================] - 18s 26ms/step - loss: 1.2716 - categorical_accuracy: 0.5600 - val_loss: 0.9852 - val_categorical_accuracy: 0.6514\n",
            "Epoch 55/100\n",
            "704/704 [==============================] - 18s 26ms/step - loss: 1.2701 - categorical_accuracy: 0.5548 - val_loss: 0.9685 - val_categorical_accuracy: 0.6554\n",
            "Epoch 56/100\n",
            "704/704 [==============================] - 18s 26ms/step - loss: 1.2634 - categorical_accuracy: 0.5608 - val_loss: 0.9401 - val_categorical_accuracy: 0.6646\n",
            "Epoch 57/100\n",
            "704/704 [==============================] - 18s 25ms/step - loss: 1.2521 - categorical_accuracy: 0.5645 - val_loss: 0.9460 - val_categorical_accuracy: 0.6590\n",
            "Epoch 58/100\n",
            "704/704 [==============================] - 18s 26ms/step - loss: 1.2484 - categorical_accuracy: 0.5645 - val_loss: 0.9597 - val_categorical_accuracy: 0.6594\n",
            "Epoch 59/100\n",
            "704/704 [==============================] - 18s 26ms/step - loss: 1.2425 - categorical_accuracy: 0.5690 - val_loss: 0.9453 - val_categorical_accuracy: 0.6698\n",
            "Epoch 60/100\n",
            "704/704 [==============================] - 18s 26ms/step - loss: 1.2462 - categorical_accuracy: 0.5653 - val_loss: 0.9501 - val_categorical_accuracy: 0.6680\n",
            "Epoch 61/100\n",
            "704/704 [==============================] - 18s 26ms/step - loss: 1.2407 - categorical_accuracy: 0.5657 - val_loss: 0.9773 - val_categorical_accuracy: 0.6626\n",
            "Epoch 62/100\n",
            "704/704 [==============================] - 18s 26ms/step - loss: 1.2323 - categorical_accuracy: 0.5729 - val_loss: 0.9494 - val_categorical_accuracy: 0.6608\n",
            "Epoch 63/100\n",
            "704/704 [==============================] - 18s 26ms/step - loss: 1.2221 - categorical_accuracy: 0.5758 - val_loss: 1.0108 - val_categorical_accuracy: 0.6494\n",
            "Epoch 64/100\n",
            "704/704 [==============================] - 18s 26ms/step - loss: 1.2245 - categorical_accuracy: 0.5748 - val_loss: 0.9802 - val_categorical_accuracy: 0.6562\n",
            "Epoch 65/100\n",
            "704/704 [==============================] - 18s 26ms/step - loss: 1.2144 - categorical_accuracy: 0.5792 - val_loss: 0.9497 - val_categorical_accuracy: 0.6632\n",
            "Epoch 66/100\n",
            "704/704 [==============================] - 18s 26ms/step - loss: 1.2176 - categorical_accuracy: 0.5785 - val_loss: 0.9376 - val_categorical_accuracy: 0.6674\n",
            "Epoch 67/100\n",
            "704/704 [==============================] - 18s 26ms/step - loss: 1.2126 - categorical_accuracy: 0.5818 - val_loss: 0.8997 - val_categorical_accuracy: 0.6832\n",
            "Epoch 68/100\n",
            "704/704 [==============================] - 18s 26ms/step - loss: 1.2007 - categorical_accuracy: 0.5832 - val_loss: 0.9269 - val_categorical_accuracy: 0.6658\n",
            "Epoch 69/100\n",
            "704/704 [==============================] - 18s 26ms/step - loss: 1.2049 - categorical_accuracy: 0.5803 - val_loss: 0.9121 - val_categorical_accuracy: 0.6784\n",
            "Epoch 70/100\n",
            "704/704 [==============================] - 18s 26ms/step - loss: 1.1972 - categorical_accuracy: 0.5856 - val_loss: 0.9286 - val_categorical_accuracy: 0.6726\n",
            "Epoch 71/100\n",
            "704/704 [==============================] - 18s 26ms/step - loss: 1.1914 - categorical_accuracy: 0.5875 - val_loss: 0.9133 - val_categorical_accuracy: 0.6778\n",
            "Epoch 72/100\n",
            "704/704 [==============================] - 19s 26ms/step - loss: 1.1934 - categorical_accuracy: 0.5862 - val_loss: 0.9425 - val_categorical_accuracy: 0.6702\n",
            "Epoch 73/100\n",
            "704/704 [==============================] - 18s 26ms/step - loss: 1.1910 - categorical_accuracy: 0.5877 - val_loss: 0.9278 - val_categorical_accuracy: 0.6810\n",
            "Epoch 74/100\n",
            "704/704 [==============================] - 19s 26ms/step - loss: 1.1891 - categorical_accuracy: 0.5891 - val_loss: 0.9100 - val_categorical_accuracy: 0.6836\n",
            "Epoch 75/100\n",
            "704/704 [==============================] - 18s 25ms/step - loss: 1.1832 - categorical_accuracy: 0.5922 - val_loss: 0.9070 - val_categorical_accuracy: 0.6796\n",
            "Epoch 76/100\n",
            "704/704 [==============================] - 18s 26ms/step - loss: 1.1792 - categorical_accuracy: 0.5940 - val_loss: 0.8814 - val_categorical_accuracy: 0.6894\n",
            "Epoch 77/100\n",
            "704/704 [==============================] - 18s 26ms/step - loss: 1.1772 - categorical_accuracy: 0.5911 - val_loss: 0.8950 - val_categorical_accuracy: 0.6882\n",
            "Epoch 78/100\n",
            "704/704 [==============================] - 18s 26ms/step - loss: 1.1715 - categorical_accuracy: 0.5966 - val_loss: 0.9444 - val_categorical_accuracy: 0.6684\n",
            "Epoch 79/100\n",
            "704/704 [==============================] - 17s 24ms/step - loss: 1.1712 - categorical_accuracy: 0.5957 - val_loss: 0.8711 - val_categorical_accuracy: 0.6926\n",
            "Epoch 80/100\n",
            "704/704 [==============================] - 18s 26ms/step - loss: 1.1709 - categorical_accuracy: 0.5955 - val_loss: 0.9124 - val_categorical_accuracy: 0.6892\n",
            "Epoch 81/100\n",
            "704/704 [==============================] - 17s 25ms/step - loss: 1.1618 - categorical_accuracy: 0.5952 - val_loss: 0.8953 - val_categorical_accuracy: 0.6864\n",
            "Epoch 82/100\n",
            "704/704 [==============================] - 18s 25ms/step - loss: 1.1615 - categorical_accuracy: 0.5992 - val_loss: 0.8753 - val_categorical_accuracy: 0.6964\n",
            "Epoch 83/100\n",
            "704/704 [==============================] - 18s 25ms/step - loss: 1.1519 - categorical_accuracy: 0.5996 - val_loss: 0.8631 - val_categorical_accuracy: 0.6954\n",
            "Epoch 84/100\n",
            "704/704 [==============================] - 18s 25ms/step - loss: 1.1463 - categorical_accuracy: 0.6028 - val_loss: 0.9441 - val_categorical_accuracy: 0.6770\n",
            "Epoch 85/100\n",
            "704/704 [==============================] - 18s 26ms/step - loss: 1.1436 - categorical_accuracy: 0.6043 - val_loss: 0.8556 - val_categorical_accuracy: 0.6980\n",
            "Epoch 86/100\n",
            "704/704 [==============================] - 18s 25ms/step - loss: 1.1405 - categorical_accuracy: 0.6058 - val_loss: 0.8826 - val_categorical_accuracy: 0.6900\n",
            "Epoch 87/100\n",
            "704/704 [==============================] - 18s 25ms/step - loss: 1.1487 - categorical_accuracy: 0.6058 - val_loss: 0.8952 - val_categorical_accuracy: 0.6836\n",
            "Epoch 88/100\n",
            "704/704 [==============================] - 18s 25ms/step - loss: 1.1499 - categorical_accuracy: 0.6053 - val_loss: 0.8676 - val_categorical_accuracy: 0.6996\n",
            "Epoch 89/100\n",
            "704/704 [==============================] - 18s 26ms/step - loss: 1.1425 - categorical_accuracy: 0.6057 - val_loss: 0.8887 - val_categorical_accuracy: 0.6916\n",
            "Epoch 90/100\n",
            "704/704 [==============================] - 18s 25ms/step - loss: 1.1457 - categorical_accuracy: 0.6052 - val_loss: 0.8705 - val_categorical_accuracy: 0.6956\n",
            "Epoch 91/100\n",
            "704/704 [==============================] - 18s 26ms/step - loss: 1.1357 - categorical_accuracy: 0.6098 - val_loss: 0.8992 - val_categorical_accuracy: 0.6878\n",
            "Epoch 92/100\n",
            "704/704 [==============================] - 18s 26ms/step - loss: 1.1341 - categorical_accuracy: 0.6075 - val_loss: 0.8408 - val_categorical_accuracy: 0.7018\n",
            "Epoch 93/100\n",
            "704/704 [==============================] - 18s 26ms/step - loss: 1.1263 - categorical_accuracy: 0.6119 - val_loss: 0.8750 - val_categorical_accuracy: 0.6924\n",
            "Epoch 94/100\n",
            "704/704 [==============================] - 18s 26ms/step - loss: 1.1312 - categorical_accuracy: 0.6127 - val_loss: 0.8628 - val_categorical_accuracy: 0.7012\n",
            "Epoch 95/100\n",
            "704/704 [==============================] - 18s 26ms/step - loss: 1.1217 - categorical_accuracy: 0.6144 - val_loss: 0.8752 - val_categorical_accuracy: 0.6992\n",
            "Epoch 96/100\n",
            "704/704 [==============================] - 18s 26ms/step - loss: 1.1218 - categorical_accuracy: 0.6145 - val_loss: 0.8474 - val_categorical_accuracy: 0.7024\n",
            "Epoch 97/100\n"
          ],
          "name": "stdout"
        },
        {
          "output_type": "stream",
          "text": [
            "704/704 [==============================] - 17s 25ms/step - loss: 1.1242 - categorical_accuracy: 0.6145 - val_loss: 0.8646 - val_categorical_accuracy: 0.6950\n",
            "Epoch 98/100\n",
            "704/704 [==============================] - 18s 25ms/step - loss: 1.1186 - categorical_accuracy: 0.6142 - val_loss: 0.8909 - val_categorical_accuracy: 0.6882\n",
            "Epoch 99/100\n",
            "704/704 [==============================] - 18s 25ms/step - loss: 1.1222 - categorical_accuracy: 0.6142 - val_loss: 0.8897 - val_categorical_accuracy: 0.6926\n",
            "Epoch 100/100\n",
            "704/704 [==============================] - 18s 26ms/step - loss: 1.1125 - categorical_accuracy: 0.6183 - val_loss: 0.8667 - val_categorical_accuracy: 0.6968\n",
            "--- Running training session 2\n",
            "Epoch 1/100\n",
            "704/704 [==============================] - 21s 30ms/step - loss: 2.0774 - categorical_accuracy: 0.2085 - val_loss: 0.0000e+00 - val_categorical_accuracy: 0.0000e+00\n",
            "Epoch 2/100\n",
            "704/704 [==============================] - 18s 25ms/step - loss: 1.8964 - categorical_accuracy: 0.2985 - val_loss: 1.6081 - val_categorical_accuracy: 0.3986\n",
            "Epoch 3/100\n",
            "704/704 [==============================] - 18s 25ms/step - loss: 1.7686 - categorical_accuracy: 0.3504 - val_loss: 1.4874 - val_categorical_accuracy: 0.4552\n",
            "Epoch 4/100\n",
            "704/704 [==============================] - 18s 25ms/step - loss: 1.6846 - categorical_accuracy: 0.3878 - val_loss: 1.3515 - val_categorical_accuracy: 0.5092\n",
            "Epoch 5/100\n",
            "704/704 [==============================] - 18s 26ms/step - loss: 1.6136 - categorical_accuracy: 0.4179 - val_loss: 1.3012 - val_categorical_accuracy: 0.5224\n",
            "Epoch 6/100\n",
            "704/704 [==============================] - 18s 25ms/step - loss: 1.5563 - categorical_accuracy: 0.4390 - val_loss: 1.2290 - val_categorical_accuracy: 0.5554\n",
            "Epoch 7/100\n",
            "704/704 [==============================] - 18s 25ms/step - loss: 1.5147 - categorical_accuracy: 0.4610 - val_loss: 1.1731 - val_categorical_accuracy: 0.5808\n",
            "Epoch 8/100\n",
            "704/704 [==============================] - 18s 26ms/step - loss: 1.4761 - categorical_accuracy: 0.4753 - val_loss: 1.1142 - val_categorical_accuracy: 0.6072\n",
            "Epoch 9/100\n",
            "704/704 [==============================] - 18s 25ms/step - loss: 1.4376 - categorical_accuracy: 0.4903 - val_loss: 1.0622 - val_categorical_accuracy: 0.6206\n",
            "Epoch 10/100\n",
            "704/704 [==============================] - 18s 26ms/step - loss: 1.4085 - categorical_accuracy: 0.5033 - val_loss: 1.0583 - val_categorical_accuracy: 0.6286\n",
            "Epoch 11/100\n",
            "704/704 [==============================] - 18s 25ms/step - loss: 1.3736 - categorical_accuracy: 0.5155 - val_loss: 1.0470 - val_categorical_accuracy: 0.6278\n",
            "Epoch 12/100\n",
            "704/704 [==============================] - 18s 26ms/step - loss: 1.3615 - categorical_accuracy: 0.5237 - val_loss: 1.0310 - val_categorical_accuracy: 0.6380\n",
            "Epoch 13/100\n",
            "704/704 [==============================] - 18s 26ms/step - loss: 1.3275 - categorical_accuracy: 0.5353 - val_loss: 1.0131 - val_categorical_accuracy: 0.6476\n",
            "Epoch 14/100\n",
            "704/704 [==============================] - 18s 26ms/step - loss: 1.3112 - categorical_accuracy: 0.5433 - val_loss: 1.0577 - val_categorical_accuracy: 0.6218\n",
            "Epoch 15/100\n",
            "704/704 [==============================] - 18s 26ms/step - loss: 1.2875 - categorical_accuracy: 0.5496 - val_loss: 0.9774 - val_categorical_accuracy: 0.6556\n",
            "Epoch 16/100\n",
            "704/704 [==============================] - 18s 25ms/step - loss: 1.2682 - categorical_accuracy: 0.5579 - val_loss: 1.0109 - val_categorical_accuracy: 0.6492\n",
            "Epoch 17/100\n",
            "704/704 [==============================] - 19s 26ms/step - loss: 1.2468 - categorical_accuracy: 0.5663 - val_loss: 0.9823 - val_categorical_accuracy: 0.6490\n",
            "Epoch 18/100\n",
            "704/704 [==============================] - 18s 26ms/step - loss: 1.2256 - categorical_accuracy: 0.5762 - val_loss: 0.9202 - val_categorical_accuracy: 0.6816\n",
            "Epoch 19/100\n",
            "704/704 [==============================] - 18s 26ms/step - loss: 1.2140 - categorical_accuracy: 0.5787 - val_loss: 0.9109 - val_categorical_accuracy: 0.6832\n",
            "Epoch 20/100\n",
            "704/704 [==============================] - 18s 26ms/step - loss: 1.2003 - categorical_accuracy: 0.5820 - val_loss: 0.9068 - val_categorical_accuracy: 0.6808\n",
            "Epoch 21/100\n",
            "704/704 [==============================] - 18s 26ms/step - loss: 1.1759 - categorical_accuracy: 0.5927 - val_loss: 0.8650 - val_categorical_accuracy: 0.7002\n",
            "Epoch 22/100\n",
            "704/704 [==============================] - 18s 26ms/step - loss: 1.1592 - categorical_accuracy: 0.5994 - val_loss: 0.8819 - val_categorical_accuracy: 0.6898\n",
            "Epoch 23/100\n",
            "704/704 [==============================] - 18s 25ms/step - loss: 1.1532 - categorical_accuracy: 0.6034 - val_loss: 0.9206 - val_categorical_accuracy: 0.6762\n",
            "Epoch 24/100\n",
            "704/704 [==============================] - 17s 24ms/step - loss: 1.1285 - categorical_accuracy: 0.6086 - val_loss: 0.8376 - val_categorical_accuracy: 0.7088\n",
            "Epoch 25/100\n",
            "704/704 [==============================] - 17s 24ms/step - loss: 1.1238 - categorical_accuracy: 0.6113 - val_loss: 0.8576 - val_categorical_accuracy: 0.7042\n",
            "Epoch 26/100\n",
            "704/704 [==============================] - 17s 25ms/step - loss: 1.1092 - categorical_accuracy: 0.6197 - val_loss: 0.8653 - val_categorical_accuracy: 0.7016\n",
            "Epoch 27/100\n",
            "704/704 [==============================] - 17s 25ms/step - loss: 1.1000 - categorical_accuracy: 0.6221 - val_loss: 0.8302 - val_categorical_accuracy: 0.7102\n",
            "Epoch 28/100\n",
            "704/704 [==============================] - 17s 24ms/step - loss: 1.0867 - categorical_accuracy: 0.6258 - val_loss: 0.8177 - val_categorical_accuracy: 0.7178\n",
            "Epoch 29/100\n",
            "704/704 [==============================] - 17s 25ms/step - loss: 1.0858 - categorical_accuracy: 0.6291 - val_loss: 0.8451 - val_categorical_accuracy: 0.7092\n",
            "Epoch 30/100\n",
            "704/704 [==============================] - 17s 25ms/step - loss: 1.0751 - categorical_accuracy: 0.6316 - val_loss: 0.8056 - val_categorical_accuracy: 0.7204\n",
            "Epoch 31/100\n",
            "704/704 [==============================] - 18s 25ms/step - loss: 1.0626 - categorical_accuracy: 0.6376 - val_loss: 0.7955 - val_categorical_accuracy: 0.7292\n",
            "Epoch 32/100\n",
            "704/704 [==============================] - 17s 25ms/step - loss: 1.0475 - categorical_accuracy: 0.6390 - val_loss: 0.8721 - val_categorical_accuracy: 0.7088\n",
            "Epoch 33/100\n",
            "704/704 [==============================] - 18s 25ms/step - loss: 1.0520 - categorical_accuracy: 0.6404 - val_loss: 0.7680 - val_categorical_accuracy: 0.7468\n",
            "Epoch 34/100\n",
            "704/704 [==============================] - 18s 25ms/step - loss: 1.0310 - categorical_accuracy: 0.6450 - val_loss: 0.8079 - val_categorical_accuracy: 0.7196\n",
            "Epoch 35/100\n",
            "704/704 [==============================] - 18s 25ms/step - loss: 1.0276 - categorical_accuracy: 0.6495 - val_loss: 0.7694 - val_categorical_accuracy: 0.7374\n",
            "Epoch 36/100\n",
            "704/704 [==============================] - 18s 25ms/step - loss: 1.0243 - categorical_accuracy: 0.6488 - val_loss: 0.8025 - val_categorical_accuracy: 0.7328\n",
            "Epoch 37/100\n",
            "704/704 [==============================] - 18s 25ms/step - loss: 1.0148 - categorical_accuracy: 0.6496 - val_loss: 0.7791 - val_categorical_accuracy: 0.7336\n",
            "Epoch 38/100\n",
            "704/704 [==============================] - 18s 25ms/step - loss: 1.0111 - categorical_accuracy: 0.6584 - val_loss: 0.7436 - val_categorical_accuracy: 0.7460\n",
            "Epoch 39/100\n",
            "704/704 [==============================] - 18s 25ms/step - loss: 0.9947 - categorical_accuracy: 0.6609 - val_loss: 0.7644 - val_categorical_accuracy: 0.7386\n",
            "Epoch 40/100\n",
            "704/704 [==============================] - 18s 26ms/step - loss: 0.9878 - categorical_accuracy: 0.6623 - val_loss: 0.8447 - val_categorical_accuracy: 0.7150\n",
            "Epoch 41/100\n",
            "704/704 [==============================] - 18s 25ms/step - loss: 0.9839 - categorical_accuracy: 0.6652 - val_loss: 0.8450 - val_categorical_accuracy: 0.7224\n",
            "Epoch 42/100\n",
            "704/704 [==============================] - 17s 25ms/step - loss: 0.9691 - categorical_accuracy: 0.6708 - val_loss: 0.7243 - val_categorical_accuracy: 0.7574\n",
            "Epoch 43/100\n",
            "704/704 [==============================] - 18s 25ms/step - loss: 0.9646 - categorical_accuracy: 0.6708 - val_loss: 0.7797 - val_categorical_accuracy: 0.7390\n",
            "Epoch 44/100\n",
            "704/704 [==============================] - 18s 25ms/step - loss: 0.9557 - categorical_accuracy: 0.6756 - val_loss: 0.7545 - val_categorical_accuracy: 0.7474\n",
            "Epoch 45/100\n",
            "704/704 [==============================] - 17s 24ms/step - loss: 0.9527 - categorical_accuracy: 0.6748 - val_loss: 0.7375 - val_categorical_accuracy: 0.7548\n",
            "Epoch 46/100\n",
            "704/704 [==============================] - 17s 24ms/step - loss: 0.9386 - categorical_accuracy: 0.6811 - val_loss: 0.7387 - val_categorical_accuracy: 0.7490\n",
            "Epoch 47/100\n",
            "704/704 [==============================] - 17s 24ms/step - loss: 0.9354 - categorical_accuracy: 0.6815 - val_loss: 0.7336 - val_categorical_accuracy: 0.7572\n",
            "Epoch 48/100\n",
            "704/704 [==============================] - 17s 24ms/step - loss: 0.9264 - categorical_accuracy: 0.6873 - val_loss: 0.7244 - val_categorical_accuracy: 0.7568\n",
            "Epoch 49/100\n",
            "704/704 [==============================] - 17s 25ms/step - loss: 0.9174 - categorical_accuracy: 0.6891 - val_loss: 0.7428 - val_categorical_accuracy: 0.7538\n",
            "Epoch 50/100\n",
            "704/704 [==============================] - 17s 24ms/step - loss: 0.9235 - categorical_accuracy: 0.6870 - val_loss: 0.7472 - val_categorical_accuracy: 0.7558\n",
            "Epoch 51/100\n",
            "704/704 [==============================] - 17s 25ms/step - loss: 0.9072 - categorical_accuracy: 0.6911 - val_loss: 0.7050 - val_categorical_accuracy: 0.7642\n",
            "Epoch 52/100\n",
            "704/704 [==============================] - 17s 25ms/step - loss: 0.9017 - categorical_accuracy: 0.6929 - val_loss: 0.7182 - val_categorical_accuracy: 0.7576\n",
            "Epoch 53/100\n",
            "704/704 [==============================] - 17s 24ms/step - loss: 0.8988 - categorical_accuracy: 0.6969 - val_loss: 0.7189 - val_categorical_accuracy: 0.7626\n",
            "Epoch 54/100\n",
            "704/704 [==============================] - 17s 25ms/step - loss: 0.9055 - categorical_accuracy: 0.6937 - val_loss: 0.6958 - val_categorical_accuracy: 0.7720\n",
            "Epoch 55/100\n",
            "704/704 [==============================] - 17s 25ms/step - loss: 0.8957 - categorical_accuracy: 0.6974 - val_loss: 0.6699 - val_categorical_accuracy: 0.7750\n",
            "Epoch 56/100\n",
            "704/704 [==============================] - 18s 25ms/step - loss: 0.8948 - categorical_accuracy: 0.7015 - val_loss: 0.7028 - val_categorical_accuracy: 0.7682\n",
            "Epoch 57/100\n",
            "704/704 [==============================] - 17s 25ms/step - loss: 0.8922 - categorical_accuracy: 0.6997 - val_loss: 0.7192 - val_categorical_accuracy: 0.7644\n",
            "Epoch 58/100\n",
            "704/704 [==============================] - 18s 25ms/step - loss: 0.8761 - categorical_accuracy: 0.7048 - val_loss: 0.7002 - val_categorical_accuracy: 0.7716\n",
            "Epoch 59/100\n",
            "704/704 [==============================] - 19s 27ms/step - loss: 0.8727 - categorical_accuracy: 0.7067 - val_loss: 0.7022 - val_categorical_accuracy: 0.7744\n",
            "Epoch 60/100\n",
            "704/704 [==============================] - 18s 25ms/step - loss: 0.8756 - categorical_accuracy: 0.7047 - val_loss: 0.6957 - val_categorical_accuracy: 0.7740\n",
            "Epoch 61/100\n",
            "704/704 [==============================] - 18s 25ms/step - loss: 0.8767 - categorical_accuracy: 0.7046 - val_loss: 0.6780 - val_categorical_accuracy: 0.7776\n",
            "Epoch 62/100\n",
            "704/704 [==============================] - 18s 25ms/step - loss: 0.8580 - categorical_accuracy: 0.7106 - val_loss: 0.7557 - val_categorical_accuracy: 0.7600\n",
            "Epoch 63/100\n",
            "704/704 [==============================] - 17s 25ms/step - loss: 0.8588 - categorical_accuracy: 0.7129 - val_loss: 0.6740 - val_categorical_accuracy: 0.7766\n",
            "Epoch 64/100\n",
            "704/704 [==============================] - 18s 25ms/step - loss: 0.8603 - categorical_accuracy: 0.7107 - val_loss: 0.7075 - val_categorical_accuracy: 0.7696\n",
            "Epoch 65/100\n",
            "704/704 [==============================] - 18s 25ms/step - loss: 0.8648 - categorical_accuracy: 0.7082 - val_loss: 0.6878 - val_categorical_accuracy: 0.7750\n",
            "Epoch 66/100\n",
            "704/704 [==============================] - 17s 25ms/step - loss: 0.8559 - categorical_accuracy: 0.7112 - val_loss: 0.6845 - val_categorical_accuracy: 0.7734\n",
            "Epoch 67/100\n",
            "704/704 [==============================] - 18s 25ms/step - loss: 0.8500 - categorical_accuracy: 0.7133 - val_loss: 0.6679 - val_categorical_accuracy: 0.7838\n",
            "Epoch 68/100\n",
            "704/704 [==============================] - 18s 25ms/step - loss: 0.8541 - categorical_accuracy: 0.7133 - val_loss: 0.6642 - val_categorical_accuracy: 0.7828\n",
            "Epoch 69/100\n",
            "704/704 [==============================] - 17s 25ms/step - loss: 0.8460 - categorical_accuracy: 0.7159 - val_loss: 0.6426 - val_categorical_accuracy: 0.7868\n",
            "Epoch 70/100\n",
            "704/704 [==============================] - 17s 24ms/step - loss: 0.8450 - categorical_accuracy: 0.7192 - val_loss: 0.6608 - val_categorical_accuracy: 0.7918\n",
            "Epoch 71/100\n",
            "704/704 [==============================] - 17s 24ms/step - loss: 0.8386 - categorical_accuracy: 0.7174 - val_loss: 0.6631 - val_categorical_accuracy: 0.7828\n",
            "Epoch 72/100\n",
            "704/704 [==============================] - 17s 24ms/step - loss: 0.8324 - categorical_accuracy: 0.7212 - val_loss: 0.6828 - val_categorical_accuracy: 0.7828\n",
            "Epoch 73/100\n",
            "704/704 [==============================] - 16s 22ms/step - loss: 0.8328 - categorical_accuracy: 0.7207 - val_loss: 0.6617 - val_categorical_accuracy: 0.7922\n",
            "Epoch 74/100\n",
            "704/704 [==============================] - 12s 17ms/step - loss: 0.8196 - categorical_accuracy: 0.7266 - val_loss: 0.6690 - val_categorical_accuracy: 0.7848\n",
            "Epoch 75/100\n",
            "704/704 [==============================] - 12s 17ms/step - loss: 0.8367 - categorical_accuracy: 0.7205 - val_loss: 0.6736 - val_categorical_accuracy: 0.7888\n",
            "Epoch 76/100\n",
            "704/704 [==============================] - 12s 17ms/step - loss: 0.8288 - categorical_accuracy: 0.7217 - val_loss: 0.6346 - val_categorical_accuracy: 0.7938\n",
            "Epoch 77/100\n",
            "704/704 [==============================] - 12s 17ms/step - loss: 0.8223 - categorical_accuracy: 0.7211 - val_loss: 0.6826 - val_categorical_accuracy: 0.7874\n",
            "Epoch 78/100\n",
            "704/704 [==============================] - 12s 17ms/step - loss: 0.8237 - categorical_accuracy: 0.7248 - val_loss: 0.6498 - val_categorical_accuracy: 0.7894\n",
            "Epoch 79/100\n",
            "704/704 [==============================] - 12s 17ms/step - loss: 0.8214 - categorical_accuracy: 0.7254 - val_loss: 0.6512 - val_categorical_accuracy: 0.7860\n",
            "Epoch 80/100\n",
            "704/704 [==============================] - 12s 17ms/step - loss: 0.8168 - categorical_accuracy: 0.7233 - val_loss: 0.6930 - val_categorical_accuracy: 0.7760\n",
            "Epoch 81/100\n",
            "704/704 [==============================] - 12s 17ms/step - loss: 0.8174 - categorical_accuracy: 0.7276 - val_loss: 0.6571 - val_categorical_accuracy: 0.7872\n",
            "Epoch 82/100\n",
            "704/704 [==============================] - 12s 17ms/step - loss: 0.8102 - categorical_accuracy: 0.7284 - val_loss: 0.6439 - val_categorical_accuracy: 0.7956\n",
            "Epoch 83/100\n",
            "704/704 [==============================] - 12s 17ms/step - loss: 0.8136 - categorical_accuracy: 0.7269 - val_loss: 0.6569 - val_categorical_accuracy: 0.7932\n",
            "Epoch 84/100\n",
            "704/704 [==============================] - 12s 17ms/step - loss: 0.8095 - categorical_accuracy: 0.7292 - val_loss: 0.6804 - val_categorical_accuracy: 0.7886\n",
            "Epoch 85/100\n",
            "704/704 [==============================] - 12s 17ms/step - loss: 0.8014 - categorical_accuracy: 0.7339 - val_loss: 0.6497 - val_categorical_accuracy: 0.7888\n",
            "Epoch 86/100\n",
            "704/704 [==============================] - 12s 17ms/step - loss: 0.8097 - categorical_accuracy: 0.7300 - val_loss: 0.6681 - val_categorical_accuracy: 0.7870\n",
            "Epoch 87/100\n",
            "704/704 [==============================] - 12s 17ms/step - loss: 0.8053 - categorical_accuracy: 0.7316 - val_loss: 0.6441 - val_categorical_accuracy: 0.7924\n",
            "Epoch 88/100\n",
            "704/704 [==============================] - 12s 17ms/step - loss: 0.8007 - categorical_accuracy: 0.7327 - val_loss: 0.6684 - val_categorical_accuracy: 0.7882\n",
            "Epoch 89/100\n",
            "704/704 [==============================] - 12s 17ms/step - loss: 0.8036 - categorical_accuracy: 0.7295 - val_loss: 0.6656 - val_categorical_accuracy: 0.7952\n",
            "Epoch 90/100\n",
            "704/704 [==============================] - 12s 17ms/step - loss: 0.7965 - categorical_accuracy: 0.7348 - val_loss: 0.6356 - val_categorical_accuracy: 0.7988\n",
            "Epoch 91/100\n",
            "704/704 [==============================] - 12s 17ms/step - loss: 0.7901 - categorical_accuracy: 0.7377 - val_loss: 0.6547 - val_categorical_accuracy: 0.7904\n",
            "Epoch 92/100\n",
            "704/704 [==============================] - 12s 17ms/step - loss: 0.8014 - categorical_accuracy: 0.7337 - val_loss: 0.6490 - val_categorical_accuracy: 0.7946\n",
            "Epoch 93/100\n"
          ],
          "name": "stdout"
        },
        {
          "output_type": "stream",
          "text": [
            "704/704 [==============================] - 12s 17ms/step - loss: 0.7922 - categorical_accuracy: 0.7351 - val_loss: 0.6495 - val_categorical_accuracy: 0.7958\n",
            "Epoch 94/100\n",
            "704/704 [==============================] - 12s 17ms/step - loss: 0.7875 - categorical_accuracy: 0.7385 - val_loss: 0.6843 - val_categorical_accuracy: 0.7812\n",
            "Epoch 95/100\n",
            "704/704 [==============================] - 12s 17ms/step - loss: 0.7911 - categorical_accuracy: 0.7377 - val_loss: 0.6865 - val_categorical_accuracy: 0.7842\n",
            "Epoch 96/100\n",
            "704/704 [==============================] - 12s 17ms/step - loss: 0.7779 - categorical_accuracy: 0.7410 - val_loss: 0.6340 - val_categorical_accuracy: 0.8036\n",
            "Epoch 97/100\n",
            "704/704 [==============================] - 12s 17ms/step - loss: 0.7941 - categorical_accuracy: 0.7349 - val_loss: 0.6557 - val_categorical_accuracy: 0.7970\n",
            "Epoch 98/100\n",
            "704/704 [==============================] - 12s 17ms/step - loss: 0.7839 - categorical_accuracy: 0.7400 - val_loss: 0.6462 - val_categorical_accuracy: 0.8014\n",
            "Epoch 99/100\n",
            "704/704 [==============================] - 12s 17ms/step - loss: 0.7806 - categorical_accuracy: 0.7433 - val_loss: 0.6353 - val_categorical_accuracy: 0.7960\n",
            "Epoch 100/100\n",
            "704/704 [==============================] - 12s 17ms/step - loss: 0.7825 - categorical_accuracy: 0.7420 - val_loss: 0.6318 - val_categorical_accuracy: 0.8006\n",
            "--- Running training session 3\n",
            "Epoch 1/100\n",
            "704/704 [==============================] - 14s 20ms/step - loss: 2.0414 - categorical_accuracy: 0.2423 - val_loss: 0.0000e+00 - val_categorical_accuracy: 0.0000e+00\n",
            "Epoch 2/100\n",
            "704/704 [==============================] - 12s 17ms/step - loss: 1.7959 - categorical_accuracy: 0.3364 - val_loss: 1.4746 - val_categorical_accuracy: 0.4590\n",
            "Epoch 3/100\n",
            "704/704 [==============================] - 12s 17ms/step - loss: 1.6561 - categorical_accuracy: 0.3954 - val_loss: 1.3329 - val_categorical_accuracy: 0.5200\n",
            "Epoch 4/100\n",
            "704/704 [==============================] - 12s 17ms/step - loss: 1.5542 - categorical_accuracy: 0.4422 - val_loss: 1.2180 - val_categorical_accuracy: 0.5666\n",
            "Epoch 5/100\n",
            "704/704 [==============================] - 12s 17ms/step - loss: 1.4741 - categorical_accuracy: 0.4777 - val_loss: 1.2240 - val_categorical_accuracy: 0.5714\n",
            "Epoch 6/100\n",
            "704/704 [==============================] - 12s 17ms/step - loss: 1.4064 - categorical_accuracy: 0.5067 - val_loss: 1.0596 - val_categorical_accuracy: 0.6166\n",
            "Epoch 7/100\n",
            "704/704 [==============================] - 12s 17ms/step - loss: 1.3590 - categorical_accuracy: 0.5225 - val_loss: 0.9976 - val_categorical_accuracy: 0.6456\n",
            "Epoch 8/100\n",
            "704/704 [==============================] - 12s 17ms/step - loss: 1.3152 - categorical_accuracy: 0.5408 - val_loss: 0.9930 - val_categorical_accuracy: 0.6448\n",
            "Epoch 9/100\n",
            "704/704 [==============================] - 12s 17ms/step - loss: 1.2741 - categorical_accuracy: 0.5590 - val_loss: 1.0490 - val_categorical_accuracy: 0.6310\n",
            "Epoch 10/100\n",
            "704/704 [==============================] - 12s 17ms/step - loss: 1.2379 - categorical_accuracy: 0.5728 - val_loss: 0.9483 - val_categorical_accuracy: 0.6612\n",
            "Epoch 11/100\n",
            "704/704 [==============================] - 12s 17ms/step - loss: 1.2102 - categorical_accuracy: 0.5833 - val_loss: 0.9256 - val_categorical_accuracy: 0.6682\n",
            "Epoch 12/100\n",
            "704/704 [==============================] - 12s 17ms/step - loss: 1.1861 - categorical_accuracy: 0.5912 - val_loss: 0.8734 - val_categorical_accuracy: 0.6892\n",
            "Epoch 13/100\n",
            "704/704 [==============================] - 12s 17ms/step - loss: 1.1607 - categorical_accuracy: 0.5990 - val_loss: 0.9088 - val_categorical_accuracy: 0.6838\n",
            "Epoch 14/100\n",
            "704/704 [==============================] - 12s 17ms/step - loss: 1.1362 - categorical_accuracy: 0.6088 - val_loss: 0.8305 - val_categorical_accuracy: 0.7112\n",
            "Epoch 15/100\n",
            "704/704 [==============================] - 12s 17ms/step - loss: 1.1217 - categorical_accuracy: 0.6166 - val_loss: 0.8611 - val_categorical_accuracy: 0.7026\n",
            "Epoch 16/100\n",
            "704/704 [==============================] - 12s 17ms/step - loss: 1.0988 - categorical_accuracy: 0.6183 - val_loss: 0.8585 - val_categorical_accuracy: 0.7102\n",
            "Epoch 17/100\n",
            "704/704 [==============================] - 12s 17ms/step - loss: 1.0941 - categorical_accuracy: 0.6285 - val_loss: 0.8151 - val_categorical_accuracy: 0.7294\n",
            "Epoch 18/100\n",
            "704/704 [==============================] - 12s 17ms/step - loss: 1.0731 - categorical_accuracy: 0.6341 - val_loss: 0.8063 - val_categorical_accuracy: 0.7204\n",
            "Epoch 19/100\n",
            "704/704 [==============================] - 12s 17ms/step - loss: 1.0687 - categorical_accuracy: 0.6370 - val_loss: 0.7891 - val_categorical_accuracy: 0.7278\n",
            "Epoch 20/100\n",
            "704/704 [==============================] - 12s 17ms/step - loss: 1.0401 - categorical_accuracy: 0.6470 - val_loss: 0.7841 - val_categorical_accuracy: 0.7334\n",
            "Epoch 21/100\n",
            "704/704 [==============================] - 12s 17ms/step - loss: 1.0319 - categorical_accuracy: 0.6476 - val_loss: 0.7961 - val_categorical_accuracy: 0.7324\n",
            "Epoch 22/100\n",
            "704/704 [==============================] - 12s 17ms/step - loss: 1.0206 - categorical_accuracy: 0.6561 - val_loss: 0.7239 - val_categorical_accuracy: 0.7566\n",
            "Epoch 23/100\n",
            "704/704 [==============================] - 12s 17ms/step - loss: 1.0114 - categorical_accuracy: 0.6547 - val_loss: 0.7970 - val_categorical_accuracy: 0.7322\n",
            "Epoch 24/100\n",
            "704/704 [==============================] - 12s 17ms/step - loss: 1.0047 - categorical_accuracy: 0.6597 - val_loss: 0.7449 - val_categorical_accuracy: 0.7446\n",
            "Epoch 25/100\n",
            "704/704 [==============================] - 12s 17ms/step - loss: 0.9897 - categorical_accuracy: 0.6629 - val_loss: 0.7256 - val_categorical_accuracy: 0.7518\n",
            "Epoch 26/100\n",
            "704/704 [==============================] - 12s 17ms/step - loss: 0.9816 - categorical_accuracy: 0.6695 - val_loss: 0.7703 - val_categorical_accuracy: 0.7472\n",
            "Epoch 27/100\n",
            "704/704 [==============================] - 12s 17ms/step - loss: 0.9686 - categorical_accuracy: 0.6722 - val_loss: 0.7088 - val_categorical_accuracy: 0.7572\n",
            "Epoch 28/100\n",
            "704/704 [==============================] - 12s 17ms/step - loss: 0.9631 - categorical_accuracy: 0.6725 - val_loss: 0.7121 - val_categorical_accuracy: 0.7618\n",
            "Epoch 29/100\n",
            "704/704 [==============================] - 12s 17ms/step - loss: 0.9547 - categorical_accuracy: 0.6794 - val_loss: 0.7311 - val_categorical_accuracy: 0.7498\n",
            "Epoch 30/100\n",
            "704/704 [==============================] - 12s 17ms/step - loss: 0.9478 - categorical_accuracy: 0.6812 - val_loss: 0.7364 - val_categorical_accuracy: 0.7576\n",
            "Epoch 31/100\n",
            "704/704 [==============================] - 12s 17ms/step - loss: 0.9393 - categorical_accuracy: 0.6844 - val_loss: 0.7080 - val_categorical_accuracy: 0.7622\n",
            "Epoch 32/100\n",
            "704/704 [==============================] - 12s 17ms/step - loss: 0.9351 - categorical_accuracy: 0.6860 - val_loss: 0.7254 - val_categorical_accuracy: 0.7592\n",
            "Epoch 33/100\n",
            "704/704 [==============================] - 12s 17ms/step - loss: 0.9254 - categorical_accuracy: 0.6889 - val_loss: 0.7500 - val_categorical_accuracy: 0.7562\n",
            "Epoch 34/100\n",
            "704/704 [==============================] - 12s 17ms/step - loss: 0.9190 - categorical_accuracy: 0.6946 - val_loss: 0.7655 - val_categorical_accuracy: 0.7396\n",
            "Epoch 35/100\n",
            "704/704 [==============================] - 12s 17ms/step - loss: 0.9128 - categorical_accuracy: 0.6922 - val_loss: 0.7055 - val_categorical_accuracy: 0.7702\n",
            "Epoch 36/100\n",
            "704/704 [==============================] - 12s 17ms/step - loss: 0.9067 - categorical_accuracy: 0.6969 - val_loss: 0.7293 - val_categorical_accuracy: 0.7620\n",
            "Epoch 37/100\n",
            "704/704 [==============================] - 12s 17ms/step - loss: 0.8887 - categorical_accuracy: 0.7032 - val_loss: 0.7079 - val_categorical_accuracy: 0.7654\n",
            "Epoch 38/100\n",
            "704/704 [==============================] - 12s 17ms/step - loss: 0.9008 - categorical_accuracy: 0.7001 - val_loss: 0.7077 - val_categorical_accuracy: 0.7634\n",
            "Epoch 39/100\n",
            "704/704 [==============================] - 12s 17ms/step - loss: 0.8839 - categorical_accuracy: 0.7043 - val_loss: 0.7557 - val_categorical_accuracy: 0.7564\n",
            "Epoch 40/100\n",
            "704/704 [==============================] - 12s 17ms/step - loss: 0.8814 - categorical_accuracy: 0.7034 - val_loss: 0.6460 - val_categorical_accuracy: 0.7834\n",
            "Epoch 41/100\n",
            "704/704 [==============================] - 12s 17ms/step - loss: 0.8772 - categorical_accuracy: 0.7062 - val_loss: 0.6723 - val_categorical_accuracy: 0.7700\n",
            "Epoch 42/100\n",
            "704/704 [==============================] - 12s 16ms/step - loss: 0.8706 - categorical_accuracy: 0.7101 - val_loss: 0.7101 - val_categorical_accuracy: 0.7638\n",
            "Epoch 43/100\n",
            "704/704 [==============================] - 12s 17ms/step - loss: 0.8610 - categorical_accuracy: 0.7118 - val_loss: 0.6889 - val_categorical_accuracy: 0.7782\n",
            "Epoch 44/100\n",
            "704/704 [==============================] - 12s 17ms/step - loss: 0.8560 - categorical_accuracy: 0.7137 - val_loss: 0.6909 - val_categorical_accuracy: 0.7702\n",
            "Epoch 45/100\n",
            "704/704 [==============================] - 12s 17ms/step - loss: 0.8608 - categorical_accuracy: 0.7135 - val_loss: 0.6465 - val_categorical_accuracy: 0.7902\n",
            "Epoch 46/100\n",
            "704/704 [==============================] - 12s 17ms/step - loss: 0.8477 - categorical_accuracy: 0.7182 - val_loss: 0.6769 - val_categorical_accuracy: 0.7846\n",
            "Epoch 47/100\n",
            "704/704 [==============================] - 12s 17ms/step - loss: 0.8496 - categorical_accuracy: 0.7169 - val_loss: 0.6710 - val_categorical_accuracy: 0.7872\n",
            "Epoch 48/100\n",
            "704/704 [==============================] - 12s 17ms/step - loss: 0.8433 - categorical_accuracy: 0.7180 - val_loss: 0.6489 - val_categorical_accuracy: 0.7884\n",
            "Epoch 49/100\n",
            "704/704 [==============================] - 12s 17ms/step - loss: 0.8429 - categorical_accuracy: 0.7212 - val_loss: 0.6614 - val_categorical_accuracy: 0.7866\n",
            "Epoch 50/100\n",
            "704/704 [==============================] - 12s 17ms/step - loss: 0.8324 - categorical_accuracy: 0.7238 - val_loss: 0.6585 - val_categorical_accuracy: 0.7844\n",
            "Epoch 51/100\n",
            "704/704 [==============================] - 12s 17ms/step - loss: 0.8341 - categorical_accuracy: 0.7223 - val_loss: 0.6431 - val_categorical_accuracy: 0.7928\n",
            "Epoch 52/100\n",
            "704/704 [==============================] - 12s 17ms/step - loss: 0.8299 - categorical_accuracy: 0.7237 - val_loss: 0.6892 - val_categorical_accuracy: 0.7786\n",
            "Epoch 53/100\n",
            "704/704 [==============================] - 12s 17ms/step - loss: 0.8314 - categorical_accuracy: 0.7222 - val_loss: 0.6202 - val_categorical_accuracy: 0.7988\n",
            "Epoch 54/100\n",
            "704/704 [==============================] - 12s 17ms/step - loss: 0.8243 - categorical_accuracy: 0.7255 - val_loss: 0.6508 - val_categorical_accuracy: 0.7872\n",
            "Epoch 55/100\n",
            "704/704 [==============================] - 12s 17ms/step - loss: 0.8126 - categorical_accuracy: 0.7326 - val_loss: 0.6402 - val_categorical_accuracy: 0.7978\n",
            "Epoch 56/100\n",
            "704/704 [==============================] - 12s 17ms/step - loss: 0.8164 - categorical_accuracy: 0.7295 - val_loss: 0.6166 - val_categorical_accuracy: 0.8044\n",
            "Epoch 57/100\n",
            "704/704 [==============================] - 12s 17ms/step - loss: 0.8088 - categorical_accuracy: 0.7310 - val_loss: 0.6477 - val_categorical_accuracy: 0.7960\n",
            "Epoch 58/100\n",
            "704/704 [==============================] - 12s 17ms/step - loss: 0.8102 - categorical_accuracy: 0.7322 - val_loss: 0.6369 - val_categorical_accuracy: 0.7928\n",
            "Epoch 59/100\n",
            "704/704 [==============================] - 12s 17ms/step - loss: 0.8115 - categorical_accuracy: 0.7332 - val_loss: 0.6638 - val_categorical_accuracy: 0.7826\n",
            "Epoch 60/100\n",
            "704/704 [==============================] - 12s 17ms/step - loss: 0.8027 - categorical_accuracy: 0.7342 - val_loss: 0.6604 - val_categorical_accuracy: 0.7902\n",
            "Epoch 61/100\n",
            "704/704 [==============================] - 12s 17ms/step - loss: 0.8058 - categorical_accuracy: 0.7316 - val_loss: 0.6604 - val_categorical_accuracy: 0.7914\n",
            "Epoch 62/100\n",
            "704/704 [==============================] - 12s 17ms/step - loss: 0.7936 - categorical_accuracy: 0.7375 - val_loss: 0.6514 - val_categorical_accuracy: 0.7938\n",
            "Epoch 63/100\n",
            "704/704 [==============================] - 12s 17ms/step - loss: 0.8015 - categorical_accuracy: 0.7342 - val_loss: 0.6327 - val_categorical_accuracy: 0.8032\n",
            "Epoch 64/100\n",
            "704/704 [==============================] - 12s 17ms/step - loss: 0.7827 - categorical_accuracy: 0.7395 - val_loss: 0.5937 - val_categorical_accuracy: 0.8080\n",
            "Epoch 65/100\n",
            "704/704 [==============================] - 12s 17ms/step - loss: 0.7949 - categorical_accuracy: 0.7369 - val_loss: 0.6439 - val_categorical_accuracy: 0.7966\n",
            "Epoch 66/100\n",
            "704/704 [==============================] - 12s 17ms/step - loss: 0.7773 - categorical_accuracy: 0.7444 - val_loss: 0.6381 - val_categorical_accuracy: 0.8000\n",
            "Epoch 67/100\n",
            "704/704 [==============================] - 12s 17ms/step - loss: 0.7850 - categorical_accuracy: 0.7404 - val_loss: 0.6054 - val_categorical_accuracy: 0.8092\n",
            "Epoch 68/100\n",
            "704/704 [==============================] - 12s 17ms/step - loss: 0.7760 - categorical_accuracy: 0.7418 - val_loss: 0.6124 - val_categorical_accuracy: 0.8082\n",
            "Epoch 69/100\n",
            "704/704 [==============================] - 12s 17ms/step - loss: 0.7750 - categorical_accuracy: 0.7456 - val_loss: 0.6345 - val_categorical_accuracy: 0.7950\n",
            "Epoch 70/100\n",
            "704/704 [==============================] - 12s 17ms/step - loss: 0.7747 - categorical_accuracy: 0.7415 - val_loss: 0.6526 - val_categorical_accuracy: 0.7916\n",
            "Epoch 71/100\n",
            "704/704 [==============================] - 12s 17ms/step - loss: 0.7739 - categorical_accuracy: 0.7439 - val_loss: 0.6688 - val_categorical_accuracy: 0.7888\n",
            "Epoch 72/100\n",
            "704/704 [==============================] - 12s 17ms/step - loss: 0.7721 - categorical_accuracy: 0.7456 - val_loss: 0.6561 - val_categorical_accuracy: 0.8000\n",
            "Epoch 73/100\n",
            "704/704 [==============================] - 12s 17ms/step - loss: 0.7778 - categorical_accuracy: 0.7427 - val_loss: 0.6706 - val_categorical_accuracy: 0.7880\n",
            "Epoch 74/100\n",
            "704/704 [==============================] - 12s 17ms/step - loss: 0.7611 - categorical_accuracy: 0.7481 - val_loss: 0.6652 - val_categorical_accuracy: 0.7938\n",
            "Epoch 75/100\n",
            "704/704 [==============================] - 12s 17ms/step - loss: 0.7683 - categorical_accuracy: 0.7479 - val_loss: 0.6230 - val_categorical_accuracy: 0.8064\n",
            "Epoch 76/100\n",
            "704/704 [==============================] - 12s 17ms/step - loss: 0.7672 - categorical_accuracy: 0.7448 - val_loss: 0.6439 - val_categorical_accuracy: 0.8000\n",
            "Epoch 77/100\n",
            "704/704 [==============================] - 12s 17ms/step - loss: 0.7614 - categorical_accuracy: 0.7487 - val_loss: 0.6466 - val_categorical_accuracy: 0.7994\n",
            "Epoch 78/100\n",
            "704/704 [==============================] - 12s 17ms/step - loss: 0.7518 - categorical_accuracy: 0.7498 - val_loss: 0.6199 - val_categorical_accuracy: 0.8114\n",
            "Epoch 79/100\n",
            "704/704 [==============================] - 12s 17ms/step - loss: 0.7522 - categorical_accuracy: 0.7539 - val_loss: 0.6365 - val_categorical_accuracy: 0.8078\n",
            "Epoch 80/100\n",
            "704/704 [==============================] - 12s 17ms/step - loss: 0.7535 - categorical_accuracy: 0.7515 - val_loss: 0.6238 - val_categorical_accuracy: 0.8006\n",
            "Epoch 81/100\n",
            "704/704 [==============================] - 12s 17ms/step - loss: 0.7608 - categorical_accuracy: 0.7478 - val_loss: 0.6121 - val_categorical_accuracy: 0.8048\n",
            "Epoch 82/100\n",
            "704/704 [==============================] - 12s 17ms/step - loss: 0.7541 - categorical_accuracy: 0.7529 - val_loss: 0.6495 - val_categorical_accuracy: 0.7962\n",
            "Epoch 83/100\n",
            "704/704 [==============================] - 12s 17ms/step - loss: 0.7455 - categorical_accuracy: 0.7531 - val_loss: 0.6213 - val_categorical_accuracy: 0.8074\n",
            "Epoch 84/100\n",
            "704/704 [==============================] - 12s 17ms/step - loss: 0.7523 - categorical_accuracy: 0.7537 - val_loss: 0.6130 - val_categorical_accuracy: 0.8092\n",
            "Epoch 85/100\n",
            "704/704 [==============================] - 12s 17ms/step - loss: 0.7409 - categorical_accuracy: 0.7534 - val_loss: 0.6055 - val_categorical_accuracy: 0.8122\n",
            "Epoch 86/100\n",
            "704/704 [==============================] - 12s 17ms/step - loss: 0.7460 - categorical_accuracy: 0.7552 - val_loss: 0.6314 - val_categorical_accuracy: 0.8010\n",
            "Epoch 87/100\n",
            "704/704 [==============================] - 12s 17ms/step - loss: 0.7431 - categorical_accuracy: 0.7515 - val_loss: 0.6612 - val_categorical_accuracy: 0.7916\n",
            "Epoch 88/100\n",
            "704/704 [==============================] - 12s 17ms/step - loss: 0.7489 - categorical_accuracy: 0.7529 - val_loss: 0.6446 - val_categorical_accuracy: 0.8056\n",
            "Epoch 89/100\n"
          ],
          "name": "stdout"
        },
        {
          "output_type": "stream",
          "text": [
            "704/704 [==============================] - 12s 17ms/step - loss: 0.7448 - categorical_accuracy: 0.7559 - val_loss: 0.6218 - val_categorical_accuracy: 0.8018\n",
            "Epoch 90/100\n",
            "704/704 [==============================] - 12s 17ms/step - loss: 0.7492 - categorical_accuracy: 0.7529 - val_loss: 0.6238 - val_categorical_accuracy: 0.8044\n",
            "Epoch 91/100\n",
            "704/704 [==============================] - 12s 17ms/step - loss: 0.7287 - categorical_accuracy: 0.7591 - val_loss: 0.6150 - val_categorical_accuracy: 0.8050\n",
            "Epoch 92/100\n",
            "704/704 [==============================] - 12s 17ms/step - loss: 0.7385 - categorical_accuracy: 0.7573 - val_loss: 0.6599 - val_categorical_accuracy: 0.7974\n",
            "Epoch 93/100\n",
            "704/704 [==============================] - 12s 17ms/step - loss: 0.7449 - categorical_accuracy: 0.7571 - val_loss: 0.6348 - val_categorical_accuracy: 0.8064\n",
            "Epoch 94/100\n",
            "704/704 [==============================] - 12s 17ms/step - loss: 0.7436 - categorical_accuracy: 0.7556 - val_loss: 0.6259 - val_categorical_accuracy: 0.8068\n",
            "Epoch 95/100\n",
            "704/704 [==============================] - 12s 16ms/step - loss: 0.7384 - categorical_accuracy: 0.7590 - val_loss: 0.6706 - val_categorical_accuracy: 0.7948\n",
            "Epoch 96/100\n",
            "704/704 [==============================] - 12s 17ms/step - loss: 0.7245 - categorical_accuracy: 0.7622 - val_loss: 0.6186 - val_categorical_accuracy: 0.8112\n",
            "Epoch 97/100\n",
            "704/704 [==============================] - 12s 17ms/step - loss: 0.7287 - categorical_accuracy: 0.7589 - val_loss: 0.6468 - val_categorical_accuracy: 0.8038\n",
            "Epoch 98/100\n",
            "704/704 [==============================] - 12s 17ms/step - loss: 0.7273 - categorical_accuracy: 0.7608 - val_loss: 0.6450 - val_categorical_accuracy: 0.8004\n",
            "Epoch 99/100\n",
            "704/704 [==============================] - 12s 17ms/step - loss: 0.7362 - categorical_accuracy: 0.7587 - val_loss: 0.6424 - val_categorical_accuracy: 0.8000\n",
            "Epoch 100/100\n",
            "704/704 [==============================] - 12s 17ms/step - loss: 0.7261 - categorical_accuracy: 0.7630 - val_loss: 0.6629 - val_categorical_accuracy: 0.8006\n"
          ],
          "name": "stdout"
        }
      ]
    },
    {
      "cell_type": "markdown",
      "metadata": {
        "id": "AREi9ChvRjIe"
      },
      "source": [
        "### 比較三種初始化的訓練結果"
      ]
    },
    {
      "cell_type": "code",
      "metadata": {
        "id": "tVezJ_gQRjIe",
        "outputId": "f6936ca6-b14c-4260-f0dd-4891daf3cba4"
      },
      "source": [
        "model_1 = keras.models.load_model('lab5-logs/models/run-1-best-model.h5')\n",
        "model_2 = keras.models.load_model('lab5-logs/models/run-2-best-model.h5')\n",
        "model_3 = keras.models.load_model('lab5-logs/models/run-3-best-model.h5')\n",
        "loss_1, acc_1 = model_1.evaluate(test_data)\n",
        "loss_2, acc_2 = model_2.evaluate(test_data)\n",
        "loss_3, acc_3 = model_3.evaluate(test_data)"
      ],
      "execution_count": null,
      "outputs": [
        {
          "output_type": "stream",
          "text": [
            "    157/Unknown - 2s 10ms/step - loss: 0.6364 - categorical_accuracy: 0.8048 1s 9ms/ste"
          ],
          "name": "stdout"
        }
      ]
    },
    {
      "cell_type": "markdown",
      "metadata": {
        "id": "02cqwIERRjIf"
      },
      "source": [
        "顯示預測的損失值與準確度結果："
      ]
    },
    {
      "cell_type": "code",
      "metadata": {
        "id": "5QuUTrl4RjIf",
        "outputId": "35bf3261-118f-4cc0-8dff-2950b838098c"
      },
      "source": [
        "loss = [loss_1, loss_2, loss_3]  \n",
        "acc = [acc_1, acc_2, acc_3]\n",
        "\n",
        "dict = {\"Loss\": loss,  \n",
        "        \"Accuracy\": acc}\n",
        "\n",
        "df = pd.DataFrame(dict)\n",
        "df"
      ],
      "execution_count": null,
      "outputs": [
        {
          "output_type": "execute_result",
          "data": {
            "text/html": [
              "<div>\n",
              "<style scoped>\n",
              "    .dataframe tbody tr th:only-of-type {\n",
              "        vertical-align: middle;\n",
              "    }\n",
              "\n",
              "    .dataframe tbody tr th {\n",
              "        vertical-align: top;\n",
              "    }\n",
              "\n",
              "    .dataframe thead th {\n",
              "        text-align: right;\n",
              "    }\n",
              "</style>\n",
              "<table border=\"1\" class=\"dataframe\">\n",
              "  <thead>\n",
              "    <tr style=\"text-align: right;\">\n",
              "      <th></th>\n",
              "      <th>Loss</th>\n",
              "      <th>Accuracy</th>\n",
              "    </tr>\n",
              "  </thead>\n",
              "  <tbody>\n",
              "    <tr>\n",
              "      <th>0</th>\n",
              "      <td>0.854636</td>\n",
              "      <td>0.7060</td>\n",
              "    </tr>\n",
              "    <tr>\n",
              "      <th>1</th>\n",
              "      <td>0.654435</td>\n",
              "      <td>0.7946</td>\n",
              "    </tr>\n",
              "    <tr>\n",
              "      <th>2</th>\n",
              "      <td>0.636442</td>\n",
              "      <td>0.8048</td>\n",
              "    </tr>\n",
              "  </tbody>\n",
              "</table>\n",
              "</div>"
            ],
            "text/plain": [
              "       Loss  Accuracy\n",
              "0  0.854636    0.7060\n",
              "1  0.654435    0.7946\n",
              "2  0.636442    0.8048"
            ]
          },
          "metadata": {
            "tags": []
          },
          "execution_count": 23
        }
      ]
    },
    {
      "cell_type": "markdown",
      "metadata": {
        "id": "B1AO4uauRjIg"
      },
      "source": [
        "# 實驗二：使用CIFAR-10數據集實驗Batch Normalization方法"
      ]
    },
    {
      "cell_type": "markdown",
      "metadata": {
        "id": "v9EyKKzLRjIg"
      },
      "source": [
        "建立網路模型，這邊使用到以下幾種網路層：\n",
        "- keras.Input：輸入層(輸入影像大小為32x32x3)\n",
        "- layers.Conv2D：卷積層(使用3x3大小的kernel)\n",
        "- layers.BatchNormalization：BatchNormalization層(使用預設參數)\n",
        "- layers.ReLU：ReLU激活函數層(使用在BatchNormalization層之後)\n",
        "- layers.MaxPool2D：池化層(對特徵圖下採樣)\n",
        "- layers.Flatten：扁平層(特徵圖轉成一維Tensor)\n",
        "- layers.Dropout：Dropout層(每次訓練隨機丟棄50%網路)\n",
        "- layers.Dense：全連接層(隱藏層使用ReLU激活函數，輸出層使用Softmax激活函數)\n",
        "\n",
        "因為大部分激活函數都會在BatchNormalization之後，所以這邊的搭建與前幾個model有些差別。"
      ]
    },
    {
      "cell_type": "code",
      "metadata": {
        "id": "OhwwYgv_RjIh",
        "scrolled": false,
        "outputId": "1c1e580c-6ee7-42ec-95cc-2e7a93d7e673"
      },
      "source": [
        "inputs = keras.Input(shape=(32, 32, 3))\n",
        "x = layers.Conv2D(64, (3, 3))(inputs)\n",
        "x = layers.BatchNormalization()(x)\n",
        "x = layers.ReLU()(x)\n",
        "x = layers.MaxPool2D()(x)\n",
        "x = layers.Conv2D(128, (3, 3))(x)\n",
        "x = layers.BatchNormalization()(x)\n",
        "x = layers.ReLU()(x)\n",
        "x = layers.Conv2D(256, (3, 3))(x)\n",
        "x = layers.BatchNormalization()(x)\n",
        "x = layers.ReLU()(x)\n",
        "x = layers.Conv2D(128, (3, 3))(x)\n",
        "x = layers.BatchNormalization()(x)\n",
        "x = layers.ReLU()(x)\n",
        "x = layers.Conv2D(64, (3, 3))(x)\n",
        "x = layers.BatchNormalization()(x)\n",
        "x = layers.ReLU()(x)\n",
        "x = layers.Flatten()(x)\n",
        "x = layers.Dense(64)(x)\n",
        "x = layers.BatchNormalization()(x)\n",
        "x = layers.ReLU()(x)\n",
        "x = layers.Dropout(0.5)(x)\n",
        "outputs = layers.Dense(10, activation='softmax')(x)\n",
        "# 建立網路模型(將輸入到輸出所有經過的網路層連接起來)\n",
        "model_4 = keras.Model(inputs, outputs, name='model-4')\n",
        "model_4.summary()  # 顯示網路架構"
      ],
      "execution_count": null,
      "outputs": [
        {
          "output_type": "stream",
          "text": [
            "Model: \"model-4\"\n",
            "_________________________________________________________________\n",
            "Layer (type)                 Output Shape              Param #   \n",
            "=================================================================\n",
            "input_9 (InputLayer)         [(None, 32, 32, 3)]       0         \n",
            "_________________________________________________________________\n",
            "conv2d_15 (Conv2D)           (None, 30, 30, 64)        1792      \n",
            "_________________________________________________________________\n",
            "batch_normalization (BatchNo (None, 30, 30, 64)        256       \n",
            "_________________________________________________________________\n",
            "re_lu (ReLU)                 (None, 30, 30, 64)        0         \n",
            "_________________________________________________________________\n",
            "max_pooling2d_3 (MaxPooling2 (None, 15, 15, 64)        0         \n",
            "_________________________________________________________________\n",
            "conv2d_16 (Conv2D)           (None, 13, 13, 128)       73856     \n",
            "_________________________________________________________________\n",
            "batch_normalization_1 (Batch (None, 13, 13, 128)       512       \n",
            "_________________________________________________________________\n",
            "re_lu_1 (ReLU)               (None, 13, 13, 128)       0         \n",
            "_________________________________________________________________\n",
            "conv2d_17 (Conv2D)           (None, 11, 11, 256)       295168    \n",
            "_________________________________________________________________\n",
            "batch_normalization_2 (Batch (None, 11, 11, 256)       1024      \n",
            "_________________________________________________________________\n",
            "re_lu_2 (ReLU)               (None, 11, 11, 256)       0         \n",
            "_________________________________________________________________\n",
            "conv2d_18 (Conv2D)           (None, 9, 9, 128)         295040    \n",
            "_________________________________________________________________\n",
            "batch_normalization_3 (Batch (None, 9, 9, 128)         512       \n",
            "_________________________________________________________________\n",
            "re_lu_3 (ReLU)               (None, 9, 9, 128)         0         \n",
            "_________________________________________________________________\n",
            "conv2d_19 (Conv2D)           (None, 7, 7, 64)          73792     \n",
            "_________________________________________________________________\n",
            "batch_normalization_4 (Batch (None, 7, 7, 64)          256       \n",
            "_________________________________________________________________\n",
            "re_lu_4 (ReLU)               (None, 7, 7, 64)          0         \n",
            "_________________________________________________________________\n",
            "flatten_3 (Flatten)          (None, 3136)              0         \n",
            "_________________________________________________________________\n",
            "dense_31 (Dense)             (None, 64)                200768    \n",
            "_________________________________________________________________\n",
            "batch_normalization_5 (Batch (None, 64)                256       \n",
            "_________________________________________________________________\n",
            "re_lu_5 (ReLU)               (None, 64)                0         \n",
            "_________________________________________________________________\n",
            "dropout_3 (Dropout)          (None, 64)                0         \n",
            "_________________________________________________________________\n",
            "dense_32 (Dense)             (None, 10)                650       \n",
            "=================================================================\n",
            "Total params: 943,882\n",
            "Trainable params: 942,474\n",
            "Non-trainable params: 1,408\n",
            "_________________________________________________________________\n"
          ],
          "name": "stdout"
        }
      ]
    },
    {
      "cell_type": "markdown",
      "metadata": {
        "id": "FBfYmiYARjIh"
      },
      "source": [
        "建立Callback function："
      ]
    },
    {
      "cell_type": "code",
      "metadata": {
        "id": "3xNlF-fPRjIh"
      },
      "source": [
        "# 儲存訓練記錄檔\n",
        "log_dir = os.path.join('lab5-logs', 'run-4-batchnormalization')\n",
        "model_cbk = keras.callbacks.TensorBoard(log_dir=log_dir)\n",
        "# 儲存最好的網路模型權重\n",
        "model_mckp = keras.callbacks.ModelCheckpoint(model_dir + '/run-4-best-model.h5', \n",
        "                                             monitor='val_categorical_accuracy', \n",
        "                                             save_best_only=True, \n",
        "                                             mode='max')"
      ],
      "execution_count": null,
      "outputs": []
    },
    {
      "cell_type": "markdown",
      "metadata": {
        "id": "KW8SADCVRjIi"
      },
      "source": [
        "設定訓練使用的優化器、損失函數和指標函數"
      ]
    },
    {
      "cell_type": "code",
      "metadata": {
        "id": "YbKACJ6iRjIi"
      },
      "source": [
        "model_4.compile(keras.optimizers.Adam(), \n",
        "               loss=keras.losses.CategoricalCrossentropy(), \n",
        "               metrics=[keras.metrics.CategoricalAccuracy()])"
      ],
      "execution_count": null,
      "outputs": []
    },
    {
      "cell_type": "markdown",
      "metadata": {
        "id": "4hP4ikQPRjIi"
      },
      "source": [
        "訓練網路模型"
      ]
    },
    {
      "cell_type": "code",
      "metadata": {
        "id": "yC099kB3RjIj",
        "scrolled": true,
        "outputId": "75068d2b-ad3b-4c0d-9617-eceeb4bae4dd"
      },
      "source": [
        "history_4 = model_4.fit(train_data,\n",
        "                        epochs=100, \n",
        "                        validation_data=valid_data,\n",
        "                        callbacks=[model_cbk, model_mckp])"
      ],
      "execution_count": null,
      "outputs": [
        {
          "output_type": "stream",
          "text": [
            "Epoch 1/100\n",
            "704/704 [==============================] - 35s 50ms/step - loss: 1.8649 - categorical_accuracy: 0.3316 - val_loss: 0.0000e+00 - val_categorical_accuracy: 0.0000e+00\n",
            "Epoch 2/100\n",
            "704/704 [==============================] - 27s 39ms/step - loss: 1.5226 - categorical_accuracy: 0.4618 - val_loss: 1.6555 - val_categorical_accuracy: 0.4566\n",
            "Epoch 3/100\n",
            "704/704 [==============================] - 28s 40ms/step - loss: 1.3684 - categorical_accuracy: 0.5218 - val_loss: 1.2505 - val_categorical_accuracy: 0.5728\n",
            "Epoch 4/100\n",
            "704/704 [==============================] - 27s 38ms/step - loss: 1.2729 - categorical_accuracy: 0.5578 - val_loss: 1.1574 - val_categorical_accuracy: 0.5860\n",
            "Epoch 5/100\n",
            "704/704 [==============================] - 28s 39ms/step - loss: 1.1960 - categorical_accuracy: 0.5859 - val_loss: 1.4321 - val_categorical_accuracy: 0.5130\n",
            "Epoch 6/100\n",
            "704/704 [==============================] - 28s 39ms/step - loss: 1.1375 - categorical_accuracy: 0.6075 - val_loss: 1.0611 - val_categorical_accuracy: 0.6346\n",
            "Epoch 7/100\n",
            "704/704 [==============================] - 27s 39ms/step - loss: 1.0846 - categorical_accuracy: 0.6280 - val_loss: 1.0341 - val_categorical_accuracy: 0.6208\n",
            "Epoch 8/100\n",
            "704/704 [==============================] - 30s 43ms/step - loss: 1.0481 - categorical_accuracy: 0.6413 - val_loss: 0.8569 - val_categorical_accuracy: 0.6954\n",
            "Epoch 9/100\n",
            "704/704 [==============================] - 29s 41ms/step - loss: 1.0053 - categorical_accuracy: 0.6554 - val_loss: 0.9377 - val_categorical_accuracy: 0.6692\n",
            "Epoch 10/100\n",
            "704/704 [==============================] - 26s 36ms/step - loss: 0.9693 - categorical_accuracy: 0.6698 - val_loss: 0.8247 - val_categorical_accuracy: 0.7148\n",
            "Epoch 11/100\n",
            "704/704 [==============================] - 26s 37ms/step - loss: 0.9392 - categorical_accuracy: 0.6818 - val_loss: 1.6445 - val_categorical_accuracy: 0.5478\n",
            "Epoch 12/100\n",
            "704/704 [==============================] - 26s 37ms/step - loss: 0.9087 - categorical_accuracy: 0.6905 - val_loss: 0.7208 - val_categorical_accuracy: 0.7410\n",
            "Epoch 13/100\n",
            "704/704 [==============================] - 27s 38ms/step - loss: 0.8872 - categorical_accuracy: 0.6990 - val_loss: 0.8320 - val_categorical_accuracy: 0.7232\n",
            "Epoch 14/100\n",
            "704/704 [==============================] - 29s 41ms/step - loss: 0.8544 - categorical_accuracy: 0.7111 - val_loss: 0.6421 - val_categorical_accuracy: 0.7710\n",
            "Epoch 15/100\n",
            "704/704 [==============================] - 26s 38ms/step - loss: 0.8391 - categorical_accuracy: 0.7172 - val_loss: 0.6561 - val_categorical_accuracy: 0.7752\n",
            "Epoch 16/100\n",
            "704/704 [==============================] - 26s 37ms/step - loss: 0.8182 - categorical_accuracy: 0.7253 - val_loss: 0.9571 - val_categorical_accuracy: 0.6820\n",
            "Epoch 17/100\n",
            "704/704 [==============================] - 26s 37ms/step - loss: 0.7957 - categorical_accuracy: 0.7331 - val_loss: 0.6708 - val_categorical_accuracy: 0.7720\n",
            "Epoch 18/100\n",
            "704/704 [==============================] - 26s 37ms/step - loss: 0.7871 - categorical_accuracy: 0.7333 - val_loss: 0.7527 - val_categorical_accuracy: 0.7496\n",
            "Epoch 19/100\n",
            "704/704 [==============================] - 26s 37ms/step - loss: 0.7668 - categorical_accuracy: 0.7441 - val_loss: 0.6277 - val_categorical_accuracy: 0.7848\n",
            "Epoch 20/100\n",
            "704/704 [==============================] - 27s 38ms/step - loss: 0.7571 - categorical_accuracy: 0.7477 - val_loss: 1.0910 - val_categorical_accuracy: 0.6634\n",
            "Epoch 21/100\n",
            "704/704 [==============================] - 27s 38ms/step - loss: 0.7478 - categorical_accuracy: 0.7515 - val_loss: 0.5557 - val_categorical_accuracy: 0.8134\n",
            "Epoch 22/100\n",
            "704/704 [==============================] - 26s 37ms/step - loss: 0.7272 - categorical_accuracy: 0.7560 - val_loss: 0.8869 - val_categorical_accuracy: 0.7330\n",
            "Epoch 23/100\n",
            "704/704 [==============================] - 26s 36ms/step - loss: 0.7169 - categorical_accuracy: 0.7595 - val_loss: 0.6481 - val_categorical_accuracy: 0.7866\n",
            "Epoch 24/100\n",
            "704/704 [==============================] - 26s 37ms/step - loss: 0.7055 - categorical_accuracy: 0.7635 - val_loss: 0.5737 - val_categorical_accuracy: 0.8124\n",
            "Epoch 25/100\n",
            "704/704 [==============================] - 26s 37ms/step - loss: 0.6937 - categorical_accuracy: 0.7693 - val_loss: 0.5794 - val_categorical_accuracy: 0.8024\n",
            "Epoch 26/100\n",
            "704/704 [==============================] - 26s 37ms/step - loss: 0.6827 - categorical_accuracy: 0.7718 - val_loss: 0.5057 - val_categorical_accuracy: 0.8350\n",
            "Epoch 27/100\n",
            "704/704 [==============================] - 26s 37ms/step - loss: 0.6701 - categorical_accuracy: 0.7770 - val_loss: 0.7679 - val_categorical_accuracy: 0.7354\n",
            "Epoch 28/100\n",
            "704/704 [==============================] - 26s 36ms/step - loss: 0.6606 - categorical_accuracy: 0.7792 - val_loss: 0.5546 - val_categorical_accuracy: 0.8156\n",
            "Epoch 29/100\n",
            "704/704 [==============================] - 26s 37ms/step - loss: 0.6588 - categorical_accuracy: 0.7822 - val_loss: 0.5721 - val_categorical_accuracy: 0.8022\n",
            "Epoch 30/100\n",
            "704/704 [==============================] - 26s 37ms/step - loss: 0.6541 - categorical_accuracy: 0.7846 - val_loss: 0.8351 - val_categorical_accuracy: 0.7388\n",
            "Epoch 31/100\n",
            "704/704 [==============================] - 26s 36ms/step - loss: 0.6431 - categorical_accuracy: 0.7865 - val_loss: 0.5178 - val_categorical_accuracy: 0.8208\n",
            "Epoch 32/100\n",
            "704/704 [==============================] - 23s 32ms/step - loss: 0.6373 - categorical_accuracy: 0.7902 - val_loss: 1.0449 - val_categorical_accuracy: 0.6690\n",
            "Epoch 33/100\n",
            "704/704 [==============================] - 16s 23ms/step - loss: 0.6280 - categorical_accuracy: 0.7932 - val_loss: 0.4801 - val_categorical_accuracy: 0.8400\n",
            "Epoch 34/100\n",
            "704/704 [==============================] - 16s 23ms/step - loss: 0.6163 - categorical_accuracy: 0.7952 - val_loss: 0.6885 - val_categorical_accuracy: 0.7788\n",
            "Epoch 35/100\n",
            "704/704 [==============================] - 16s 23ms/step - loss: 0.6135 - categorical_accuracy: 0.7971 - val_loss: 0.6422 - val_categorical_accuracy: 0.7804\n",
            "Epoch 36/100\n",
            "704/704 [==============================] - 16s 23ms/step - loss: 0.6077 - categorical_accuracy: 0.8012 - val_loss: 0.8049 - val_categorical_accuracy: 0.7472\n",
            "Epoch 37/100\n",
            "704/704 [==============================] - 16s 23ms/step - loss: 0.6033 - categorical_accuracy: 0.7993 - val_loss: 0.5178 - val_categorical_accuracy: 0.8274\n",
            "Epoch 38/100\n",
            "704/704 [==============================] - 16s 23ms/step - loss: 0.6012 - categorical_accuracy: 0.8022 - val_loss: 0.6890 - val_categorical_accuracy: 0.7854\n",
            "Epoch 39/100\n",
            "704/704 [==============================] - 16s 23ms/step - loss: 0.5885 - categorical_accuracy: 0.8062 - val_loss: 0.5320 - val_categorical_accuracy: 0.8264\n",
            "Epoch 40/100\n",
            "704/704 [==============================] - 17s 24ms/step - loss: 0.5795 - categorical_accuracy: 0.8069 - val_loss: 0.5735 - val_categorical_accuracy: 0.8154\n",
            "Epoch 41/100\n",
            "704/704 [==============================] - 17s 24ms/step - loss: 0.5749 - categorical_accuracy: 0.8114 - val_loss: 0.6230 - val_categorical_accuracy: 0.7952\n",
            "Epoch 42/100\n",
            "704/704 [==============================] - 16s 23ms/step - loss: 0.5788 - categorical_accuracy: 0.8074 - val_loss: 0.4764 - val_categorical_accuracy: 0.8406\n",
            "Epoch 43/100\n",
            "704/704 [==============================] - 16s 23ms/step - loss: 0.5665 - categorical_accuracy: 0.8133 - val_loss: 0.5662 - val_categorical_accuracy: 0.8208\n",
            "Epoch 44/100\n",
            "704/704 [==============================] - 16s 23ms/step - loss: 0.5702 - categorical_accuracy: 0.8134 - val_loss: 0.5433 - val_categorical_accuracy: 0.8204\n",
            "Epoch 45/100\n",
            "704/704 [==============================] - 16s 23ms/step - loss: 0.5588 - categorical_accuracy: 0.8157 - val_loss: 0.5772 - val_categorical_accuracy: 0.8110\n",
            "Epoch 46/100\n",
            "704/704 [==============================] - 16s 23ms/step - loss: 0.5540 - categorical_accuracy: 0.8162 - val_loss: 0.5417 - val_categorical_accuracy: 0.8198\n",
            "Epoch 47/100\n",
            "704/704 [==============================] - 16s 23ms/step - loss: 0.5467 - categorical_accuracy: 0.8226 - val_loss: 0.6672 - val_categorical_accuracy: 0.7914\n",
            "Epoch 48/100\n",
            "704/704 [==============================] - 17s 24ms/step - loss: 0.5485 - categorical_accuracy: 0.8173 - val_loss: 0.4469 - val_categorical_accuracy: 0.8536\n",
            "Epoch 49/100\n",
            "704/704 [==============================] - 16s 23ms/step - loss: 0.5350 - categorical_accuracy: 0.8256 - val_loss: 0.5297 - val_categorical_accuracy: 0.8330\n",
            "Epoch 50/100\n",
            "704/704 [==============================] - 16s 23ms/step - loss: 0.5363 - categorical_accuracy: 0.8217 - val_loss: 0.4864 - val_categorical_accuracy: 0.8440\n",
            "Epoch 51/100\n",
            "704/704 [==============================] - 16s 23ms/step - loss: 0.5346 - categorical_accuracy: 0.8238 - val_loss: 0.4659 - val_categorical_accuracy: 0.8428\n",
            "Epoch 52/100\n",
            "704/704 [==============================] - 16s 23ms/step - loss: 0.5244 - categorical_accuracy: 0.8289 - val_loss: 0.6037 - val_categorical_accuracy: 0.8122\n",
            "Epoch 53/100\n",
            "704/704 [==============================] - 16s 23ms/step - loss: 0.5198 - categorical_accuracy: 0.8307 - val_loss: 0.5592 - val_categorical_accuracy: 0.8156\n",
            "Epoch 54/100\n",
            "704/704 [==============================] - 16s 23ms/step - loss: 0.5211 - categorical_accuracy: 0.8290 - val_loss: 0.5132 - val_categorical_accuracy: 0.8304\n",
            "Epoch 55/100\n",
            "704/704 [==============================] - 16s 23ms/step - loss: 0.5232 - categorical_accuracy: 0.8285 - val_loss: 0.4269 - val_categorical_accuracy: 0.8650\n",
            "Epoch 56/100\n",
            "704/704 [==============================] - 16s 23ms/step - loss: 0.5105 - categorical_accuracy: 0.8333 - val_loss: 0.5036 - val_categorical_accuracy: 0.8452\n",
            "Epoch 57/100\n",
            "704/704 [==============================] - 16s 23ms/step - loss: 0.5082 - categorical_accuracy: 0.8348 - val_loss: 0.5357 - val_categorical_accuracy: 0.8240\n",
            "Epoch 58/100\n",
            "704/704 [==============================] - 16s 23ms/step - loss: 0.5051 - categorical_accuracy: 0.8353 - val_loss: 0.4506 - val_categorical_accuracy: 0.8512\n",
            "Epoch 59/100\n",
            "704/704 [==============================] - 16s 23ms/step - loss: 0.4945 - categorical_accuracy: 0.8390 - val_loss: 0.6119 - val_categorical_accuracy: 0.8132\n",
            "Epoch 60/100\n",
            "704/704 [==============================] - 16s 23ms/step - loss: 0.5018 - categorical_accuracy: 0.8359 - val_loss: 0.4665 - val_categorical_accuracy: 0.8470\n",
            "Epoch 61/100\n",
            "704/704 [==============================] - 16s 23ms/step - loss: 0.4870 - categorical_accuracy: 0.8423 - val_loss: 0.4297 - val_categorical_accuracy: 0.8592\n",
            "Epoch 62/100\n",
            "704/704 [==============================] - 16s 23ms/step - loss: 0.4939 - categorical_accuracy: 0.8392 - val_loss: 0.5323 - val_categorical_accuracy: 0.8310\n",
            "Epoch 63/100\n",
            "704/704 [==============================] - 16s 23ms/step - loss: 0.4880 - categorical_accuracy: 0.8424 - val_loss: 0.4922 - val_categorical_accuracy: 0.8436\n",
            "Epoch 64/100\n",
            "704/704 [==============================] - 16s 23ms/step - loss: 0.4811 - categorical_accuracy: 0.8419 - val_loss: 0.5400 - val_categorical_accuracy: 0.8336\n",
            "Epoch 65/100\n",
            "704/704 [==============================] - 16s 23ms/step - loss: 0.4832 - categorical_accuracy: 0.8402 - val_loss: 0.6637 - val_categorical_accuracy: 0.8002\n",
            "Epoch 66/100\n",
            "704/704 [==============================] - 16s 23ms/step - loss: 0.4841 - categorical_accuracy: 0.8411 - val_loss: 0.5570 - val_categorical_accuracy: 0.8236\n",
            "Epoch 67/100\n",
            "704/704 [==============================] - 16s 23ms/step - loss: 0.4688 - categorical_accuracy: 0.8460 - val_loss: 0.5216 - val_categorical_accuracy: 0.8390\n",
            "Epoch 68/100\n",
            "704/704 [==============================] - 16s 23ms/step - loss: 0.4762 - categorical_accuracy: 0.8455 - val_loss: 0.4297 - val_categorical_accuracy: 0.8630\n",
            "Epoch 69/100\n",
            "704/704 [==============================] - 16s 23ms/step - loss: 0.4622 - categorical_accuracy: 0.8513 - val_loss: 0.5321 - val_categorical_accuracy: 0.8286\n",
            "Epoch 70/100\n",
            "704/704 [==============================] - 16s 23ms/step - loss: 0.4670 - categorical_accuracy: 0.8476 - val_loss: 0.5294 - val_categorical_accuracy: 0.8368\n",
            "Epoch 71/100\n",
            "704/704 [==============================] - 16s 23ms/step - loss: 0.4724 - categorical_accuracy: 0.8479 - val_loss: 0.4708 - val_categorical_accuracy: 0.8460\n",
            "Epoch 72/100\n",
            "704/704 [==============================] - 16s 23ms/step - loss: 0.4657 - categorical_accuracy: 0.8467 - val_loss: 0.4425 - val_categorical_accuracy: 0.8628\n",
            "Epoch 73/100\n",
            "704/704 [==============================] - 16s 23ms/step - loss: 0.4643 - categorical_accuracy: 0.8490 - val_loss: 0.5231 - val_categorical_accuracy: 0.8340\n",
            "Epoch 74/100\n",
            "704/704 [==============================] - 16s 23ms/step - loss: 0.4625 - categorical_accuracy: 0.8496 - val_loss: 0.5414 - val_categorical_accuracy: 0.8292\n",
            "Epoch 75/100\n",
            "704/704 [==============================] - 16s 23ms/step - loss: 0.4570 - categorical_accuracy: 0.8503 - val_loss: 0.4916 - val_categorical_accuracy: 0.8510\n",
            "Epoch 76/100\n",
            "704/704 [==============================] - 16s 23ms/step - loss: 0.4524 - categorical_accuracy: 0.8517 - val_loss: 0.4418 - val_categorical_accuracy: 0.8584\n",
            "Epoch 77/100\n",
            "704/704 [==============================] - 16s 23ms/step - loss: 0.4492 - categorical_accuracy: 0.8505 - val_loss: 0.4948 - val_categorical_accuracy: 0.8452\n",
            "Epoch 78/100\n",
            "704/704 [==============================] - 16s 23ms/step - loss: 0.4518 - categorical_accuracy: 0.8531 - val_loss: 0.5153 - val_categorical_accuracy: 0.8432\n",
            "Epoch 79/100\n",
            "704/704 [==============================] - 16s 23ms/step - loss: 0.4491 - categorical_accuracy: 0.8558 - val_loss: 0.4212 - val_categorical_accuracy: 0.8714\n",
            "Epoch 80/100\n",
            "704/704 [==============================] - 16s 23ms/step - loss: 0.4512 - categorical_accuracy: 0.8508 - val_loss: 0.4321 - val_categorical_accuracy: 0.8636\n",
            "Epoch 81/100\n",
            "704/704 [==============================] - 16s 23ms/step - loss: 0.4436 - categorical_accuracy: 0.8550 - val_loss: 0.4854 - val_categorical_accuracy: 0.8440\n",
            "Epoch 82/100\n",
            "704/704 [==============================] - 16s 23ms/step - loss: 0.4436 - categorical_accuracy: 0.8536 - val_loss: 0.4290 - val_categorical_accuracy: 0.8642\n",
            "Epoch 83/100\n",
            "704/704 [==============================] - 16s 23ms/step - loss: 0.4462 - categorical_accuracy: 0.8549 - val_loss: 0.6087 - val_categorical_accuracy: 0.8136\n",
            "Epoch 84/100\n",
            "704/704 [==============================] - 16s 23ms/step - loss: 0.4364 - categorical_accuracy: 0.8576 - val_loss: 0.4460 - val_categorical_accuracy: 0.8558\n",
            "Epoch 85/100\n",
            "704/704 [==============================] - 16s 23ms/step - loss: 0.4291 - categorical_accuracy: 0.8616 - val_loss: 0.4720 - val_categorical_accuracy: 0.8518\n",
            "Epoch 86/100\n",
            "704/704 [==============================] - 16s 23ms/step - loss: 0.4383 - categorical_accuracy: 0.8583 - val_loss: 0.5273 - val_categorical_accuracy: 0.8454\n",
            "Epoch 87/100\n",
            "704/704 [==============================] - 16s 23ms/step - loss: 0.4263 - categorical_accuracy: 0.8609 - val_loss: 0.4722 - val_categorical_accuracy: 0.8564\n",
            "Epoch 88/100\n",
            "704/704 [==============================] - 16s 23ms/step - loss: 0.4327 - categorical_accuracy: 0.8589 - val_loss: 0.5422 - val_categorical_accuracy: 0.8334\n",
            "Epoch 89/100\n",
            "704/704 [==============================] - 16s 23ms/step - loss: 0.4274 - categorical_accuracy: 0.8610 - val_loss: 0.4620 - val_categorical_accuracy: 0.8524\n",
            "Epoch 90/100\n",
            "704/704 [==============================] - 16s 23ms/step - loss: 0.4263 - categorical_accuracy: 0.8622 - val_loss: 0.4412 - val_categorical_accuracy: 0.8628\n",
            "Epoch 91/100\n",
            "704/704 [==============================] - 16s 23ms/step - loss: 0.4317 - categorical_accuracy: 0.8600 - val_loss: 0.4242 - val_categorical_accuracy: 0.8684\n",
            "Epoch 92/100\n",
            "704/704 [==============================] - 16s 23ms/step - loss: 0.4215 - categorical_accuracy: 0.8623 - val_loss: 0.4380 - val_categorical_accuracy: 0.8620\n",
            "Epoch 93/100\n",
            "704/704 [==============================] - 16s 23ms/step - loss: 0.4165 - categorical_accuracy: 0.8657 - val_loss: 0.5091 - val_categorical_accuracy: 0.8486\n",
            "Epoch 94/100\n",
            "704/704 [==============================] - 16s 23ms/step - loss: 0.4123 - categorical_accuracy: 0.8636 - val_loss: 0.5373 - val_categorical_accuracy: 0.8382\n",
            "Epoch 95/100\n",
            "704/704 [==============================] - 16s 23ms/step - loss: 0.4183 - categorical_accuracy: 0.8644 - val_loss: 0.4958 - val_categorical_accuracy: 0.8496\n",
            "Epoch 96/100\n",
            "704/704 [==============================] - 16s 23ms/step - loss: 0.4120 - categorical_accuracy: 0.8666 - val_loss: 0.4184 - val_categorical_accuracy: 0.8740\n",
            "Epoch 97/100\n"
          ],
          "name": "stdout"
        },
        {
          "output_type": "stream",
          "text": [
            "704/704 [==============================] - 16s 23ms/step - loss: 0.4111 - categorical_accuracy: 0.8665 - val_loss: 0.4669 - val_categorical_accuracy: 0.8660\n",
            "Epoch 98/100\n",
            "704/704 [==============================] - 16s 23ms/step - loss: 0.4177 - categorical_accuracy: 0.8646 - val_loss: 0.4314 - val_categorical_accuracy: 0.8632\n",
            "Epoch 99/100\n",
            "704/704 [==============================] - 16s 23ms/step - loss: 0.4173 - categorical_accuracy: 0.8634 - val_loss: 0.5266 - val_categorical_accuracy: 0.8440\n",
            "Epoch 100/100\n",
            "704/704 [==============================] - 16s 23ms/step - loss: 0.4050 - categorical_accuracy: 0.8680 - val_loss: 0.4620 - val_categorical_accuracy: 0.8510\n"
          ],
          "name": "stdout"
        }
      ]
    },
    {
      "cell_type": "markdown",
      "metadata": {
        "id": "OXhP95TGRjIj"
      },
      "source": [
        "驗證在測試集上："
      ]
    },
    {
      "cell_type": "code",
      "metadata": {
        "id": "AHBV_-PnRjIk",
        "outputId": "c9ee010e-20ce-4457-d4bb-0b096be0dd97"
      },
      "source": [
        "model_4 = keras.models.load_model('lab5-logs/models/run-4-best-model.h5')\n",
        "loss, acc = model_4.evaluate(test_data)\n",
        "print('\\nModel-4 Accuracy: {}%'.format(acc))"
      ],
      "execution_count": null,
      "outputs": [
        {
          "output_type": "stream",
          "text": [
            "    157/Unknown - 6s 39ms/step - loss: 0.4311 - categorical_accuracy: 0.8644\n",
            "Model-4 Accuracy: 0.8644000291824341%\n"
          ],
          "name": "stdout"
        }
      ]
    },
    {
      "cell_type": "markdown",
      "metadata": {
        "id": "N2J8otxwRjIk"
      },
      "source": [
        "### 比較四種網路的訓練結果"
      ]
    },
    {
      "cell_type": "code",
      "metadata": {
        "id": "BrKMsp9XRjIk",
        "outputId": "76a806b6-a012-42d8-ed9f-cce9b1607c7e"
      },
      "source": [
        "model_1 = keras.models.load_model('lab5-logs/models/run-1-best-model.h5')\n",
        "model_2 = keras.models.load_model('lab5-logs/models/run-2-best-model.h5')\n",
        "model_3 = keras.models.load_model('lab5-logs/models/run-3-best-model.h5')\n",
        "model_4 = keras.models.load_model('lab5-logs/models/run-4-best-model.h5')\n",
        "loss_1, acc_1 = model_1.evaluate(test_data)\n",
        "loss_2, acc_2 = model_2.evaluate(test_data)\n",
        "loss_3, acc_3 = model_3.evaluate(test_data)\n",
        "loss_4, acc_4 = model_4.evaluate(test_data)"
      ],
      "execution_count": null,
      "outputs": [
        {
          "output_type": "stream",
          "text": [
            "    157/Unknown - 2s 14ms/step - loss: 0.4311 - categorical_accuracy: 0.8644"
          ],
          "name": "stdout"
        }
      ]
    },
    {
      "cell_type": "code",
      "metadata": {
        "id": "c2aLF6XJRjIl",
        "outputId": "53b5bc86-e4ab-48ff-ccad-aa22eab9c1a9"
      },
      "source": [
        "loss = [loss_1, loss_2, loss_3, loss_4]  \n",
        "acc = [acc_1, acc_2, acc_3, acc_4]\n",
        "\n",
        "dict = {\"Loss\": loss,  \n",
        "        \"Accuracy\": acc}\n",
        "\n",
        "df = pd.DataFrame(dict)\n",
        "df"
      ],
      "execution_count": null,
      "outputs": [
        {
          "output_type": "execute_result",
          "data": {
            "text/html": [
              "<div>\n",
              "<style scoped>\n",
              "    .dataframe tbody tr th:only-of-type {\n",
              "        vertical-align: middle;\n",
              "    }\n",
              "\n",
              "    .dataframe tbody tr th {\n",
              "        vertical-align: top;\n",
              "    }\n",
              "\n",
              "    .dataframe thead th {\n",
              "        text-align: right;\n",
              "    }\n",
              "</style>\n",
              "<table border=\"1\" class=\"dataframe\">\n",
              "  <thead>\n",
              "    <tr style=\"text-align: right;\">\n",
              "      <th></th>\n",
              "      <th>Loss</th>\n",
              "      <th>Accuracy</th>\n",
              "    </tr>\n",
              "  </thead>\n",
              "  <tbody>\n",
              "    <tr>\n",
              "      <th>0</th>\n",
              "      <td>0.854636</td>\n",
              "      <td>0.7060</td>\n",
              "    </tr>\n",
              "    <tr>\n",
              "      <th>1</th>\n",
              "      <td>0.654435</td>\n",
              "      <td>0.7946</td>\n",
              "    </tr>\n",
              "    <tr>\n",
              "      <th>2</th>\n",
              "      <td>0.636442</td>\n",
              "      <td>0.8048</td>\n",
              "    </tr>\n",
              "    <tr>\n",
              "      <th>3</th>\n",
              "      <td>0.431061</td>\n",
              "      <td>0.8644</td>\n",
              "    </tr>\n",
              "  </tbody>\n",
              "</table>\n",
              "</div>"
            ],
            "text/plain": [
              "       Loss  Accuracy\n",
              "0  0.854636    0.7060\n",
              "1  0.654435    0.7946\n",
              "2  0.636442    0.8048\n",
              "3  0.431061    0.8644"
            ]
          },
          "metadata": {
            "tags": []
          },
          "execution_count": 32
        }
      ]
    }
  ]
}