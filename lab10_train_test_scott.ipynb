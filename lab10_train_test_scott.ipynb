{
  "nbformat": 4,
  "nbformat_minor": 0,
  "metadata": {
    "colab": {
      "name": "lab10_train_test_scott.ipynb",
      "private_outputs": true,
      "provenance": [],
      "authorship_tag": "ABX9TyNWNGsaENsH1/+RGqgo6fE8",
      "include_colab_link": true
    },
    "kernelspec": {
      "name": "python3",
      "display_name": "Python 3"
    },
    "language_info": {
      "name": "python"
    },
    "accelerator": "GPU"
  },
  "cells": [
    {
      "cell_type": "markdown",
      "metadata": {
        "id": "view-in-github",
        "colab_type": "text"
      },
      "source": [
        "<a href=\"https://colab.research.google.com/github/Scott-S-Lin/NTUT_PhD/blob/main/lab10_train_test_scott.ipynb\" target=\"_parent\"><img src=\"https://colab.research.google.com/assets/colab-badge.svg\" alt=\"Open In Colab\"/></a>"
      ]
    },
    {
      "cell_type": "code",
      "metadata": {
        "id": "KLVxqMvh5mr_"
      },
      "source": [
        "from google.colab import drive\n",
        "drive.mount('/content/drive')"
      ],
      "execution_count": null,
      "outputs": []
    },
    {
      "cell_type": "code",
      "metadata": {
        "id": "dEi67UGl56Ga"
      },
      "source": [
        "import sys\n",
        "import os\n",
        "\n",
        "py_file_location = \"/content/drive/MyDrive/Colab Notebooks\"\n",
        "sys.path.append(os.path.abspath(py_file_location)"
      ],
      "execution_count": null,
      "outputs": []
    },
    {
      "cell_type": "code",
      "metadata": {
        "id": "tdZMGsDS6Hlo"
      },
      "source": [
        "%pwd\n",
        "%cd \"/content/drive/MyDrive/Colab Notebooks\""
      ],
      "execution_count": null,
      "outputs": []
    },
    {
      "cell_type": "code",
      "metadata": {
        "id": "AGM7zi0Ylagv"
      },
      "source": [
        "import os\n",
        "import tensorflow as tf\n",
        "import tensorflow_datasets as tfds\n",
        "from tensorflow import keras\n",
        "from utils.models import create_vae_model\n",
        "from utils.losses import reconstruction_loss\n",
        "from utils.callbacks import SaveDecoderOutput, SaveDecoderModel\n",
        "os.environ[\"CUDA_VISIBLE_DEVICES\"] = \"0\"\n",
        "\n",
        "\n",
        "def parse_fn(dataset, input_size=(28, 28)):\n",
        "    x = tf.cast(dataset['image'], tf.float32)\n",
        "    x = tf.image.resize(x, input_size)\n",
        "    x = x / 255.\n",
        "    return x, x\n",
        "\n",
        "\n",
        "dataset = 'mnist'     # 'cifar10', 'fashion_mnist', 'mnist'\n",
        "log_dirs = 'logs_vae'\n",
        "batch_size = 16\n",
        "latent_dim = 2\n",
        "input_shape = (28, 28, 1)\n",
        "\n",
        "# Load datasets\n",
        "train_data = tfds.load(dataset, split=tfds.Split.TRAIN)\n",
        "test_data = tfds.load(dataset, split=tfds.Split.TEST)\n",
        "\n",
        "# Setting datasets\n",
        "AUTOTUNE = tf.data.experimental.AUTOTUNE  # 自動調整模式\n",
        "train_data = train_data.shuffle(1000)\n",
        "train_data = train_data.map(parse_fn, num_parallel_calls=AUTOTUNE)\n",
        "train_data = train_data.batch(batch_size)\n",
        "train_data = train_data.prefetch(buffer_size=AUTOTUNE)\n",
        "test_data = test_data.map(parse_fn, num_parallel_calls=AUTOTUNE)\n",
        "test_data = test_data.batch(batch_size)\n",
        "test_data = test_data.prefetch(buffer_size=AUTOTUNE)\n",
        "\n",
        "# Callbacks function\n",
        "model_dir = log_dirs + '/models'\n",
        "os.makedirs(model_dir, exist_ok=True)\n",
        "model_tb = keras.callbacks.TensorBoard(log_dir=log_dirs)\n",
        "model_sdw = SaveDecoderModel(model_dir + '/best_model.h5', monitor='val_loss')\n",
        "model_testd = SaveDecoderOutput(28, log_dir=log_dirs)\n",
        "\n",
        "# create vae model\n",
        "vae_model = create_vae_model(input_shape, latent_dim)\n",
        "\n",
        "# training\n",
        "optimizer = tf.keras.optimizers.RMSprop()\n",
        "vae_model.compile(optimizer, loss=reconstruction_loss)\n",
        "vae_model.fit(train_data, epochs=20, validation_data=test_data, callbacks=[model_tb, model_sdw, model_testd])\n"
      ],
      "execution_count": null,
      "outputs": []
    },
    {
      "cell_type": "code",
      "metadata": {
        "id": "8yfQgXSxBGes"
      },
      "source": [
        "%pwd"
      ],
      "execution_count": null,
      "outputs": []
    },
    {
      "cell_type": "code",
      "metadata": {
        "id": "gmbeZCXFA9yo"
      },
      "source": [
        "import numpy as np\n",
        "import tensorflow as tf\n",
        "import matplotlib.pyplot as plt\n",
        "import os\n",
        "os.environ[\"CUDA_VISIBLE_DEVICES\"] = \"0\"\n",
        "\n",
        "\n",
        "size = 28\n",
        "n = 15\n",
        "save_images = np.zeros((size * n, size * n, 1))\n",
        "# linearly spaced coordinates corresponding to the 2D plot of digit classes in the latent space\n",
        "grid_x = np.linspace(-1.5, 1.5, n)\n",
        "grid_y = np.linspace(-1.5, 1.5, n)\n",
        "model = tf.keras.models.load_model('logs_vae/models/best_model.h5')\n",
        "for i, yi in enumerate(grid_x):\n",
        "    for j, xi in enumerate(grid_y):\n",
        "        z_sample = np.array([[xi, yi]])\n",
        "        img = model(z_sample)\n",
        "        save_images[i * size: (i + 1) * size, j * size: (j + 1) * size] = img.numpy()[0]\n",
        "\n",
        "plt.imshow(save_images[..., 0], cmap='gray')\n",
        "plt.show()\n",
        "plt.imsave('output.png', save_images[..., 0], cmap='gray')"
      ],
      "execution_count": null,
      "outputs": []
    },
    {
      "cell_type": "code",
      "metadata": {
        "id": "BlDqezxGCXZT"
      },
      "source": [
        "%load_ext tensorboard"
      ],
      "execution_count": null,
      "outputs": []
    },
    {
      "cell_type": "code",
      "metadata": {
        "id": "ISR9hUEGCMUR"
      },
      "source": [
        "tensorboard --logdir logs_vae"
      ],
      "execution_count": null,
      "outputs": []
    }
  ]
}