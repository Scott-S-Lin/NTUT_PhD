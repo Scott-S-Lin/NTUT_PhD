{
  "nbformat": 4,
  "nbformat_minor": 0,
  "metadata": {
    "kernelspec": {
      "display_name": "tf2",
      "language": "python",
      "name": "tf2"
    },
    "language_info": {
      "codemirror_mode": {
        "name": "ipython",
        "version": 3
      },
      "file_extension": ".py",
      "mimetype": "text/x-python",
      "name": "python",
      "nbconvert_exporter": "python",
      "pygments_lexer": "ipython3",
      "version": "3.7.7"
    },
    "pycharm": {
      "stem_cell": {
        "cell_type": "raw",
        "metadata": {
          "collapsed": false
        },
        "source": []
      }
    },
    "colab": {
      "name": "Lab6_scott.ipynb",
      "provenance": [],
      "include_colab_link": true
    },
    "accelerator": "GPU",
    "widgets": {
      "application/vnd.jupyter.widget-state+json": {
        "957e713c7df64b79a34c4621332d5b39": {
          "model_module": "@jupyter-widgets/controls",
          "model_name": "HBoxModel",
          "state": {
            "_view_name": "HBoxView",
            "_dom_classes": [],
            "_model_name": "HBoxModel",
            "_view_module": "@jupyter-widgets/controls",
            "_model_module_version": "1.5.0",
            "_view_count": null,
            "_view_module_version": "1.5.0",
            "box_style": "",
            "layout": "IPY_MODEL_44d83a72a5ff403f9357521cd4083fa2",
            "_model_module": "@jupyter-widgets/controls",
            "children": [
              "IPY_MODEL_b8e90eb17f53463aa0432ca7d42759f8",
              "IPY_MODEL_5feb7614fbf44ac1a31bc80aad2194da"
            ]
          }
        },
        "44d83a72a5ff403f9357521cd4083fa2": {
          "model_module": "@jupyter-widgets/base",
          "model_name": "LayoutModel",
          "state": {
            "_view_name": "LayoutView",
            "grid_template_rows": null,
            "right": null,
            "justify_content": null,
            "_view_module": "@jupyter-widgets/base",
            "overflow": null,
            "_model_module_version": "1.2.0",
            "_view_count": null,
            "flex_flow": null,
            "width": null,
            "min_width": null,
            "border": null,
            "align_items": null,
            "bottom": null,
            "_model_module": "@jupyter-widgets/base",
            "top": null,
            "grid_column": null,
            "overflow_y": null,
            "overflow_x": null,
            "grid_auto_flow": null,
            "grid_area": null,
            "grid_template_columns": null,
            "flex": null,
            "_model_name": "LayoutModel",
            "justify_items": null,
            "grid_row": null,
            "max_height": null,
            "align_content": null,
            "visibility": null,
            "align_self": null,
            "height": null,
            "min_height": null,
            "padding": null,
            "grid_auto_rows": null,
            "grid_gap": null,
            "max_width": null,
            "order": null,
            "_view_module_version": "1.2.0",
            "grid_template_areas": null,
            "object_position": null,
            "object_fit": null,
            "grid_auto_columns": null,
            "margin": null,
            "display": null,
            "left": null
          }
        },
        "b8e90eb17f53463aa0432ca7d42759f8": {
          "model_module": "@jupyter-widgets/controls",
          "model_name": "FloatProgressModel",
          "state": {
            "_view_name": "ProgressView",
            "style": "IPY_MODEL_a702a3c9c65b4b34bf41c4a72ee62afe",
            "_dom_classes": [],
            "description": "Dl Completed...: 100%",
            "_model_name": "FloatProgressModel",
            "bar_style": "success",
            "max": 1,
            "_view_module": "@jupyter-widgets/controls",
            "_model_module_version": "1.5.0",
            "value": 1,
            "_view_count": null,
            "_view_module_version": "1.5.0",
            "orientation": "horizontal",
            "min": 0,
            "description_tooltip": null,
            "_model_module": "@jupyter-widgets/controls",
            "layout": "IPY_MODEL_54f3e863c259400c9045639bd94884bc"
          }
        },
        "5feb7614fbf44ac1a31bc80aad2194da": {
          "model_module": "@jupyter-widgets/controls",
          "model_name": "HTMLModel",
          "state": {
            "_view_name": "HTMLView",
            "style": "IPY_MODEL_d36e1f7fd3f5499fabc71ad0e756968e",
            "_dom_classes": [],
            "description": "",
            "_model_name": "HTMLModel",
            "placeholder": "​",
            "_view_module": "@jupyter-widgets/controls",
            "_model_module_version": "1.5.0",
            "value": " 1/1 [00:15&lt;00:00, 15.46s/ url]",
            "_view_count": null,
            "_view_module_version": "1.5.0",
            "description_tooltip": null,
            "_model_module": "@jupyter-widgets/controls",
            "layout": "IPY_MODEL_6fc204b6b71f49508560695da7fa91d5"
          }
        },
        "a702a3c9c65b4b34bf41c4a72ee62afe": {
          "model_module": "@jupyter-widgets/controls",
          "model_name": "ProgressStyleModel",
          "state": {
            "_view_name": "StyleView",
            "_model_name": "ProgressStyleModel",
            "description_width": "initial",
            "_view_module": "@jupyter-widgets/base",
            "_model_module_version": "1.5.0",
            "_view_count": null,
            "_view_module_version": "1.2.0",
            "bar_color": null,
            "_model_module": "@jupyter-widgets/controls"
          }
        },
        "54f3e863c259400c9045639bd94884bc": {
          "model_module": "@jupyter-widgets/base",
          "model_name": "LayoutModel",
          "state": {
            "_view_name": "LayoutView",
            "grid_template_rows": null,
            "right": null,
            "justify_content": null,
            "_view_module": "@jupyter-widgets/base",
            "overflow": null,
            "_model_module_version": "1.2.0",
            "_view_count": null,
            "flex_flow": null,
            "width": null,
            "min_width": null,
            "border": null,
            "align_items": null,
            "bottom": null,
            "_model_module": "@jupyter-widgets/base",
            "top": null,
            "grid_column": null,
            "overflow_y": null,
            "overflow_x": null,
            "grid_auto_flow": null,
            "grid_area": null,
            "grid_template_columns": null,
            "flex": null,
            "_model_name": "LayoutModel",
            "justify_items": null,
            "grid_row": null,
            "max_height": null,
            "align_content": null,
            "visibility": null,
            "align_self": null,
            "height": null,
            "min_height": null,
            "padding": null,
            "grid_auto_rows": null,
            "grid_gap": null,
            "max_width": null,
            "order": null,
            "_view_module_version": "1.2.0",
            "grid_template_areas": null,
            "object_position": null,
            "object_fit": null,
            "grid_auto_columns": null,
            "margin": null,
            "display": null,
            "left": null
          }
        },
        "d36e1f7fd3f5499fabc71ad0e756968e": {
          "model_module": "@jupyter-widgets/controls",
          "model_name": "DescriptionStyleModel",
          "state": {
            "_view_name": "StyleView",
            "_model_name": "DescriptionStyleModel",
            "description_width": "",
            "_view_module": "@jupyter-widgets/base",
            "_model_module_version": "1.5.0",
            "_view_count": null,
            "_view_module_version": "1.2.0",
            "_model_module": "@jupyter-widgets/controls"
          }
        },
        "6fc204b6b71f49508560695da7fa91d5": {
          "model_module": "@jupyter-widgets/base",
          "model_name": "LayoutModel",
          "state": {
            "_view_name": "LayoutView",
            "grid_template_rows": null,
            "right": null,
            "justify_content": null,
            "_view_module": "@jupyter-widgets/base",
            "overflow": null,
            "_model_module_version": "1.2.0",
            "_view_count": null,
            "flex_flow": null,
            "width": null,
            "min_width": null,
            "border": null,
            "align_items": null,
            "bottom": null,
            "_model_module": "@jupyter-widgets/base",
            "top": null,
            "grid_column": null,
            "overflow_y": null,
            "overflow_x": null,
            "grid_auto_flow": null,
            "grid_area": null,
            "grid_template_columns": null,
            "flex": null,
            "_model_name": "LayoutModel",
            "justify_items": null,
            "grid_row": null,
            "max_height": null,
            "align_content": null,
            "visibility": null,
            "align_self": null,
            "height": null,
            "min_height": null,
            "padding": null,
            "grid_auto_rows": null,
            "grid_gap": null,
            "max_width": null,
            "order": null,
            "_view_module_version": "1.2.0",
            "grid_template_areas": null,
            "object_position": null,
            "object_fit": null,
            "grid_auto_columns": null,
            "margin": null,
            "display": null,
            "left": null
          }
        },
        "788f6c8b329e4c24a3d0837c142a98b5": {
          "model_module": "@jupyter-widgets/controls",
          "model_name": "HBoxModel",
          "state": {
            "_view_name": "HBoxView",
            "_dom_classes": [],
            "_model_name": "HBoxModel",
            "_view_module": "@jupyter-widgets/controls",
            "_model_module_version": "1.5.0",
            "_view_count": null,
            "_view_module_version": "1.5.0",
            "box_style": "",
            "layout": "IPY_MODEL_288ada81b9cb4ba7abef77b0279828e1",
            "_model_module": "@jupyter-widgets/controls",
            "children": [
              "IPY_MODEL_6fce08f127d14c87bca09bb89a544de6",
              "IPY_MODEL_e8dbe096e3e4458d93af16ce21523e95"
            ]
          }
        },
        "288ada81b9cb4ba7abef77b0279828e1": {
          "model_module": "@jupyter-widgets/base",
          "model_name": "LayoutModel",
          "state": {
            "_view_name": "LayoutView",
            "grid_template_rows": null,
            "right": null,
            "justify_content": null,
            "_view_module": "@jupyter-widgets/base",
            "overflow": null,
            "_model_module_version": "1.2.0",
            "_view_count": null,
            "flex_flow": null,
            "width": null,
            "min_width": null,
            "border": null,
            "align_items": null,
            "bottom": null,
            "_model_module": "@jupyter-widgets/base",
            "top": null,
            "grid_column": null,
            "overflow_y": null,
            "overflow_x": null,
            "grid_auto_flow": null,
            "grid_area": null,
            "grid_template_columns": null,
            "flex": null,
            "_model_name": "LayoutModel",
            "justify_items": null,
            "grid_row": null,
            "max_height": null,
            "align_content": null,
            "visibility": null,
            "align_self": null,
            "height": null,
            "min_height": null,
            "padding": null,
            "grid_auto_rows": null,
            "grid_gap": null,
            "max_width": null,
            "order": null,
            "_view_module_version": "1.2.0",
            "grid_template_areas": null,
            "object_position": null,
            "object_fit": null,
            "grid_auto_columns": null,
            "margin": null,
            "display": null,
            "left": null
          }
        },
        "6fce08f127d14c87bca09bb89a544de6": {
          "model_module": "@jupyter-widgets/controls",
          "model_name": "FloatProgressModel",
          "state": {
            "_view_name": "ProgressView",
            "style": "IPY_MODEL_6ba0a9816cff4229aea3b9569b81f54b",
            "_dom_classes": [],
            "description": "Dl Size...: 100%",
            "_model_name": "FloatProgressModel",
            "bar_style": "success",
            "max": 1,
            "_view_module": "@jupyter-widgets/controls",
            "_model_module_version": "1.5.0",
            "value": 1,
            "_view_count": null,
            "_view_module_version": "1.5.0",
            "orientation": "horizontal",
            "min": 0,
            "description_tooltip": null,
            "_model_module": "@jupyter-widgets/controls",
            "layout": "IPY_MODEL_fe74b8e2c6554ef593069c6d7ab06761"
          }
        },
        "e8dbe096e3e4458d93af16ce21523e95": {
          "model_module": "@jupyter-widgets/controls",
          "model_name": "HTMLModel",
          "state": {
            "_view_name": "HTMLView",
            "style": "IPY_MODEL_b74b2e8811b9499b8fad221b3b5b81b6",
            "_dom_classes": [],
            "description": "",
            "_model_name": "HTMLModel",
            "placeholder": "​",
            "_view_module": "@jupyter-widgets/controls",
            "_model_module_version": "1.5.0",
            "value": " 162/162 [00:15&lt;00:00, 10.51 MiB/s]",
            "_view_count": null,
            "_view_module_version": "1.5.0",
            "description_tooltip": null,
            "_model_module": "@jupyter-widgets/controls",
            "layout": "IPY_MODEL_0b8d3097e7f447a78969c8ab2a5c8794"
          }
        },
        "6ba0a9816cff4229aea3b9569b81f54b": {
          "model_module": "@jupyter-widgets/controls",
          "model_name": "ProgressStyleModel",
          "state": {
            "_view_name": "StyleView",
            "_model_name": "ProgressStyleModel",
            "description_width": "initial",
            "_view_module": "@jupyter-widgets/base",
            "_model_module_version": "1.5.0",
            "_view_count": null,
            "_view_module_version": "1.2.0",
            "bar_color": null,
            "_model_module": "@jupyter-widgets/controls"
          }
        },
        "fe74b8e2c6554ef593069c6d7ab06761": {
          "model_module": "@jupyter-widgets/base",
          "model_name": "LayoutModel",
          "state": {
            "_view_name": "LayoutView",
            "grid_template_rows": null,
            "right": null,
            "justify_content": null,
            "_view_module": "@jupyter-widgets/base",
            "overflow": null,
            "_model_module_version": "1.2.0",
            "_view_count": null,
            "flex_flow": null,
            "width": null,
            "min_width": null,
            "border": null,
            "align_items": null,
            "bottom": null,
            "_model_module": "@jupyter-widgets/base",
            "top": null,
            "grid_column": null,
            "overflow_y": null,
            "overflow_x": null,
            "grid_auto_flow": null,
            "grid_area": null,
            "grid_template_columns": null,
            "flex": null,
            "_model_name": "LayoutModel",
            "justify_items": null,
            "grid_row": null,
            "max_height": null,
            "align_content": null,
            "visibility": null,
            "align_self": null,
            "height": null,
            "min_height": null,
            "padding": null,
            "grid_auto_rows": null,
            "grid_gap": null,
            "max_width": null,
            "order": null,
            "_view_module_version": "1.2.0",
            "grid_template_areas": null,
            "object_position": null,
            "object_fit": null,
            "grid_auto_columns": null,
            "margin": null,
            "display": null,
            "left": null
          }
        },
        "b74b2e8811b9499b8fad221b3b5b81b6": {
          "model_module": "@jupyter-widgets/controls",
          "model_name": "DescriptionStyleModel",
          "state": {
            "_view_name": "StyleView",
            "_model_name": "DescriptionStyleModel",
            "description_width": "",
            "_view_module": "@jupyter-widgets/base",
            "_model_module_version": "1.5.0",
            "_view_count": null,
            "_view_module_version": "1.2.0",
            "_model_module": "@jupyter-widgets/controls"
          }
        },
        "0b8d3097e7f447a78969c8ab2a5c8794": {
          "model_module": "@jupyter-widgets/base",
          "model_name": "LayoutModel",
          "state": {
            "_view_name": "LayoutView",
            "grid_template_rows": null,
            "right": null,
            "justify_content": null,
            "_view_module": "@jupyter-widgets/base",
            "overflow": null,
            "_model_module_version": "1.2.0",
            "_view_count": null,
            "flex_flow": null,
            "width": null,
            "min_width": null,
            "border": null,
            "align_items": null,
            "bottom": null,
            "_model_module": "@jupyter-widgets/base",
            "top": null,
            "grid_column": null,
            "overflow_y": null,
            "overflow_x": null,
            "grid_auto_flow": null,
            "grid_area": null,
            "grid_template_columns": null,
            "flex": null,
            "_model_name": "LayoutModel",
            "justify_items": null,
            "grid_row": null,
            "max_height": null,
            "align_content": null,
            "visibility": null,
            "align_self": null,
            "height": null,
            "min_height": null,
            "padding": null,
            "grid_auto_rows": null,
            "grid_gap": null,
            "max_width": null,
            "order": null,
            "_view_module_version": "1.2.0",
            "grid_template_areas": null,
            "object_position": null,
            "object_fit": null,
            "grid_auto_columns": null,
            "margin": null,
            "display": null,
            "left": null
          }
        },
        "65d7944411e8439fa58f1beba6edb3cc": {
          "model_module": "@jupyter-widgets/controls",
          "model_name": "HBoxModel",
          "state": {
            "_view_name": "HBoxView",
            "_dom_classes": [],
            "_model_name": "HBoxModel",
            "_view_module": "@jupyter-widgets/controls",
            "_model_module_version": "1.5.0",
            "_view_count": null,
            "_view_module_version": "1.5.0",
            "box_style": "",
            "layout": "IPY_MODEL_9749f422edde47dba6b6bf4172e41108",
            "_model_module": "@jupyter-widgets/controls",
            "children": [
              "IPY_MODEL_8965ab38b6aa4883a8630747facbf4e4",
              "IPY_MODEL_af9bbd4d69374e96983433d276a12c9a"
            ]
          }
        },
        "9749f422edde47dba6b6bf4172e41108": {
          "model_module": "@jupyter-widgets/base",
          "model_name": "LayoutModel",
          "state": {
            "_view_name": "LayoutView",
            "grid_template_rows": null,
            "right": null,
            "justify_content": null,
            "_view_module": "@jupyter-widgets/base",
            "overflow": null,
            "_model_module_version": "1.2.0",
            "_view_count": null,
            "flex_flow": null,
            "width": null,
            "min_width": null,
            "border": null,
            "align_items": null,
            "bottom": null,
            "_model_module": "@jupyter-widgets/base",
            "top": null,
            "grid_column": null,
            "overflow_y": null,
            "overflow_x": null,
            "grid_auto_flow": null,
            "grid_area": null,
            "grid_template_columns": null,
            "flex": null,
            "_model_name": "LayoutModel",
            "justify_items": null,
            "grid_row": null,
            "max_height": null,
            "align_content": null,
            "visibility": null,
            "align_self": null,
            "height": null,
            "min_height": null,
            "padding": null,
            "grid_auto_rows": null,
            "grid_gap": null,
            "max_width": null,
            "order": null,
            "_view_module_version": "1.2.0",
            "grid_template_areas": null,
            "object_position": null,
            "object_fit": null,
            "grid_auto_columns": null,
            "margin": null,
            "display": null,
            "left": null
          }
        },
        "8965ab38b6aa4883a8630747facbf4e4": {
          "model_module": "@jupyter-widgets/controls",
          "model_name": "FloatProgressModel",
          "state": {
            "_view_name": "ProgressView",
            "style": "IPY_MODEL_19580e38f77a401ca8daa70890c6e3b6",
            "_dom_classes": [],
            "description": "Extraction completed...: 100%",
            "_model_name": "FloatProgressModel",
            "bar_style": "success",
            "max": 1,
            "_view_module": "@jupyter-widgets/controls",
            "_model_module_version": "1.5.0",
            "value": 1,
            "_view_count": null,
            "_view_module_version": "1.5.0",
            "orientation": "horizontal",
            "min": 0,
            "description_tooltip": null,
            "_model_module": "@jupyter-widgets/controls",
            "layout": "IPY_MODEL_b1208213700c4a78b50c97da6c03cd73"
          }
        },
        "af9bbd4d69374e96983433d276a12c9a": {
          "model_module": "@jupyter-widgets/controls",
          "model_name": "HTMLModel",
          "state": {
            "_view_name": "HTMLView",
            "style": "IPY_MODEL_5057ca80b98048e682e813fbbaef2f4f",
            "_dom_classes": [],
            "description": "",
            "_model_name": "HTMLModel",
            "placeholder": "​",
            "_view_module": "@jupyter-widgets/controls",
            "_model_module_version": "1.5.0",
            "value": " 1/1 [00:15&lt;00:00, 15.36s/ file]",
            "_view_count": null,
            "_view_module_version": "1.5.0",
            "description_tooltip": null,
            "_model_module": "@jupyter-widgets/controls",
            "layout": "IPY_MODEL_c410a751dc1f4426970ed8853c4453ed"
          }
        },
        "19580e38f77a401ca8daa70890c6e3b6": {
          "model_module": "@jupyter-widgets/controls",
          "model_name": "ProgressStyleModel",
          "state": {
            "_view_name": "StyleView",
            "_model_name": "ProgressStyleModel",
            "description_width": "initial",
            "_view_module": "@jupyter-widgets/base",
            "_model_module_version": "1.5.0",
            "_view_count": null,
            "_view_module_version": "1.2.0",
            "bar_color": null,
            "_model_module": "@jupyter-widgets/controls"
          }
        },
        "b1208213700c4a78b50c97da6c03cd73": {
          "model_module": "@jupyter-widgets/base",
          "model_name": "LayoutModel",
          "state": {
            "_view_name": "LayoutView",
            "grid_template_rows": null,
            "right": null,
            "justify_content": null,
            "_view_module": "@jupyter-widgets/base",
            "overflow": null,
            "_model_module_version": "1.2.0",
            "_view_count": null,
            "flex_flow": null,
            "width": null,
            "min_width": null,
            "border": null,
            "align_items": null,
            "bottom": null,
            "_model_module": "@jupyter-widgets/base",
            "top": null,
            "grid_column": null,
            "overflow_y": null,
            "overflow_x": null,
            "grid_auto_flow": null,
            "grid_area": null,
            "grid_template_columns": null,
            "flex": null,
            "_model_name": "LayoutModel",
            "justify_items": null,
            "grid_row": null,
            "max_height": null,
            "align_content": null,
            "visibility": null,
            "align_self": null,
            "height": null,
            "min_height": null,
            "padding": null,
            "grid_auto_rows": null,
            "grid_gap": null,
            "max_width": null,
            "order": null,
            "_view_module_version": "1.2.0",
            "grid_template_areas": null,
            "object_position": null,
            "object_fit": null,
            "grid_auto_columns": null,
            "margin": null,
            "display": null,
            "left": null
          }
        },
        "5057ca80b98048e682e813fbbaef2f4f": {
          "model_module": "@jupyter-widgets/controls",
          "model_name": "DescriptionStyleModel",
          "state": {
            "_view_name": "StyleView",
            "_model_name": "DescriptionStyleModel",
            "description_width": "",
            "_view_module": "@jupyter-widgets/base",
            "_model_module_version": "1.5.0",
            "_view_count": null,
            "_view_module_version": "1.2.0",
            "_model_module": "@jupyter-widgets/controls"
          }
        },
        "c410a751dc1f4426970ed8853c4453ed": {
          "model_module": "@jupyter-widgets/base",
          "model_name": "LayoutModel",
          "state": {
            "_view_name": "LayoutView",
            "grid_template_rows": null,
            "right": null,
            "justify_content": null,
            "_view_module": "@jupyter-widgets/base",
            "overflow": null,
            "_model_module_version": "1.2.0",
            "_view_count": null,
            "flex_flow": null,
            "width": null,
            "min_width": null,
            "border": null,
            "align_items": null,
            "bottom": null,
            "_model_module": "@jupyter-widgets/base",
            "top": null,
            "grid_column": null,
            "overflow_y": null,
            "overflow_x": null,
            "grid_auto_flow": null,
            "grid_area": null,
            "grid_template_columns": null,
            "flex": null,
            "_model_name": "LayoutModel",
            "justify_items": null,
            "grid_row": null,
            "max_height": null,
            "align_content": null,
            "visibility": null,
            "align_self": null,
            "height": null,
            "min_height": null,
            "padding": null,
            "grid_auto_rows": null,
            "grid_gap": null,
            "max_width": null,
            "order": null,
            "_view_module_version": "1.2.0",
            "grid_template_areas": null,
            "object_position": null,
            "object_fit": null,
            "grid_auto_columns": null,
            "margin": null,
            "display": null,
            "left": null
          }
        },
        "5c9bf35c9a334fd18100e0722ec3a63d": {
          "model_module": "@jupyter-widgets/controls",
          "model_name": "HBoxModel",
          "state": {
            "_view_name": "HBoxView",
            "_dom_classes": [],
            "_model_name": "HBoxModel",
            "_view_module": "@jupyter-widgets/controls",
            "_model_module_version": "1.5.0",
            "_view_count": null,
            "_view_module_version": "1.5.0",
            "box_style": "",
            "layout": "IPY_MODEL_8c439c7a50524ce9a4b896021af743d7",
            "_model_module": "@jupyter-widgets/controls",
            "children": [
              "IPY_MODEL_dbf12ddec14844389b0c5cbe683c830a",
              "IPY_MODEL_c3a8e86a1a32448c8270421344723826"
            ]
          }
        },
        "8c439c7a50524ce9a4b896021af743d7": {
          "model_module": "@jupyter-widgets/base",
          "model_name": "LayoutModel",
          "state": {
            "_view_name": "LayoutView",
            "grid_template_rows": null,
            "right": null,
            "justify_content": null,
            "_view_module": "@jupyter-widgets/base",
            "overflow": null,
            "_model_module_version": "1.2.0",
            "_view_count": null,
            "flex_flow": null,
            "width": null,
            "min_width": null,
            "border": null,
            "align_items": null,
            "bottom": null,
            "_model_module": "@jupyter-widgets/base",
            "top": null,
            "grid_column": null,
            "overflow_y": null,
            "overflow_x": null,
            "grid_auto_flow": null,
            "grid_area": null,
            "grid_template_columns": null,
            "flex": null,
            "_model_name": "LayoutModel",
            "justify_items": null,
            "grid_row": null,
            "max_height": null,
            "align_content": null,
            "visibility": null,
            "align_self": null,
            "height": null,
            "min_height": null,
            "padding": null,
            "grid_auto_rows": null,
            "grid_gap": null,
            "max_width": null,
            "order": null,
            "_view_module_version": "1.2.0",
            "grid_template_areas": null,
            "object_position": null,
            "object_fit": null,
            "grid_auto_columns": null,
            "margin": null,
            "display": null,
            "left": null
          }
        },
        "dbf12ddec14844389b0c5cbe683c830a": {
          "model_module": "@jupyter-widgets/controls",
          "model_name": "FloatProgressModel",
          "state": {
            "_view_name": "ProgressView",
            "style": "IPY_MODEL_de5c90611d364a2e9e65490fb3628e48",
            "_dom_classes": [],
            "description": "",
            "_model_name": "FloatProgressModel",
            "bar_style": "info",
            "max": 1,
            "_view_module": "@jupyter-widgets/controls",
            "_model_module_version": "1.5.0",
            "value": 1,
            "_view_count": null,
            "_view_module_version": "1.5.0",
            "orientation": "horizontal",
            "min": 0,
            "description_tooltip": null,
            "_model_module": "@jupyter-widgets/controls",
            "layout": "IPY_MODEL_a57b55890e5d4ec2a591de265b98657b"
          }
        },
        "c3a8e86a1a32448c8270421344723826": {
          "model_module": "@jupyter-widgets/controls",
          "model_name": "HTMLModel",
          "state": {
            "_view_name": "HTMLView",
            "style": "IPY_MODEL_199a8302aa6b4d729e0edcb3c016641a",
            "_dom_classes": [],
            "description": "",
            "_model_name": "HTMLModel",
            "placeholder": "​",
            "_view_module": "@jupyter-widgets/controls",
            "_model_module_version": "1.5.0",
            "value": " 50000/0 [00:40&lt;00:00, 1436.18 examples/s]",
            "_view_count": null,
            "_view_module_version": "1.5.0",
            "description_tooltip": null,
            "_model_module": "@jupyter-widgets/controls",
            "layout": "IPY_MODEL_0a26cf7fa1a143acbc15943d1024c36d"
          }
        },
        "de5c90611d364a2e9e65490fb3628e48": {
          "model_module": "@jupyter-widgets/controls",
          "model_name": "ProgressStyleModel",
          "state": {
            "_view_name": "StyleView",
            "_model_name": "ProgressStyleModel",
            "description_width": "initial",
            "_view_module": "@jupyter-widgets/base",
            "_model_module_version": "1.5.0",
            "_view_count": null,
            "_view_module_version": "1.2.0",
            "bar_color": null,
            "_model_module": "@jupyter-widgets/controls"
          }
        },
        "a57b55890e5d4ec2a591de265b98657b": {
          "model_module": "@jupyter-widgets/base",
          "model_name": "LayoutModel",
          "state": {
            "_view_name": "LayoutView",
            "grid_template_rows": null,
            "right": null,
            "justify_content": null,
            "_view_module": "@jupyter-widgets/base",
            "overflow": null,
            "_model_module_version": "1.2.0",
            "_view_count": null,
            "flex_flow": null,
            "width": null,
            "min_width": null,
            "border": null,
            "align_items": null,
            "bottom": null,
            "_model_module": "@jupyter-widgets/base",
            "top": null,
            "grid_column": null,
            "overflow_y": null,
            "overflow_x": null,
            "grid_auto_flow": null,
            "grid_area": null,
            "grid_template_columns": null,
            "flex": null,
            "_model_name": "LayoutModel",
            "justify_items": null,
            "grid_row": null,
            "max_height": null,
            "align_content": null,
            "visibility": null,
            "align_self": null,
            "height": null,
            "min_height": null,
            "padding": null,
            "grid_auto_rows": null,
            "grid_gap": null,
            "max_width": null,
            "order": null,
            "_view_module_version": "1.2.0",
            "grid_template_areas": null,
            "object_position": null,
            "object_fit": null,
            "grid_auto_columns": null,
            "margin": null,
            "display": null,
            "left": null
          }
        },
        "199a8302aa6b4d729e0edcb3c016641a": {
          "model_module": "@jupyter-widgets/controls",
          "model_name": "DescriptionStyleModel",
          "state": {
            "_view_name": "StyleView",
            "_model_name": "DescriptionStyleModel",
            "description_width": "",
            "_view_module": "@jupyter-widgets/base",
            "_model_module_version": "1.5.0",
            "_view_count": null,
            "_view_module_version": "1.2.0",
            "_model_module": "@jupyter-widgets/controls"
          }
        },
        "0a26cf7fa1a143acbc15943d1024c36d": {
          "model_module": "@jupyter-widgets/base",
          "model_name": "LayoutModel",
          "state": {
            "_view_name": "LayoutView",
            "grid_template_rows": null,
            "right": null,
            "justify_content": null,
            "_view_module": "@jupyter-widgets/base",
            "overflow": null,
            "_model_module_version": "1.2.0",
            "_view_count": null,
            "flex_flow": null,
            "width": null,
            "min_width": null,
            "border": null,
            "align_items": null,
            "bottom": null,
            "_model_module": "@jupyter-widgets/base",
            "top": null,
            "grid_column": null,
            "overflow_y": null,
            "overflow_x": null,
            "grid_auto_flow": null,
            "grid_area": null,
            "grid_template_columns": null,
            "flex": null,
            "_model_name": "LayoutModel",
            "justify_items": null,
            "grid_row": null,
            "max_height": null,
            "align_content": null,
            "visibility": null,
            "align_self": null,
            "height": null,
            "min_height": null,
            "padding": null,
            "grid_auto_rows": null,
            "grid_gap": null,
            "max_width": null,
            "order": null,
            "_view_module_version": "1.2.0",
            "grid_template_areas": null,
            "object_position": null,
            "object_fit": null,
            "grid_auto_columns": null,
            "margin": null,
            "display": null,
            "left": null
          }
        },
        "046bcd1dcf624d0e9b44d2963182d97f": {
          "model_module": "@jupyter-widgets/controls",
          "model_name": "HBoxModel",
          "state": {
            "_view_name": "HBoxView",
            "_dom_classes": [],
            "_model_name": "HBoxModel",
            "_view_module": "@jupyter-widgets/controls",
            "_model_module_version": "1.5.0",
            "_view_count": null,
            "_view_module_version": "1.5.0",
            "box_style": "",
            "layout": "IPY_MODEL_29dc581386c6466b8a9761983d7808cb",
            "_model_module": "@jupyter-widgets/controls",
            "children": [
              "IPY_MODEL_c89dea193a03469b8865cd6620f89418",
              "IPY_MODEL_46de346a88cf411091ea37cff08199ea"
            ]
          }
        },
        "29dc581386c6466b8a9761983d7808cb": {
          "model_module": "@jupyter-widgets/base",
          "model_name": "LayoutModel",
          "state": {
            "_view_name": "LayoutView",
            "grid_template_rows": null,
            "right": null,
            "justify_content": null,
            "_view_module": "@jupyter-widgets/base",
            "overflow": null,
            "_model_module_version": "1.2.0",
            "_view_count": null,
            "flex_flow": null,
            "width": null,
            "min_width": null,
            "border": null,
            "align_items": null,
            "bottom": null,
            "_model_module": "@jupyter-widgets/base",
            "top": null,
            "grid_column": null,
            "overflow_y": null,
            "overflow_x": null,
            "grid_auto_flow": null,
            "grid_area": null,
            "grid_template_columns": null,
            "flex": null,
            "_model_name": "LayoutModel",
            "justify_items": null,
            "grid_row": null,
            "max_height": null,
            "align_content": null,
            "visibility": null,
            "align_self": null,
            "height": null,
            "min_height": null,
            "padding": null,
            "grid_auto_rows": null,
            "grid_gap": null,
            "max_width": null,
            "order": null,
            "_view_module_version": "1.2.0",
            "grid_template_areas": null,
            "object_position": null,
            "object_fit": null,
            "grid_auto_columns": null,
            "margin": null,
            "display": null,
            "left": null
          }
        },
        "c89dea193a03469b8865cd6620f89418": {
          "model_module": "@jupyter-widgets/controls",
          "model_name": "FloatProgressModel",
          "state": {
            "_view_name": "ProgressView",
            "style": "IPY_MODEL_db154cb1635741fa83a4ec42eb3e8d0d",
            "_dom_classes": [],
            "description": " 99%",
            "_model_name": "FloatProgressModel",
            "bar_style": "danger",
            "max": 50000,
            "_view_module": "@jupyter-widgets/controls",
            "_model_module_version": "1.5.0",
            "value": 49603,
            "_view_count": null,
            "_view_module_version": "1.5.0",
            "orientation": "horizontal",
            "min": 0,
            "description_tooltip": null,
            "_model_module": "@jupyter-widgets/controls",
            "layout": "IPY_MODEL_e2b69b03b73048c59b04c2d6f09fafa7"
          }
        },
        "46de346a88cf411091ea37cff08199ea": {
          "model_module": "@jupyter-widgets/controls",
          "model_name": "HTMLModel",
          "state": {
            "_view_name": "HTMLView",
            "style": "IPY_MODEL_c52db42c478d4b97a43d2b9c2f6ddc68",
            "_dom_classes": [],
            "description": "",
            "_model_name": "HTMLModel",
            "placeholder": "​",
            "_view_module": "@jupyter-widgets/controls",
            "_model_module_version": "1.5.0",
            "value": " 49603/50000 [00:00&lt;00:00, 3185.00 examples/s]",
            "_view_count": null,
            "_view_module_version": "1.5.0",
            "description_tooltip": null,
            "_model_module": "@jupyter-widgets/controls",
            "layout": "IPY_MODEL_2b617885fbd94135be5a9d4bfbf42f8e"
          }
        },
        "db154cb1635741fa83a4ec42eb3e8d0d": {
          "model_module": "@jupyter-widgets/controls",
          "model_name": "ProgressStyleModel",
          "state": {
            "_view_name": "StyleView",
            "_model_name": "ProgressStyleModel",
            "description_width": "initial",
            "_view_module": "@jupyter-widgets/base",
            "_model_module_version": "1.5.0",
            "_view_count": null,
            "_view_module_version": "1.2.0",
            "bar_color": null,
            "_model_module": "@jupyter-widgets/controls"
          }
        },
        "e2b69b03b73048c59b04c2d6f09fafa7": {
          "model_module": "@jupyter-widgets/base",
          "model_name": "LayoutModel",
          "state": {
            "_view_name": "LayoutView",
            "grid_template_rows": null,
            "right": null,
            "justify_content": null,
            "_view_module": "@jupyter-widgets/base",
            "overflow": null,
            "_model_module_version": "1.2.0",
            "_view_count": null,
            "flex_flow": null,
            "width": null,
            "min_width": null,
            "border": null,
            "align_items": null,
            "bottom": null,
            "_model_module": "@jupyter-widgets/base",
            "top": null,
            "grid_column": null,
            "overflow_y": null,
            "overflow_x": null,
            "grid_auto_flow": null,
            "grid_area": null,
            "grid_template_columns": null,
            "flex": null,
            "_model_name": "LayoutModel",
            "justify_items": null,
            "grid_row": null,
            "max_height": null,
            "align_content": null,
            "visibility": null,
            "align_self": null,
            "height": null,
            "min_height": null,
            "padding": null,
            "grid_auto_rows": null,
            "grid_gap": null,
            "max_width": null,
            "order": null,
            "_view_module_version": "1.2.0",
            "grid_template_areas": null,
            "object_position": null,
            "object_fit": null,
            "grid_auto_columns": null,
            "margin": null,
            "display": null,
            "left": null
          }
        },
        "c52db42c478d4b97a43d2b9c2f6ddc68": {
          "model_module": "@jupyter-widgets/controls",
          "model_name": "DescriptionStyleModel",
          "state": {
            "_view_name": "StyleView",
            "_model_name": "DescriptionStyleModel",
            "description_width": "",
            "_view_module": "@jupyter-widgets/base",
            "_model_module_version": "1.5.0",
            "_view_count": null,
            "_view_module_version": "1.2.0",
            "_model_module": "@jupyter-widgets/controls"
          }
        },
        "2b617885fbd94135be5a9d4bfbf42f8e": {
          "model_module": "@jupyter-widgets/base",
          "model_name": "LayoutModel",
          "state": {
            "_view_name": "LayoutView",
            "grid_template_rows": null,
            "right": null,
            "justify_content": null,
            "_view_module": "@jupyter-widgets/base",
            "overflow": null,
            "_model_module_version": "1.2.0",
            "_view_count": null,
            "flex_flow": null,
            "width": null,
            "min_width": null,
            "border": null,
            "align_items": null,
            "bottom": null,
            "_model_module": "@jupyter-widgets/base",
            "top": null,
            "grid_column": null,
            "overflow_y": null,
            "overflow_x": null,
            "grid_auto_flow": null,
            "grid_area": null,
            "grid_template_columns": null,
            "flex": null,
            "_model_name": "LayoutModel",
            "justify_items": null,
            "grid_row": null,
            "max_height": null,
            "align_content": null,
            "visibility": null,
            "align_self": null,
            "height": null,
            "min_height": null,
            "padding": null,
            "grid_auto_rows": null,
            "grid_gap": null,
            "max_width": null,
            "order": null,
            "_view_module_version": "1.2.0",
            "grid_template_areas": null,
            "object_position": null,
            "object_fit": null,
            "grid_auto_columns": null,
            "margin": null,
            "display": null,
            "left": null
          }
        },
        "e920eb9eee68408d88ec1db30f9acf05": {
          "model_module": "@jupyter-widgets/controls",
          "model_name": "HBoxModel",
          "state": {
            "_view_name": "HBoxView",
            "_dom_classes": [],
            "_model_name": "HBoxModel",
            "_view_module": "@jupyter-widgets/controls",
            "_model_module_version": "1.5.0",
            "_view_count": null,
            "_view_module_version": "1.5.0",
            "box_style": "",
            "layout": "IPY_MODEL_9b33b23059b747aeae3e4dd6b93fb279",
            "_model_module": "@jupyter-widgets/controls",
            "children": [
              "IPY_MODEL_7536000d443c4f4a87289f75f8f920d6",
              "IPY_MODEL_52cff650e5fc4501806a46e2d5f1be69"
            ]
          }
        },
        "9b33b23059b747aeae3e4dd6b93fb279": {
          "model_module": "@jupyter-widgets/base",
          "model_name": "LayoutModel",
          "state": {
            "_view_name": "LayoutView",
            "grid_template_rows": null,
            "right": null,
            "justify_content": null,
            "_view_module": "@jupyter-widgets/base",
            "overflow": null,
            "_model_module_version": "1.2.0",
            "_view_count": null,
            "flex_flow": null,
            "width": null,
            "min_width": null,
            "border": null,
            "align_items": null,
            "bottom": null,
            "_model_module": "@jupyter-widgets/base",
            "top": null,
            "grid_column": null,
            "overflow_y": null,
            "overflow_x": null,
            "grid_auto_flow": null,
            "grid_area": null,
            "grid_template_columns": null,
            "flex": null,
            "_model_name": "LayoutModel",
            "justify_items": null,
            "grid_row": null,
            "max_height": null,
            "align_content": null,
            "visibility": null,
            "align_self": null,
            "height": null,
            "min_height": null,
            "padding": null,
            "grid_auto_rows": null,
            "grid_gap": null,
            "max_width": null,
            "order": null,
            "_view_module_version": "1.2.0",
            "grid_template_areas": null,
            "object_position": null,
            "object_fit": null,
            "grid_auto_columns": null,
            "margin": null,
            "display": null,
            "left": null
          }
        },
        "7536000d443c4f4a87289f75f8f920d6": {
          "model_module": "@jupyter-widgets/controls",
          "model_name": "FloatProgressModel",
          "state": {
            "_view_name": "ProgressView",
            "style": "IPY_MODEL_2731abf7ff1a4666ac7561c6386d719d",
            "_dom_classes": [],
            "description": "",
            "_model_name": "FloatProgressModel",
            "bar_style": "info",
            "max": 1,
            "_view_module": "@jupyter-widgets/controls",
            "_model_module_version": "1.5.0",
            "value": 1,
            "_view_count": null,
            "_view_module_version": "1.5.0",
            "orientation": "horizontal",
            "min": 0,
            "description_tooltip": null,
            "_model_module": "@jupyter-widgets/controls",
            "layout": "IPY_MODEL_762fc545e868426f9c67979e2132fa38"
          }
        },
        "52cff650e5fc4501806a46e2d5f1be69": {
          "model_module": "@jupyter-widgets/controls",
          "model_name": "HTMLModel",
          "state": {
            "_view_name": "HTMLView",
            "style": "IPY_MODEL_d5108bee319d4c3f935e5ec9d00cc8e4",
            "_dom_classes": [],
            "description": "",
            "_model_name": "HTMLModel",
            "placeholder": "​",
            "_view_module": "@jupyter-widgets/controls",
            "_model_module_version": "1.5.0",
            "value": " 10000/0 [00:07&lt;00:00, 1404.17 examples/s]",
            "_view_count": null,
            "_view_module_version": "1.5.0",
            "description_tooltip": null,
            "_model_module": "@jupyter-widgets/controls",
            "layout": "IPY_MODEL_825e88292d08428e9bb3f4e22b5386cf"
          }
        },
        "2731abf7ff1a4666ac7561c6386d719d": {
          "model_module": "@jupyter-widgets/controls",
          "model_name": "ProgressStyleModel",
          "state": {
            "_view_name": "StyleView",
            "_model_name": "ProgressStyleModel",
            "description_width": "initial",
            "_view_module": "@jupyter-widgets/base",
            "_model_module_version": "1.5.0",
            "_view_count": null,
            "_view_module_version": "1.2.0",
            "bar_color": null,
            "_model_module": "@jupyter-widgets/controls"
          }
        },
        "762fc545e868426f9c67979e2132fa38": {
          "model_module": "@jupyter-widgets/base",
          "model_name": "LayoutModel",
          "state": {
            "_view_name": "LayoutView",
            "grid_template_rows": null,
            "right": null,
            "justify_content": null,
            "_view_module": "@jupyter-widgets/base",
            "overflow": null,
            "_model_module_version": "1.2.0",
            "_view_count": null,
            "flex_flow": null,
            "width": null,
            "min_width": null,
            "border": null,
            "align_items": null,
            "bottom": null,
            "_model_module": "@jupyter-widgets/base",
            "top": null,
            "grid_column": null,
            "overflow_y": null,
            "overflow_x": null,
            "grid_auto_flow": null,
            "grid_area": null,
            "grid_template_columns": null,
            "flex": null,
            "_model_name": "LayoutModel",
            "justify_items": null,
            "grid_row": null,
            "max_height": null,
            "align_content": null,
            "visibility": null,
            "align_self": null,
            "height": null,
            "min_height": null,
            "padding": null,
            "grid_auto_rows": null,
            "grid_gap": null,
            "max_width": null,
            "order": null,
            "_view_module_version": "1.2.0",
            "grid_template_areas": null,
            "object_position": null,
            "object_fit": null,
            "grid_auto_columns": null,
            "margin": null,
            "display": null,
            "left": null
          }
        },
        "d5108bee319d4c3f935e5ec9d00cc8e4": {
          "model_module": "@jupyter-widgets/controls",
          "model_name": "DescriptionStyleModel",
          "state": {
            "_view_name": "StyleView",
            "_model_name": "DescriptionStyleModel",
            "description_width": "",
            "_view_module": "@jupyter-widgets/base",
            "_model_module_version": "1.5.0",
            "_view_count": null,
            "_view_module_version": "1.2.0",
            "_model_module": "@jupyter-widgets/controls"
          }
        },
        "825e88292d08428e9bb3f4e22b5386cf": {
          "model_module": "@jupyter-widgets/base",
          "model_name": "LayoutModel",
          "state": {
            "_view_name": "LayoutView",
            "grid_template_rows": null,
            "right": null,
            "justify_content": null,
            "_view_module": "@jupyter-widgets/base",
            "overflow": null,
            "_model_module_version": "1.2.0",
            "_view_count": null,
            "flex_flow": null,
            "width": null,
            "min_width": null,
            "border": null,
            "align_items": null,
            "bottom": null,
            "_model_module": "@jupyter-widgets/base",
            "top": null,
            "grid_column": null,
            "overflow_y": null,
            "overflow_x": null,
            "grid_auto_flow": null,
            "grid_area": null,
            "grid_template_columns": null,
            "flex": null,
            "_model_name": "LayoutModel",
            "justify_items": null,
            "grid_row": null,
            "max_height": null,
            "align_content": null,
            "visibility": null,
            "align_self": null,
            "height": null,
            "min_height": null,
            "padding": null,
            "grid_auto_rows": null,
            "grid_gap": null,
            "max_width": null,
            "order": null,
            "_view_module_version": "1.2.0",
            "grid_template_areas": null,
            "object_position": null,
            "object_fit": null,
            "grid_auto_columns": null,
            "margin": null,
            "display": null,
            "left": null
          }
        },
        "e42fe8b3ca194e81b7f3e39f7ad21c96": {
          "model_module": "@jupyter-widgets/controls",
          "model_name": "HBoxModel",
          "state": {
            "_view_name": "HBoxView",
            "_dom_classes": [],
            "_model_name": "HBoxModel",
            "_view_module": "@jupyter-widgets/controls",
            "_model_module_version": "1.5.0",
            "_view_count": null,
            "_view_module_version": "1.5.0",
            "box_style": "",
            "layout": "IPY_MODEL_09d6f6a616394888ab8d28cd47e0fc9e",
            "_model_module": "@jupyter-widgets/controls",
            "children": [
              "IPY_MODEL_8b77875c2d6241318f4453b4a9ced315",
              "IPY_MODEL_bac8074bde5541bc92a2a5a153e15744"
            ]
          }
        },
        "09d6f6a616394888ab8d28cd47e0fc9e": {
          "model_module": "@jupyter-widgets/base",
          "model_name": "LayoutModel",
          "state": {
            "_view_name": "LayoutView",
            "grid_template_rows": null,
            "right": null,
            "justify_content": null,
            "_view_module": "@jupyter-widgets/base",
            "overflow": null,
            "_model_module_version": "1.2.0",
            "_view_count": null,
            "flex_flow": null,
            "width": null,
            "min_width": null,
            "border": null,
            "align_items": null,
            "bottom": null,
            "_model_module": "@jupyter-widgets/base",
            "top": null,
            "grid_column": null,
            "overflow_y": null,
            "overflow_x": null,
            "grid_auto_flow": null,
            "grid_area": null,
            "grid_template_columns": null,
            "flex": null,
            "_model_name": "LayoutModel",
            "justify_items": null,
            "grid_row": null,
            "max_height": null,
            "align_content": null,
            "visibility": null,
            "align_self": null,
            "height": null,
            "min_height": null,
            "padding": null,
            "grid_auto_rows": null,
            "grid_gap": null,
            "max_width": null,
            "order": null,
            "_view_module_version": "1.2.0",
            "grid_template_areas": null,
            "object_position": null,
            "object_fit": null,
            "grid_auto_columns": null,
            "margin": null,
            "display": null,
            "left": null
          }
        },
        "8b77875c2d6241318f4453b4a9ced315": {
          "model_module": "@jupyter-widgets/controls",
          "model_name": "FloatProgressModel",
          "state": {
            "_view_name": "ProgressView",
            "style": "IPY_MODEL_c6b7fce6317545eba7d92293b3599ba5",
            "_dom_classes": [],
            "description": " 37%",
            "_model_name": "FloatProgressModel",
            "bar_style": "danger",
            "max": 10000,
            "_view_module": "@jupyter-widgets/controls",
            "_model_module_version": "1.5.0",
            "value": 3746,
            "_view_count": null,
            "_view_module_version": "1.5.0",
            "orientation": "horizontal",
            "min": 0,
            "description_tooltip": null,
            "_model_module": "@jupyter-widgets/controls",
            "layout": "IPY_MODEL_cc0718052aa94289bd64d41879e912d7"
          }
        },
        "bac8074bde5541bc92a2a5a153e15744": {
          "model_module": "@jupyter-widgets/controls",
          "model_name": "HTMLModel",
          "state": {
            "_view_name": "HTMLView",
            "style": "IPY_MODEL_9923cab5faca4476b4d7bab035c96860",
            "_dom_classes": [],
            "description": "",
            "_model_name": "HTMLModel",
            "placeholder": "​",
            "_view_module": "@jupyter-widgets/controls",
            "_model_module_version": "1.5.0",
            "value": " 3746/10000 [00:00&lt;00:00, 37457.80 examples/s]",
            "_view_count": null,
            "_view_module_version": "1.5.0",
            "description_tooltip": null,
            "_model_module": "@jupyter-widgets/controls",
            "layout": "IPY_MODEL_f1ef2d9abe8c48b5894df72a2c25ac95"
          }
        },
        "c6b7fce6317545eba7d92293b3599ba5": {
          "model_module": "@jupyter-widgets/controls",
          "model_name": "ProgressStyleModel",
          "state": {
            "_view_name": "StyleView",
            "_model_name": "ProgressStyleModel",
            "description_width": "initial",
            "_view_module": "@jupyter-widgets/base",
            "_model_module_version": "1.5.0",
            "_view_count": null,
            "_view_module_version": "1.2.0",
            "bar_color": null,
            "_model_module": "@jupyter-widgets/controls"
          }
        },
        "cc0718052aa94289bd64d41879e912d7": {
          "model_module": "@jupyter-widgets/base",
          "model_name": "LayoutModel",
          "state": {
            "_view_name": "LayoutView",
            "grid_template_rows": null,
            "right": null,
            "justify_content": null,
            "_view_module": "@jupyter-widgets/base",
            "overflow": null,
            "_model_module_version": "1.2.0",
            "_view_count": null,
            "flex_flow": null,
            "width": null,
            "min_width": null,
            "border": null,
            "align_items": null,
            "bottom": null,
            "_model_module": "@jupyter-widgets/base",
            "top": null,
            "grid_column": null,
            "overflow_y": null,
            "overflow_x": null,
            "grid_auto_flow": null,
            "grid_area": null,
            "grid_template_columns": null,
            "flex": null,
            "_model_name": "LayoutModel",
            "justify_items": null,
            "grid_row": null,
            "max_height": null,
            "align_content": null,
            "visibility": null,
            "align_self": null,
            "height": null,
            "min_height": null,
            "padding": null,
            "grid_auto_rows": null,
            "grid_gap": null,
            "max_width": null,
            "order": null,
            "_view_module_version": "1.2.0",
            "grid_template_areas": null,
            "object_position": null,
            "object_fit": null,
            "grid_auto_columns": null,
            "margin": null,
            "display": null,
            "left": null
          }
        },
        "9923cab5faca4476b4d7bab035c96860": {
          "model_module": "@jupyter-widgets/controls",
          "model_name": "DescriptionStyleModel",
          "state": {
            "_view_name": "StyleView",
            "_model_name": "DescriptionStyleModel",
            "description_width": "",
            "_view_module": "@jupyter-widgets/base",
            "_model_module_version": "1.5.0",
            "_view_count": null,
            "_view_module_version": "1.2.0",
            "_model_module": "@jupyter-widgets/controls"
          }
        },
        "f1ef2d9abe8c48b5894df72a2c25ac95": {
          "model_module": "@jupyter-widgets/base",
          "model_name": "LayoutModel",
          "state": {
            "_view_name": "LayoutView",
            "grid_template_rows": null,
            "right": null,
            "justify_content": null,
            "_view_module": "@jupyter-widgets/base",
            "overflow": null,
            "_model_module_version": "1.2.0",
            "_view_count": null,
            "flex_flow": null,
            "width": null,
            "min_width": null,
            "border": null,
            "align_items": null,
            "bottom": null,
            "_model_module": "@jupyter-widgets/base",
            "top": null,
            "grid_column": null,
            "overflow_y": null,
            "overflow_x": null,
            "grid_auto_flow": null,
            "grid_area": null,
            "grid_template_columns": null,
            "flex": null,
            "_model_name": "LayoutModel",
            "justify_items": null,
            "grid_row": null,
            "max_height": null,
            "align_content": null,
            "visibility": null,
            "align_self": null,
            "height": null,
            "min_height": null,
            "padding": null,
            "grid_auto_rows": null,
            "grid_gap": null,
            "max_width": null,
            "order": null,
            "_view_module_version": "1.2.0",
            "grid_template_areas": null,
            "object_position": null,
            "object_fit": null,
            "grid_auto_columns": null,
            "margin": null,
            "display": null,
            "left": null
          }
        }
      }
    }
  },
  "cells": [
    {
      "cell_type": "markdown",
      "metadata": {
        "id": "view-in-github",
        "colab_type": "text"
      },
      "source": [
        "<a href=\"https://colab.research.google.com/github/Scott-S-Lin/NTUT_PhD/blob/main/Lab6_scott.ipynb\" target=\"_parent\"><img src=\"https://colab.research.google.com/assets/colab-badge.svg\" alt=\"Open In Colab\"/></a>"
      ]
    },
    {
      "cell_type": "markdown",
      "metadata": {
        "id": "IMvLIP-ArhwF"
      },
      "source": [
        "# TensorFlow進階技巧"
      ]
    },
    {
      "cell_type": "markdown",
      "metadata": {
        "id": "ybE95uQyrhwV"
      },
      "source": [
        "<table class=\"tfo-notebook-buttons\" align=\"left\">\n",
        "  <td>\n",
        "    <a target=\"_blank\" href=\"https://colab.research.google.com/github/taipeitechmmslab/MMSLAB-TF2/blob/master/Lab6.ipynb\"><img src=\"https://www.tensorflow.org/images/colab_logo_32px.png\" />Run in Google Colab</a>\n",
        "  </td>\n",
        "  <td>\n",
        "    <a target=\"_blank\" href=\"https://github.com/taipeitechmmslab/MMSLAB-TF2/blob/master/Lab6.ipynb\"><img src=\"https://www.tensorflow.org/images/GitHub-Mark-32px.png\" />View source on GitHub</a>\n",
        "  </td>\n",
        "</table>"
      ]
    },
    {
      "cell_type": "code",
      "metadata": {
        "id": "O1JbbJdArhwZ"
      },
      "source": [
        "import tensorflow as tf"
      ],
      "execution_count": 1,
      "outputs": []
    },
    {
      "cell_type": "markdown",
      "metadata": {
        "id": "sO6HfeNWrhwd"
      },
      "source": [
        "## Custom Layers\n",
        "透過繼承`tf.keras.layers.Layer`類別，來輕鬆創建字定義的網路層。\n",
        "\n",
        "你可以到https://www.tensorflow.org/api_docs/python/tf/keras/layers 官方API察看更多的網路層。"
      ]
    },
    {
      "cell_type": "markdown",
      "metadata": {
        "id": "2NjM8lw0rhwg"
      },
      "source": [
        "Example: 簡單的客自化Convolutional layers。"
      ]
    },
    {
      "cell_type": "code",
      "metadata": {
        "id": "F6oHCRPmrhwi"
      },
      "source": [
        "class CustomConv2D(tf.keras.layers.Layer):\n",
        "    def __init__(self, filters, kernel_size, strides=(1, 1), padding=\"VALID\", **kwargs):\n",
        "        super(CustomConv2D, self).__init__(**kwargs)\n",
        "        self.filters = filters\n",
        "        self.kernel_size = kernel_size\n",
        "        self.strides = (1, *strides, 1)\n",
        "        self.padding = padding\n",
        "\n",
        "    def build(self, input_shape):\n",
        "        kernel_h, kernel_w = self.kernel_size\n",
        "        input_dim = input_shape[-1]\n",
        "        # 創建卷積的權重值(weights)\n",
        "        self.w = self.add_weight(name='kernel', \n",
        "                                 shape=(kernel_h, kernel_w, input_dim, self.filters),\n",
        "                                 initializer='glorot_uniform',  # 設定初始化方法\n",
        "                                 trainable=True)  # 設定這個權重是否能夠訓練(更動)\n",
        "        # 創建卷積的偏差值(bias)\n",
        "        self.b = self.add_weight(name='bias', \n",
        "                                 shape=(self.filters,),\n",
        "                                 initializer='zeros',  # 設定初始化方法\n",
        "                                 trainable=True)  # 設定這個權重是否能夠訓練(更動)\n",
        "\n",
        "    def call(self, inputs):\n",
        "        x = tf.nn.conv2d(inputs, self.w, self.strides, padding=self.padding) # 卷積運算\n",
        "        x = tf.nn.bias_add(x, self.b)  # 加上偏差值\n",
        "        x = tf.nn.relu(x)  # 激活函數\n",
        "        return x"
      ],
      "execution_count": 2,
      "outputs": []
    },
    {
      "cell_type": "markdown",
      "metadata": {
        "id": "VHAPwr1trhwl"
      },
      "source": [
        "## Custom Loss\n",
        "\n",
        "在設計進階的研究方法或更深入解決問題時，TensorFlow官方文件所提供的損失函數，通常不夠使用，這時候你就必須自己定義損失函數，實作自己設計的損失函數。"
      ]
    },
    {
      "cell_type": "markdown",
      "metadata": {
        "id": "DL0Cz8GBrhwn"
      },
      "source": [
        "Example: 簡單的客自化Crossentropy Loss。"
      ]
    },
    {
      "cell_type": "code",
      "metadata": {
        "scrolled": true,
        "id": "0mNZXnF1rhwo"
      },
      "source": [
        "def custom_categorical_crossentropy(y_true, y_pred):\n",
        "    # x = tf.reduce_mean(-tf.reduce_sum(y_true * tf.log(y_pred), reduction_indices=[1]))\n",
        "    x = tf.nn.softmax_cross_entropy_with_logits(labels=y_true, logits=y_pred)\n",
        "    return x"
      ],
      "execution_count": 3,
      "outputs": []
    },
    {
      "cell_type": "markdown",
      "metadata": {
        "id": "KK_Q2EVOrhwq"
      },
      "source": [
        "## Custom Metrics\n",
        "\n",
        "如果你需要的指標函數官方API並沒有提供，你可以通過繼承`tf.keras.metrics.Metric`類別，來輕鬆創建自定義的指標函數。"
      ]
    },
    {
      "cell_type": "markdown",
      "metadata": {
        "id": "OA3H92FPrhws"
      },
      "source": [
        "Example: 計算多少個樣本是正確分類的。"
      ]
    },
    {
      "cell_type": "code",
      "metadata": {
        "id": "mS2u_m7Jrhwt"
      },
      "source": [
        "class CustomCategoricalAccuracy(tf.keras.metrics.Metric):\n",
        "    def __init__(self, name='custom_catrgorical_accuracy', **kwargs):\n",
        "        super(CustomCategoricalAccuracy, self).__init__(name=name, **kwargs)\n",
        "        # 記錄正確預測的數量\n",
        "        self.correct = self.add_weight('correct_numbers', initializer='zeros')\n",
        "        # 記錄全部資料的量數\n",
        "        self.total = self.add_weight('total_numbers', initializer='zeros')\n",
        "\n",
        "    def update_state(self, y_true, y_pred, sample_weight=None):\n",
        "        # 輸入答案為One-hot編碼，所以取最大的數值為答案\n",
        "        y_true = tf.argmax(y_true, axis=-1)\n",
        "        # 取預測輸出最大的數值為預測結果\n",
        "        y_pred = tf.argmax(y_pred, axis=-1)\n",
        "        # 比較預測結果是否正確，正確會返回True(正確)，錯誤會返回False(錯誤)\n",
        "        values = tf.equal(y_true, y_pred)\n",
        "        # 轉為浮點數True(正確)=1.0，False(錯誤)=0.0\n",
        "        values = tf.cast(values, tf.float32)\n",
        "        # 將values所有數值相加就會等於正確預測的總數\n",
        "        values_sum = tf.reduce_sum(values)\n",
        "        # 計算這個Batch的資料數量\n",
        "        num_values = tf.cast(tf.size(values), tf.float32)\n",
        "        self.correct.assign_add(values_sum)  # 更新正確預測的總數\n",
        "        self.total.assign_add(num_values)  # 更新資料量的總數\n",
        "\n",
        "    def result(self):\n",
        "        # 計算準確率\n",
        "        return tf.math.divide_no_nan(self.correct, self.total)\n",
        "\n",
        "    def reset_states(self):\n",
        "        # 每一次Epoch結束後會重新初始化變數\n",
        "        self.correct.assign(0.)\n",
        "        self.total.assign(0.)"
      ],
      "execution_count": 4,
      "outputs": []
    },
    {
      "cell_type": "markdown",
      "metadata": {
        "id": "tugVulHErhwx"
      },
      "source": [
        "## Custom Callbacks\n",
        "\n",
        "如果你需要的監控或執行的操作官方的Callbacks函數沒有提供，你可以通過繼承`tf.keras.callbacks.Callback`類別，來輕鬆創建字定義的Callbacks函數。"
      ]
    },
    {
      "cell_type": "markdown",
      "metadata": {
        "id": "Iy_3Td0brhwz"
      },
      "source": [
        "Example: 紀錄每一個batch的loss值。"
      ]
    },
    {
      "cell_type": "code",
      "metadata": {
        "id": "iVFzS2n8rhw0"
      },
      "source": [
        "class SaveModel(tf.keras.callbacks.Callback):\n",
        "    def __init__(self, weights_file, monitor='loss', mode='min', save_weights_only=False):\n",
        "        super(SaveModel, self).__init__()\n",
        "        self.weights_file = weights_file\n",
        "        self.monitor = monitor\n",
        "        self.mode = mode\n",
        "        self.save_weights_only = save_weights_only\n",
        "        if mode == 'min':\n",
        "            self.best = np.Inf\n",
        "        else:\n",
        "            self.best = -np.Inf\n",
        "        \n",
        "    def save_model(self):\n",
        "        if self.save_weights_only:\n",
        "            self.model.save_weights(self.weights_file)\n",
        "        else:\n",
        "            self.model.save(self.weights_file)\n",
        "\n",
        "    def on_epoch_end(self, epoch, logs=None):\n",
        "        monitor_value = logs.get(self.monitor)\n",
        "        if self.mode == 'min' and monitor_value < self.best:\n",
        "            self.save_model()\n",
        "            self.best = monitor_value\n",
        "        elif self.mode == 'max' and monitor_value > self.best:\n",
        "            self.save_model()\n",
        "            self.best = monitor_value"
      ],
      "execution_count": 5,
      "outputs": []
    },
    {
      "cell_type": "markdown",
      "metadata": {
        "id": "Tojq04vprhw4"
      },
      "source": [
        "# 實驗：比較Keras高階API和客製化API兩種網路訓練的結果"
      ]
    },
    {
      "cell_type": "markdown",
      "metadata": {
        "id": "mECwdlcKrhw5"
      },
      "source": [
        "### Import 必要套件"
      ]
    },
    {
      "cell_type": "code",
      "metadata": {
        "colab": {
          "resources": {
            "http://localhost:8080/nbextensions/google.colab/files.js": {
              "data": "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",
              "ok": true,
              "headers": [
                [
                  "content-type",
                  "application/javascript"
                ]
              ],
              "status": 200,
              "status_text": ""
            }
          },
          "base_uri": "https://localhost:8080/",
          "height": 76
        },
        "id": "p2uWOXVxrhw6",
        "outputId": "e073567b-840c-4423-9033-03ba22201eb9"
      },
      "source": [
        "import os\n",
        "import numpy as np\n",
        "import pandas as pd\n",
        "import tensorflow as tf\n",
        "import tensorflow_datasets as tfds\n",
        "import matplotlib.pyplot as plt\n",
        "from tensorflow import keras\n",
        "from tensorflow.keras import layers\n",
        "from tensorflow.keras import initializers\n",
        "\n",
        "from google.colab import files\n",
        "src = list(files.upload().values())[0]\n",
        "open('preprocessing.py','wb').write(src)\n",
        "import preprocessing\n",
        "\n",
        "\n",
        "\n",
        "from preprocessing import parse_aug_fn, parse_fn"
      ],
      "execution_count": 6,
      "outputs": [
        {
          "output_type": "display_data",
          "data": {
            "text/html": [
              "\n",
              "     <input type=\"file\" id=\"files-7d94750c-894b-47ee-b2c3-4adac641be1f\" name=\"files[]\" multiple disabled\n",
              "        style=\"border:none\" />\n",
              "     <output id=\"result-7d94750c-894b-47ee-b2c3-4adac641be1f\">\n",
              "      Upload widget is only available when the cell has been executed in the\n",
              "      current browser session. Please rerun this cell to enable.\n",
              "      </output>\n",
              "      <script src=\"/nbextensions/google.colab/files.js\"></script> "
            ],
            "text/plain": [
              "<IPython.core.display.HTML object>"
            ]
          },
          "metadata": {
            "tags": []
          }
        },
        {
          "output_type": "stream",
          "text": [
            "Saving preprocessing.py to preprocessing.py\n"
          ],
          "name": "stdout"
        }
      ]
    },
    {
      "cell_type": "markdown",
      "metadata": {
        "id": "B-yVm5UQrhw9"
      },
      "source": [
        "### Cifar 10\n",
        "載入Cifar10數據集"
      ]
    },
    {
      "cell_type": "code",
      "metadata": {
        "id": "C9RgqzW8rhw-",
        "colab": {
          "base_uri": "https://localhost:8080/",
          "height": 371,
          "referenced_widgets": [
            "957e713c7df64b79a34c4621332d5b39",
            "44d83a72a5ff403f9357521cd4083fa2",
            "b8e90eb17f53463aa0432ca7d42759f8",
            "5feb7614fbf44ac1a31bc80aad2194da",
            "a702a3c9c65b4b34bf41c4a72ee62afe",
            "54f3e863c259400c9045639bd94884bc",
            "d36e1f7fd3f5499fabc71ad0e756968e",
            "6fc204b6b71f49508560695da7fa91d5",
            "788f6c8b329e4c24a3d0837c142a98b5",
            "288ada81b9cb4ba7abef77b0279828e1",
            "6fce08f127d14c87bca09bb89a544de6",
            "e8dbe096e3e4458d93af16ce21523e95",
            "6ba0a9816cff4229aea3b9569b81f54b",
            "fe74b8e2c6554ef593069c6d7ab06761",
            "b74b2e8811b9499b8fad221b3b5b81b6",
            "0b8d3097e7f447a78969c8ab2a5c8794",
            "65d7944411e8439fa58f1beba6edb3cc",
            "9749f422edde47dba6b6bf4172e41108",
            "8965ab38b6aa4883a8630747facbf4e4",
            "af9bbd4d69374e96983433d276a12c9a",
            "19580e38f77a401ca8daa70890c6e3b6",
            "b1208213700c4a78b50c97da6c03cd73",
            "5057ca80b98048e682e813fbbaef2f4f",
            "c410a751dc1f4426970ed8853c4453ed",
            "5c9bf35c9a334fd18100e0722ec3a63d",
            "8c439c7a50524ce9a4b896021af743d7",
            "dbf12ddec14844389b0c5cbe683c830a",
            "c3a8e86a1a32448c8270421344723826",
            "de5c90611d364a2e9e65490fb3628e48",
            "a57b55890e5d4ec2a591de265b98657b",
            "199a8302aa6b4d729e0edcb3c016641a",
            "0a26cf7fa1a143acbc15943d1024c36d",
            "046bcd1dcf624d0e9b44d2963182d97f",
            "29dc581386c6466b8a9761983d7808cb",
            "c89dea193a03469b8865cd6620f89418",
            "46de346a88cf411091ea37cff08199ea",
            "db154cb1635741fa83a4ec42eb3e8d0d",
            "e2b69b03b73048c59b04c2d6f09fafa7",
            "c52db42c478d4b97a43d2b9c2f6ddc68",
            "2b617885fbd94135be5a9d4bfbf42f8e",
            "e920eb9eee68408d88ec1db30f9acf05",
            "9b33b23059b747aeae3e4dd6b93fb279",
            "7536000d443c4f4a87289f75f8f920d6",
            "52cff650e5fc4501806a46e2d5f1be69",
            "2731abf7ff1a4666ac7561c6386d719d",
            "762fc545e868426f9c67979e2132fa38",
            "d5108bee319d4c3f935e5ec9d00cc8e4",
            "825e88292d08428e9bb3f4e22b5386cf",
            "e42fe8b3ca194e81b7f3e39f7ad21c96",
            "09d6f6a616394888ab8d28cd47e0fc9e",
            "8b77875c2d6241318f4453b4a9ced315",
            "bac8074bde5541bc92a2a5a153e15744",
            "c6b7fce6317545eba7d92293b3599ba5",
            "cc0718052aa94289bd64d41879e912d7",
            "9923cab5faca4476b4d7bab035c96860",
            "f1ef2d9abe8c48b5894df72a2c25ac95"
          ]
        },
        "outputId": "a5bd6a55-c4f9-4e29-ceff-e0b522b5a55d"
      },
      "source": [
        "# 將train Data重新分成9:1等分，分別分給train data, valid data\n",
        "train_split, valid_split = ['train[:90%]', 'train[90%:]']\n",
        "# 取得訓練數據，並順便讀取data的資訊\n",
        "train_data, info = tfds.load(\"cifar10\", split=train_split, with_info=True)\n",
        "# 取得驗證數據\n",
        "valid_data = tfds.load(\"cifar10\", split=valid_split)\n",
        "# 取得測試數據\n",
        "test_data = tfds.load(\"cifar10\", split=tfds.Split.TEST)"
      ],
      "execution_count": 7,
      "outputs": [
        {
          "output_type": "stream",
          "text": [
            "\u001b[1mDownloading and preparing dataset cifar10/3.0.2 (download: 162.17 MiB, generated: 132.40 MiB, total: 294.58 MiB) to /root/tensorflow_datasets/cifar10/3.0.2...\u001b[0m\n"
          ],
          "name": "stdout"
        },
        {
          "output_type": "display_data",
          "data": {
            "application/vnd.jupyter.widget-view+json": {
              "model_id": "957e713c7df64b79a34c4621332d5b39",
              "version_minor": 0,
              "version_major": 2
            },
            "text/plain": [
              "HBox(children=(FloatProgress(value=1.0, bar_style='info', description='Dl Completed...', max=1.0, style=Progre…"
            ]
          },
          "metadata": {
            "tags": []
          }
        },
        {
          "output_type": "display_data",
          "data": {
            "application/vnd.jupyter.widget-view+json": {
              "model_id": "788f6c8b329e4c24a3d0837c142a98b5",
              "version_minor": 0,
              "version_major": 2
            },
            "text/plain": [
              "HBox(children=(FloatProgress(value=1.0, bar_style='info', description='Dl Size...', max=1.0, style=ProgressSty…"
            ]
          },
          "metadata": {
            "tags": []
          }
        },
        {
          "output_type": "display_data",
          "data": {
            "application/vnd.jupyter.widget-view+json": {
              "model_id": "65d7944411e8439fa58f1beba6edb3cc",
              "version_minor": 0,
              "version_major": 2
            },
            "text/plain": [
              "HBox(children=(FloatProgress(value=1.0, bar_style='info', description='Extraction completed...', max=1.0, styl…"
            ]
          },
          "metadata": {
            "tags": []
          }
        },
        {
          "output_type": "stream",
          "text": [
            "\n",
            "\n",
            "\n",
            "\n",
            "\n",
            "\n"
          ],
          "name": "stdout"
        },
        {
          "output_type": "display_data",
          "data": {
            "application/vnd.jupyter.widget-view+json": {
              "model_id": "5c9bf35c9a334fd18100e0722ec3a63d",
              "version_minor": 0,
              "version_major": 2
            },
            "text/plain": [
              "HBox(children=(FloatProgress(value=1.0, bar_style='info', max=1.0), HTML(value='')))"
            ]
          },
          "metadata": {
            "tags": []
          }
        },
        {
          "output_type": "stream",
          "text": [
            "\rShuffling and writing examples to /root/tensorflow_datasets/cifar10/3.0.2.incomplete8UN0KR/cifar10-train.tfrecord\n"
          ],
          "name": "stdout"
        },
        {
          "output_type": "display_data",
          "data": {
            "application/vnd.jupyter.widget-view+json": {
              "model_id": "046bcd1dcf624d0e9b44d2963182d97f",
              "version_minor": 0,
              "version_major": 2
            },
            "text/plain": [
              "HBox(children=(FloatProgress(value=0.0, max=50000.0), HTML(value='')))"
            ]
          },
          "metadata": {
            "tags": []
          }
        },
        {
          "output_type": "stream",
          "text": [
            "\r"
          ],
          "name": "stdout"
        },
        {
          "output_type": "display_data",
          "data": {
            "application/vnd.jupyter.widget-view+json": {
              "model_id": "e920eb9eee68408d88ec1db30f9acf05",
              "version_minor": 0,
              "version_major": 2
            },
            "text/plain": [
              "HBox(children=(FloatProgress(value=1.0, bar_style='info', max=1.0), HTML(value='')))"
            ]
          },
          "metadata": {
            "tags": []
          }
        },
        {
          "output_type": "stream",
          "text": [
            "\rShuffling and writing examples to /root/tensorflow_datasets/cifar10/3.0.2.incomplete8UN0KR/cifar10-test.tfrecord\n"
          ],
          "name": "stdout"
        },
        {
          "output_type": "display_data",
          "data": {
            "application/vnd.jupyter.widget-view+json": {
              "model_id": "e42fe8b3ca194e81b7f3e39f7ad21c96",
              "version_minor": 0,
              "version_major": 2
            },
            "text/plain": [
              "HBox(children=(FloatProgress(value=0.0, max=10000.0), HTML(value='')))"
            ]
          },
          "metadata": {
            "tags": []
          }
        },
        {
          "output_type": "stream",
          "text": [
            "\u001b[1mDataset cifar10 downloaded and prepared to /root/tensorflow_datasets/cifar10/3.0.2. Subsequent calls will reuse this data.\u001b[0m\n",
            "\r"
          ],
          "name": "stdout"
        }
      ]
    },
    {
      "cell_type": "markdown",
      "metadata": {
        "id": "mS_8ZKSvrhxA"
      },
      "source": [
        "### Dataset 設定"
      ]
    },
    {
      "cell_type": "code",
      "metadata": {
        "id": "zPqMUg2trhxB"
      },
      "source": [
        "AUTOTUNE = tf.data.experimental.AUTOTUNE  # 自動調整模式\n",
        "batch_size = 64  # 批次大小\n",
        "train_num = int(info.splits['train'].num_examples / 10) * 9  # 訓練資料數量\n",
        "\n",
        "train_data = train_data.shuffle(train_num)  # 打散資料集\n",
        "# 載入預處理「 parse_aug_fn」function，cpu數量為自動調整模式\n",
        "train_data = train_data.map(map_func=parse_aug_fn, num_parallel_calls=AUTOTUNE)\n",
        "# 設定批次大小並將prefetch模式開啟(暫存空間為自動調整模式)\n",
        "train_data = train_data.batch(batch_size).prefetch(buffer_size=AUTOTUNE)\n",
        "\n",
        "# 載入預處理「 parse_fn」function，cpu數量為自動調整模式\n",
        "valid_data = valid_data.map(map_func=parse_fn, num_parallel_calls=AUTOTUNE)\n",
        "# 設定批次大小並將prefetch模式開啟(暫存空間為自動調整模式)\n",
        "valid_data = valid_data.batch(batch_size).prefetch(buffer_size=AUTOTUNE)\n",
        "\n",
        "# 載入預處理「 parse_fn」function，cpu數量為自動調整模式\n",
        "test_data = test_data.map(map_func=parse_fn, num_parallel_calls=AUTOTUNE)\n",
        "# 設定批次大小並將prefetch模式開啟(暫存空間為自動調整模式)\n",
        "test_data = test_data.batch(batch_size).prefetch(buffer_size=AUTOTUNE)"
      ],
      "execution_count": 8,
      "outputs": []
    },
    {
      "cell_type": "markdown",
      "metadata": {
        "id": "FBNXNNBXrhxD"
      },
      "source": [
        "### 1. 使用Keras高階API訓練網路模型"
      ]
    },
    {
      "cell_type": "code",
      "metadata": {
        "id": "WTICuPnJrhxE",
        "colab": {
          "base_uri": "https://localhost:8080/"
        },
        "outputId": "9b41d09d-21e3-4af2-cfc5-2fbdfcde3262"
      },
      "source": [
        "inputs = keras.Input(shape=(32, 32, 3))\n",
        "x = layers.Conv2D(64, 3, activation='relu', kernel_initializer='glorot_uniform')(inputs)\n",
        "x = layers.MaxPool2D()(x)\n",
        "x = layers.Conv2D(128, 3, activation='relu', kernel_initializer='glorot_uniform')(x)\n",
        "x = layers.Conv2D(256, 3, activation='relu', kernel_initializer='glorot_uniform')(x)\n",
        "x = layers.Conv2D(128, 3, activation='relu', kernel_initializer='glorot_uniform')(x)\n",
        "x = layers.Conv2D(64, 3, activation='relu', kernel_initializer='glorot_uniform')(x)\n",
        "x = layers.Flatten()(x)\n",
        "x = layers.Dense(64, activation='relu')(x)\n",
        "x = layers.Dropout(0.5)(x)\n",
        "outputs = layers.Dense(10)(x)\n",
        "# 建立網路模型(將輸入到輸出所有經過的網路層連接起來)\n",
        "model_1 = keras.Model(inputs, outputs, name='model-1')\n",
        "model_1.summary()"
      ],
      "execution_count": 9,
      "outputs": [
        {
          "output_type": "stream",
          "text": [
            "Model: \"model-1\"\n",
            "_________________________________________________________________\n",
            "Layer (type)                 Output Shape              Param #   \n",
            "=================================================================\n",
            "input_1 (InputLayer)         [(None, 32, 32, 3)]       0         \n",
            "_________________________________________________________________\n",
            "conv2d (Conv2D)              (None, 30, 30, 64)        1792      \n",
            "_________________________________________________________________\n",
            "max_pooling2d (MaxPooling2D) (None, 15, 15, 64)        0         \n",
            "_________________________________________________________________\n",
            "conv2d_1 (Conv2D)            (None, 13, 13, 128)       73856     \n",
            "_________________________________________________________________\n",
            "conv2d_2 (Conv2D)            (None, 11, 11, 256)       295168    \n",
            "_________________________________________________________________\n",
            "conv2d_3 (Conv2D)            (None, 9, 9, 128)         295040    \n",
            "_________________________________________________________________\n",
            "conv2d_4 (Conv2D)            (None, 7, 7, 64)          73792     \n",
            "_________________________________________________________________\n",
            "flatten (Flatten)            (None, 3136)              0         \n",
            "_________________________________________________________________\n",
            "dense (Dense)                (None, 64)                200768    \n",
            "_________________________________________________________________\n",
            "dropout (Dropout)            (None, 64)                0         \n",
            "_________________________________________________________________\n",
            "dense_1 (Dense)              (None, 10)                650       \n",
            "=================================================================\n",
            "Total params: 941,066\n",
            "Trainable params: 941,066\n",
            "Non-trainable params: 0\n",
            "_________________________________________________________________\n"
          ],
          "name": "stdout"
        }
      ]
    },
    {
      "cell_type": "markdown",
      "metadata": {
        "id": "QvDpHIt_rhxK"
      },
      "source": [
        "建立Callback function"
      ]
    },
    {
      "cell_type": "code",
      "metadata": {
        "id": "pKa_bdcgrhxM"
      },
      "source": [
        "# 儲存訓練記錄檔\n",
        "logs_dirs = 'lab6-logs'\n",
        "model_cbk = keras.callbacks.TensorBoard(log_dir='lab6-logs')\n",
        "\n",
        "# 紀錄每一個batch的Loss值變化\n",
        "model_dirs = logs_dirs + '/models'\n",
        "os.makedirs(model_dirs, exist_ok=True)\n",
        "save_model = tf.keras.callbacks.ModelCheckpoint(model_dirs + '/save.h5', \n",
        "                                                monitor='val_catrgorical_accuracy', \n",
        "                                                mode='max')"
      ],
      "execution_count": 10,
      "outputs": []
    },
    {
      "cell_type": "markdown",
      "metadata": {
        "id": "mnhnmmV5rhxN"
      },
      "source": [
        "設定訓練使用的優化器、客自化損失函數和客自化指標函數："
      ]
    },
    {
      "cell_type": "code",
      "metadata": {
        "id": "nMWkQMHJrhxP"
      },
      "source": [
        "# 設定訓練使用的優化器、損失函數和指標函數\n",
        "model_1.compile(keras.optimizers.Adam(), \n",
        "                loss=keras.losses.CategoricalCrossentropy(from_logits=True), \n",
        "                metrics=[keras.metrics.CategoricalAccuracy()])\n"
      ],
      "execution_count": 11,
      "outputs": []
    },
    {
      "cell_type": "code",
      "metadata": {
        "scrolled": true,
        "id": "6c_b6rrorhxQ",
        "colab": {
          "base_uri": "https://localhost:8080/"
        },
        "outputId": "dfbc7f1c-1d23-4e85-92e9-6aecbef38f84"
      },
      "source": [
        "# 訓練網路模型\n",
        "model_1.fit(train_data,\n",
        "            epochs=100, \n",
        "            validation_data=valid_data,\n",
        "            callbacks=[model_cbk, save_model])"
      ],
      "execution_count": 12,
      "outputs": [
        {
          "output_type": "stream",
          "text": [
            "Epoch 1/100\n",
            "704/704 [==============================] - 52s 26ms/step - loss: 2.1891 - categorical_accuracy: 0.1616 - val_loss: 1.7520 - val_categorical_accuracy: 0.3530\n",
            "Epoch 2/100\n",
            "704/704 [==============================] - 17s 24ms/step - loss: 1.8996 - categorical_accuracy: 0.2896 - val_loss: 1.4934 - val_categorical_accuracy: 0.4558\n",
            "Epoch 3/100\n",
            "704/704 [==============================] - 17s 24ms/step - loss: 1.7330 - categorical_accuracy: 0.3647 - val_loss: 1.4138 - val_categorical_accuracy: 0.4878\n",
            "Epoch 4/100\n",
            "704/704 [==============================] - 17s 24ms/step - loss: 1.6496 - categorical_accuracy: 0.4032 - val_loss: 1.3164 - val_categorical_accuracy: 0.5300\n",
            "Epoch 5/100\n",
            "704/704 [==============================] - 17s 24ms/step - loss: 1.5698 - categorical_accuracy: 0.4375 - val_loss: 1.2036 - val_categorical_accuracy: 0.5698\n",
            "Epoch 6/100\n",
            "704/704 [==============================] - 17s 23ms/step - loss: 1.4999 - categorical_accuracy: 0.4667 - val_loss: 1.1658 - val_categorical_accuracy: 0.5830\n",
            "Epoch 7/100\n",
            "704/704 [==============================] - 17s 23ms/step - loss: 1.4477 - categorical_accuracy: 0.4894 - val_loss: 1.1078 - val_categorical_accuracy: 0.6014\n",
            "Epoch 8/100\n",
            "704/704 [==============================] - 17s 24ms/step - loss: 1.4005 - categorical_accuracy: 0.5074 - val_loss: 1.0872 - val_categorical_accuracy: 0.6110\n",
            "Epoch 9/100\n",
            "704/704 [==============================] - 17s 23ms/step - loss: 1.3772 - categorical_accuracy: 0.5170 - val_loss: 1.0363 - val_categorical_accuracy: 0.6404\n",
            "Epoch 10/100\n",
            "704/704 [==============================] - 17s 23ms/step - loss: 1.3698 - categorical_accuracy: 0.5227 - val_loss: 0.9828 - val_categorical_accuracy: 0.6522\n",
            "Epoch 11/100\n",
            "704/704 [==============================] - 17s 23ms/step - loss: 1.3136 - categorical_accuracy: 0.5422 - val_loss: 0.9956 - val_categorical_accuracy: 0.6500\n",
            "Epoch 12/100\n",
            "704/704 [==============================] - 17s 24ms/step - loss: 1.2857 - categorical_accuracy: 0.5524 - val_loss: 0.9413 - val_categorical_accuracy: 0.6684\n",
            "Epoch 13/100\n",
            "704/704 [==============================] - 17s 23ms/step - loss: 1.2715 - categorical_accuracy: 0.5601 - val_loss: 0.9292 - val_categorical_accuracy: 0.6654\n",
            "Epoch 14/100\n",
            "704/704 [==============================] - 17s 23ms/step - loss: 1.2511 - categorical_accuracy: 0.5670 - val_loss: 0.9140 - val_categorical_accuracy: 0.6798\n",
            "Epoch 15/100\n",
            "704/704 [==============================] - 17s 23ms/step - loss: 1.2091 - categorical_accuracy: 0.5833 - val_loss: 0.9164 - val_categorical_accuracy: 0.6852\n",
            "Epoch 16/100\n",
            "704/704 [==============================] - 17s 24ms/step - loss: 1.2039 - categorical_accuracy: 0.5804 - val_loss: 0.9193 - val_categorical_accuracy: 0.6820\n",
            "Epoch 17/100\n",
            "704/704 [==============================] - 17s 23ms/step - loss: 1.1903 - categorical_accuracy: 0.5895 - val_loss: 0.9340 - val_categorical_accuracy: 0.6656\n",
            "Epoch 18/100\n",
            "704/704 [==============================] - 17s 24ms/step - loss: 1.1796 - categorical_accuracy: 0.5976 - val_loss: 0.8809 - val_categorical_accuracy: 0.6978\n",
            "Epoch 19/100\n",
            "704/704 [==============================] - 17s 24ms/step - loss: 1.1667 - categorical_accuracy: 0.6031 - val_loss: 0.8818 - val_categorical_accuracy: 0.6912\n",
            "Epoch 20/100\n",
            "704/704 [==============================] - 17s 23ms/step - loss: 1.1549 - categorical_accuracy: 0.6043 - val_loss: 0.8588 - val_categorical_accuracy: 0.7008\n",
            "Epoch 21/100\n",
            "704/704 [==============================] - 17s 23ms/step - loss: 1.1317 - categorical_accuracy: 0.6119 - val_loss: 0.8320 - val_categorical_accuracy: 0.7090\n",
            "Epoch 22/100\n",
            "704/704 [==============================] - 17s 24ms/step - loss: 1.1110 - categorical_accuracy: 0.6194 - val_loss: 0.8276 - val_categorical_accuracy: 0.7132\n",
            "Epoch 23/100\n",
            "704/704 [==============================] - 17s 23ms/step - loss: 1.1102 - categorical_accuracy: 0.6219 - val_loss: 0.8134 - val_categorical_accuracy: 0.7158\n",
            "Epoch 24/100\n",
            "704/704 [==============================] - 17s 24ms/step - loss: 1.0864 - categorical_accuracy: 0.6287 - val_loss: 0.8126 - val_categorical_accuracy: 0.7218\n",
            "Epoch 25/100\n",
            "704/704 [==============================] - 17s 24ms/step - loss: 1.0771 - categorical_accuracy: 0.6321 - val_loss: 0.8496 - val_categorical_accuracy: 0.7182\n",
            "Epoch 26/100\n",
            "704/704 [==============================] - 17s 24ms/step - loss: 1.0737 - categorical_accuracy: 0.6313 - val_loss: 0.8099 - val_categorical_accuracy: 0.7184\n",
            "Epoch 27/100\n",
            "704/704 [==============================] - 17s 24ms/step - loss: 1.0680 - categorical_accuracy: 0.6364 - val_loss: 0.7653 - val_categorical_accuracy: 0.7290\n",
            "Epoch 28/100\n",
            "704/704 [==============================] - 17s 24ms/step - loss: 1.0577 - categorical_accuracy: 0.6358 - val_loss: 0.7703 - val_categorical_accuracy: 0.7346\n",
            "Epoch 29/100\n",
            "704/704 [==============================] - 17s 24ms/step - loss: 1.0455 - categorical_accuracy: 0.6438 - val_loss: 0.8035 - val_categorical_accuracy: 0.7222\n",
            "Epoch 30/100\n",
            "704/704 [==============================] - 17s 24ms/step - loss: 1.0449 - categorical_accuracy: 0.6445 - val_loss: 0.7683 - val_categorical_accuracy: 0.7324\n",
            "Epoch 31/100\n",
            "704/704 [==============================] - 17s 24ms/step - loss: 1.0281 - categorical_accuracy: 0.6462 - val_loss: 0.7414 - val_categorical_accuracy: 0.7478\n",
            "Epoch 32/100\n",
            "704/704 [==============================] - 17s 23ms/step - loss: 1.0170 - categorical_accuracy: 0.6526 - val_loss: 0.7629 - val_categorical_accuracy: 0.7408\n",
            "Epoch 33/100\n",
            "704/704 [==============================] - 17s 24ms/step - loss: 1.0131 - categorical_accuracy: 0.6572 - val_loss: 0.7806 - val_categorical_accuracy: 0.7344\n",
            "Epoch 34/100\n",
            "704/704 [==============================] - 17s 24ms/step - loss: 1.0197 - categorical_accuracy: 0.6558 - val_loss: 0.7727 - val_categorical_accuracy: 0.7356\n",
            "Epoch 35/100\n",
            "704/704 [==============================] - 17s 24ms/step - loss: 1.0132 - categorical_accuracy: 0.6536 - val_loss: 0.7598 - val_categorical_accuracy: 0.7354\n",
            "Epoch 36/100\n",
            "704/704 [==============================] - 17s 24ms/step - loss: 1.0062 - categorical_accuracy: 0.6566 - val_loss: 0.7161 - val_categorical_accuracy: 0.7522\n",
            "Epoch 37/100\n",
            "704/704 [==============================] - 17s 24ms/step - loss: 1.0010 - categorical_accuracy: 0.6593 - val_loss: 0.7243 - val_categorical_accuracy: 0.7496\n",
            "Epoch 38/100\n",
            "704/704 [==============================] - 17s 24ms/step - loss: 0.9810 - categorical_accuracy: 0.6646 - val_loss: 0.7083 - val_categorical_accuracy: 0.7596\n",
            "Epoch 39/100\n",
            "704/704 [==============================] - 17s 24ms/step - loss: 0.9778 - categorical_accuracy: 0.6689 - val_loss: 0.7290 - val_categorical_accuracy: 0.7512\n",
            "Epoch 40/100\n",
            "704/704 [==============================] - 17s 24ms/step - loss: 0.9698 - categorical_accuracy: 0.6736 - val_loss: 0.7274 - val_categorical_accuracy: 0.7616\n",
            "Epoch 41/100\n",
            "704/704 [==============================] - 17s 24ms/step - loss: 0.9588 - categorical_accuracy: 0.6744 - val_loss: 0.7429 - val_categorical_accuracy: 0.7480\n",
            "Epoch 42/100\n",
            "704/704 [==============================] - 17s 24ms/step - loss: 0.9632 - categorical_accuracy: 0.6768 - val_loss: 0.7120 - val_categorical_accuracy: 0.7564\n",
            "Epoch 43/100\n",
            "704/704 [==============================] - 17s 24ms/step - loss: 0.9566 - categorical_accuracy: 0.6766 - val_loss: 0.7344 - val_categorical_accuracy: 0.7580\n",
            "Epoch 44/100\n",
            "704/704 [==============================] - 17s 24ms/step - loss: 0.9527 - categorical_accuracy: 0.6826 - val_loss: 0.6879 - val_categorical_accuracy: 0.7652\n",
            "Epoch 45/100\n",
            "704/704 [==============================] - 17s 25ms/step - loss: 0.9438 - categorical_accuracy: 0.6817 - val_loss: 0.7102 - val_categorical_accuracy: 0.7616\n",
            "Epoch 46/100\n",
            "704/704 [==============================] - 17s 24ms/step - loss: 0.9445 - categorical_accuracy: 0.6820 - val_loss: 0.6970 - val_categorical_accuracy: 0.7672\n",
            "Epoch 47/100\n",
            "704/704 [==============================] - 17s 24ms/step - loss: 0.9239 - categorical_accuracy: 0.6906 - val_loss: 0.7292 - val_categorical_accuracy: 0.7522\n",
            "Epoch 48/100\n",
            "704/704 [==============================] - 17s 24ms/step - loss: 0.9269 - categorical_accuracy: 0.6892 - val_loss: 0.6833 - val_categorical_accuracy: 0.7658\n",
            "Epoch 49/100\n",
            "704/704 [==============================] - 17s 24ms/step - loss: 0.9183 - categorical_accuracy: 0.6904 - val_loss: 0.7195 - val_categorical_accuracy: 0.7574\n",
            "Epoch 50/100\n",
            "704/704 [==============================] - 17s 24ms/step - loss: 0.9141 - categorical_accuracy: 0.6962 - val_loss: 0.6851 - val_categorical_accuracy: 0.7700\n",
            "Epoch 51/100\n",
            "704/704 [==============================] - 17s 24ms/step - loss: 0.9105 - categorical_accuracy: 0.6933 - val_loss: 0.7411 - val_categorical_accuracy: 0.7522\n",
            "Epoch 52/100\n",
            "704/704 [==============================] - 17s 24ms/step - loss: 0.9184 - categorical_accuracy: 0.6949 - val_loss: 0.7234 - val_categorical_accuracy: 0.7566\n",
            "Epoch 53/100\n",
            "704/704 [==============================] - 17s 24ms/step - loss: 0.8991 - categorical_accuracy: 0.6976 - val_loss: 0.6749 - val_categorical_accuracy: 0.7726\n",
            "Epoch 54/100\n",
            "704/704 [==============================] - 17s 24ms/step - loss: 0.8913 - categorical_accuracy: 0.7027 - val_loss: 0.6935 - val_categorical_accuracy: 0.7626\n",
            "Epoch 55/100\n",
            "704/704 [==============================] - 17s 24ms/step - loss: 0.8987 - categorical_accuracy: 0.6994 - val_loss: 0.6430 - val_categorical_accuracy: 0.7796\n",
            "Epoch 56/100\n",
            "704/704 [==============================] - 17s 23ms/step - loss: 0.8914 - categorical_accuracy: 0.7024 - val_loss: 0.6462 - val_categorical_accuracy: 0.7834\n",
            "Epoch 57/100\n",
            "704/704 [==============================] - 17s 23ms/step - loss: 0.9003 - categorical_accuracy: 0.6940 - val_loss: 0.6951 - val_categorical_accuracy: 0.7676\n",
            "Epoch 58/100\n",
            "704/704 [==============================] - 17s 24ms/step - loss: 0.8827 - categorical_accuracy: 0.7019 - val_loss: 0.6738 - val_categorical_accuracy: 0.7728\n",
            "Epoch 59/100\n",
            "704/704 [==============================] - 17s 24ms/step - loss: 0.8902 - categorical_accuracy: 0.7033 - val_loss: 0.6525 - val_categorical_accuracy: 0.7802\n",
            "Epoch 60/100\n",
            "704/704 [==============================] - 17s 23ms/step - loss: 0.8702 - categorical_accuracy: 0.7107 - val_loss: 0.7110 - val_categorical_accuracy: 0.7638\n",
            "Epoch 61/100\n",
            "704/704 [==============================] - 17s 24ms/step - loss: 0.8717 - categorical_accuracy: 0.7052 - val_loss: 0.7103 - val_categorical_accuracy: 0.7692\n",
            "Epoch 62/100\n",
            "704/704 [==============================] - 17s 24ms/step - loss: 0.8731 - categorical_accuracy: 0.7069 - val_loss: 0.7008 - val_categorical_accuracy: 0.7720\n",
            "Epoch 63/100\n",
            "704/704 [==============================] - 17s 23ms/step - loss: 0.8552 - categorical_accuracy: 0.7127 - val_loss: 0.6500 - val_categorical_accuracy: 0.7792\n",
            "Epoch 64/100\n",
            "704/704 [==============================] - 17s 24ms/step - loss: 0.8802 - categorical_accuracy: 0.7055 - val_loss: 0.6804 - val_categorical_accuracy: 0.7734\n",
            "Epoch 65/100\n",
            "704/704 [==============================] - 17s 23ms/step - loss: 0.8754 - categorical_accuracy: 0.7051 - val_loss: 0.6825 - val_categorical_accuracy: 0.7702\n",
            "Epoch 66/100\n",
            "704/704 [==============================] - 17s 23ms/step - loss: 0.8691 - categorical_accuracy: 0.7090 - val_loss: 0.6598 - val_categorical_accuracy: 0.7836\n",
            "Epoch 67/100\n",
            "704/704 [==============================] - 17s 23ms/step - loss: 0.8496 - categorical_accuracy: 0.7160 - val_loss: 0.6474 - val_categorical_accuracy: 0.7860\n",
            "Epoch 68/100\n",
            "704/704 [==============================] - 17s 24ms/step - loss: 0.8649 - categorical_accuracy: 0.7088 - val_loss: 0.6944 - val_categorical_accuracy: 0.7678\n",
            "Epoch 69/100\n",
            "704/704 [==============================] - 17s 24ms/step - loss: 0.8607 - categorical_accuracy: 0.7119 - val_loss: 0.6555 - val_categorical_accuracy: 0.7834\n",
            "Epoch 70/100\n",
            "704/704 [==============================] - 17s 24ms/step - loss: 0.8555 - categorical_accuracy: 0.7131 - val_loss: 0.6564 - val_categorical_accuracy: 0.7810\n",
            "Epoch 71/100\n",
            "704/704 [==============================] - 17s 24ms/step - loss: 0.8501 - categorical_accuracy: 0.7143 - val_loss: 0.6743 - val_categorical_accuracy: 0.7898\n",
            "Epoch 72/100\n",
            "704/704 [==============================] - 17s 24ms/step - loss: 0.8375 - categorical_accuracy: 0.7208 - val_loss: 0.6489 - val_categorical_accuracy: 0.7836\n",
            "Epoch 73/100\n",
            "704/704 [==============================] - 17s 24ms/step - loss: 0.8294 - categorical_accuracy: 0.7233 - val_loss: 0.6765 - val_categorical_accuracy: 0.7792\n",
            "Epoch 74/100\n",
            "704/704 [==============================] - 17s 24ms/step - loss: 0.8398 - categorical_accuracy: 0.7191 - val_loss: 0.6395 - val_categorical_accuracy: 0.7908\n",
            "Epoch 75/100\n",
            "704/704 [==============================] - 17s 24ms/step - loss: 0.8364 - categorical_accuracy: 0.7176 - val_loss: 0.7189 - val_categorical_accuracy: 0.7694\n",
            "Epoch 76/100\n",
            "704/704 [==============================] - 17s 24ms/step - loss: 0.8471 - categorical_accuracy: 0.7143 - val_loss: 0.6267 - val_categorical_accuracy: 0.7924\n",
            "Epoch 77/100\n",
            "704/704 [==============================] - 17s 24ms/step - loss: 0.8267 - categorical_accuracy: 0.7251 - val_loss: 0.6559 - val_categorical_accuracy: 0.7892\n",
            "Epoch 78/100\n",
            "704/704 [==============================] - 17s 24ms/step - loss: 0.8449 - categorical_accuracy: 0.7198 - val_loss: 0.6458 - val_categorical_accuracy: 0.7912\n",
            "Epoch 79/100\n",
            "704/704 [==============================] - 17s 24ms/step - loss: 0.8257 - categorical_accuracy: 0.7273 - val_loss: 0.6509 - val_categorical_accuracy: 0.7910\n",
            "Epoch 80/100\n",
            "704/704 [==============================] - 17s 24ms/step - loss: 0.8295 - categorical_accuracy: 0.7221 - val_loss: 0.6488 - val_categorical_accuracy: 0.7874\n",
            "Epoch 81/100\n",
            "704/704 [==============================] - 17s 24ms/step - loss: 0.8317 - categorical_accuracy: 0.7227 - val_loss: 0.6795 - val_categorical_accuracy: 0.7742\n",
            "Epoch 82/100\n",
            "704/704 [==============================] - 17s 24ms/step - loss: 0.8272 - categorical_accuracy: 0.7261 - val_loss: 0.6824 - val_categorical_accuracy: 0.7780\n",
            "Epoch 83/100\n",
            "704/704 [==============================] - 17s 24ms/step - loss: 0.8294 - categorical_accuracy: 0.7236 - val_loss: 0.6871 - val_categorical_accuracy: 0.7802\n",
            "Epoch 84/100\n",
            "704/704 [==============================] - 17s 24ms/step - loss: 0.8231 - categorical_accuracy: 0.7239 - val_loss: 0.6599 - val_categorical_accuracy: 0.7874\n",
            "Epoch 85/100\n",
            "704/704 [==============================] - 17s 24ms/step - loss: 0.8194 - categorical_accuracy: 0.7275 - val_loss: 0.6439 - val_categorical_accuracy: 0.8010\n",
            "Epoch 86/100\n",
            "704/704 [==============================] - 17s 24ms/step - loss: 0.8222 - categorical_accuracy: 0.7280 - val_loss: 0.6421 - val_categorical_accuracy: 0.7966\n",
            "Epoch 87/100\n",
            "704/704 [==============================] - 17s 24ms/step - loss: 0.8087 - categorical_accuracy: 0.7282 - val_loss: 0.6502 - val_categorical_accuracy: 0.7892\n",
            "Epoch 88/100\n",
            "704/704 [==============================] - 17s 24ms/step - loss: 0.8088 - categorical_accuracy: 0.7326 - val_loss: 0.6656 - val_categorical_accuracy: 0.7864\n",
            "Epoch 89/100\n",
            "704/704 [==============================] - 17s 24ms/step - loss: 0.8250 - categorical_accuracy: 0.7267 - val_loss: 0.6379 - val_categorical_accuracy: 0.7948\n",
            "Epoch 90/100\n",
            "704/704 [==============================] - 17s 24ms/step - loss: 0.8065 - categorical_accuracy: 0.7326 - val_loss: 0.6592 - val_categorical_accuracy: 0.7938\n",
            "Epoch 91/100\n",
            "704/704 [==============================] - 17s 24ms/step - loss: 0.7838 - categorical_accuracy: 0.7407 - val_loss: 0.6447 - val_categorical_accuracy: 0.7966\n",
            "Epoch 92/100\n",
            "704/704 [==============================] - 17s 24ms/step - loss: 0.8055 - categorical_accuracy: 0.7324 - val_loss: 0.6618 - val_categorical_accuracy: 0.7856\n",
            "Epoch 93/100\n",
            "704/704 [==============================] - 17s 24ms/step - loss: 0.8031 - categorical_accuracy: 0.7338 - val_loss: 0.6518 - val_categorical_accuracy: 0.7874\n",
            "Epoch 94/100\n",
            "704/704 [==============================] - 17s 24ms/step - loss: 0.7988 - categorical_accuracy: 0.7358 - val_loss: 0.6332 - val_categorical_accuracy: 0.7874\n",
            "Epoch 95/100\n",
            "704/704 [==============================] - 17s 24ms/step - loss: 0.7983 - categorical_accuracy: 0.7330 - val_loss: 0.6308 - val_categorical_accuracy: 0.7970\n",
            "Epoch 96/100\n",
            "704/704 [==============================] - 17s 24ms/step - loss: 0.7926 - categorical_accuracy: 0.7369 - val_loss: 0.6405 - val_categorical_accuracy: 0.7968\n",
            "Epoch 97/100\n",
            "704/704 [==============================] - 17s 24ms/step - loss: 0.8047 - categorical_accuracy: 0.7315 - val_loss: 0.6844 - val_categorical_accuracy: 0.7850\n",
            "Epoch 98/100\n",
            "704/704 [==============================] - 17s 24ms/step - loss: 0.7896 - categorical_accuracy: 0.7415 - val_loss: 0.6168 - val_categorical_accuracy: 0.8008\n",
            "Epoch 99/100\n",
            "704/704 [==============================] - 17s 24ms/step - loss: 0.7833 - categorical_accuracy: 0.7369 - val_loss: 0.6334 - val_categorical_accuracy: 0.7934\n",
            "Epoch 100/100\n",
            "704/704 [==============================] - 17s 24ms/step - loss: 0.7854 - categorical_accuracy: 0.7405 - val_loss: 0.6536 - val_categorical_accuracy: 0.7946\n"
          ],
          "name": "stdout"
        },
        {
          "output_type": "execute_result",
          "data": {
            "text/plain": [
              "<tensorflow.python.keras.callbacks.History at 0x7f85a0f9d990>"
            ]
          },
          "metadata": {
            "tags": []
          },
          "execution_count": 12
        }
      ]
    },
    {
      "cell_type": "markdown",
      "metadata": {
        "id": "tZdtwFE7rhxT"
      },
      "source": [
        "### 2. 使用客自化API訓練網路模型"
      ]
    },
    {
      "cell_type": "markdown",
      "metadata": {
        "id": "avkHuDCerhxU"
      },
      "source": [
        "- Custom Layer：將原本的Conv2d改成CustomConv2D。\n",
        "- Custom Loss：將原本的CategoricalCrossentropy改成custom_loss。\n",
        "- Custom Metrics：加入一個新的指標函數CatgoricalTruePositives。\n",
        "- Custom Callbacks：紀錄每一個batch的Loss值變化。"
      ]
    },
    {
      "cell_type": "code",
      "metadata": {
        "id": "Z-0j7QUsrhxV",
        "colab": {
          "base_uri": "https://localhost:8080/"
        },
        "outputId": "a3cb9ea9-aa49-4dac-e324-cb02ef2cd1e8"
      },
      "source": [
        "inputs = keras.Input(shape=(32, 32, 3))\n",
        "x = CustomConv2D(64, (3, 3))(inputs)\n",
        "x = layers.MaxPool2D()(x)\n",
        "x = CustomConv2D(128, (3, 3))(x)\n",
        "x = CustomConv2D(256, (3, 3))(x)\n",
        "x = CustomConv2D(128, (3, 3))(x)\n",
        "x = CustomConv2D(64, (3, 3))(x)\n",
        "x = layers.Flatten()(x)\n",
        "x = layers.Dense(64, activation='relu')(x)\n",
        "x = layers.Dropout(0.5)(x)\n",
        "outputs = layers.Dense(10)(x)\n",
        "# 建立網路模型(將輸入到輸出所有經過的網路層連接起來)\n",
        "model_2 = keras.Model(inputs, outputs, name='model-2')\n",
        "model_2.summary()"
      ],
      "execution_count": 13,
      "outputs": [
        {
          "output_type": "stream",
          "text": [
            "Model: \"model-2\"\n",
            "_________________________________________________________________\n",
            "Layer (type)                 Output Shape              Param #   \n",
            "=================================================================\n",
            "input_2 (InputLayer)         [(None, 32, 32, 3)]       0         \n",
            "_________________________________________________________________\n",
            "custom_conv2d (CustomConv2D) (None, 30, 30, 64)        1792      \n",
            "_________________________________________________________________\n",
            "max_pooling2d_1 (MaxPooling2 (None, 15, 15, 64)        0         \n",
            "_________________________________________________________________\n",
            "custom_conv2d_1 (CustomConv2 (None, 13, 13, 128)       73856     \n",
            "_________________________________________________________________\n",
            "custom_conv2d_2 (CustomConv2 (None, 11, 11, 256)       295168    \n",
            "_________________________________________________________________\n",
            "custom_conv2d_3 (CustomConv2 (None, 9, 9, 128)         295040    \n",
            "_________________________________________________________________\n",
            "custom_conv2d_4 (CustomConv2 (None, 7, 7, 64)          73792     \n",
            "_________________________________________________________________\n",
            "flatten_1 (Flatten)          (None, 3136)              0         \n",
            "_________________________________________________________________\n",
            "dense_2 (Dense)              (None, 64)                200768    \n",
            "_________________________________________________________________\n",
            "dropout_1 (Dropout)          (None, 64)                0         \n",
            "_________________________________________________________________\n",
            "dense_3 (Dense)              (None, 10)                650       \n",
            "=================================================================\n",
            "Total params: 941,066\n",
            "Trainable params: 941,066\n",
            "Non-trainable params: 0\n",
            "_________________________________________________________________\n"
          ],
          "name": "stdout"
        }
      ]
    },
    {
      "cell_type": "code",
      "metadata": {
        "id": "t2XTCpqArhxX"
      },
      "source": [
        "# 儲存訓練記錄檔\n",
        "logs_dirs = 'lab6-logs'\n",
        "model_cbk = keras.callbacks.TensorBoard(log_dir='lab6-logs')\n",
        "\n",
        "# 紀錄每一個batch的Loss值變化\n",
        "model_dirs = logs_dirs + '/models'\n",
        "os.makedirs(model_dirs, exist_ok=True)\n",
        "custom_save_model = SaveModel(model_dirs + '/custom_save.h5', \n",
        "                              monitor='val_custom_catrgorical_accuracy', \n",
        "                              mode='max', \n",
        "                              save_weights_only=True)"
      ],
      "execution_count": 14,
      "outputs": []
    },
    {
      "cell_type": "code",
      "metadata": {
        "id": "KFnnYHegrhxY",
        "colab": {
          "base_uri": "https://localhost:8080/"
        },
        "outputId": "4f052761-c445-46b1-90e0-ba3e096fdbdd"
      },
      "source": [
        "# 設定訓練使用的優化器、損失函數和指標函數\n",
        "model_2.compile(keras.optimizers.Adam(), \n",
        "           loss=custom_categorical_crossentropy, \n",
        "           metrics=[CustomCategoricalAccuracy()])\n",
        "\n",
        "# 訓練網路模型\n",
        "model_2.fit(train_data,\n",
        "            epochs=100, \n",
        "            validation_data=valid_data,\n",
        "            callbacks=[model_cbk, custom_save_model])"
      ],
      "execution_count": 15,
      "outputs": [
        {
          "output_type": "stream",
          "text": [
            "WARNING:tensorflow:Model failed to serialize as JSON. Ignoring... Layer CustomConv2D has arguments in `__init__` and therefore must override `get_config`.\n"
          ],
          "name": "stdout"
        },
        {
          "output_type": "stream",
          "text": [
            "WARNING:tensorflow:Model failed to serialize as JSON. Ignoring... Layer CustomConv2D has arguments in `__init__` and therefore must override `get_config`.\n"
          ],
          "name": "stderr"
        },
        {
          "output_type": "stream",
          "text": [
            "Epoch 1/100\n",
            "  6/704 [..............................] - ETA: 1:17 - loss: 2.3081 - custom_catrgorical_accuracy: 0.0882WARNING:tensorflow:Callback method `on_train_batch_begin` is slow compared to the batch time (batch time: 0.0144s vs `on_train_batch_begin` time: 0.0261s). Check your callbacks.\n"
          ],
          "name": "stdout"
        },
        {
          "output_type": "stream",
          "text": [
            "WARNING:tensorflow:Callback method `on_train_batch_begin` is slow compared to the batch time (batch time: 0.0144s vs `on_train_batch_begin` time: 0.0261s). Check your callbacks.\n"
          ],
          "name": "stderr"
        },
        {
          "output_type": "stream",
          "text": [
            "WARNING:tensorflow:Callback method `on_train_batch_end` is slow compared to the batch time (batch time: 0.0144s vs `on_train_batch_end` time: 0.0546s). Check your callbacks.\n"
          ],
          "name": "stdout"
        },
        {
          "output_type": "stream",
          "text": [
            "WARNING:tensorflow:Callback method `on_train_batch_end` is slow compared to the batch time (batch time: 0.0144s vs `on_train_batch_end` time: 0.0546s). Check your callbacks.\n"
          ],
          "name": "stderr"
        },
        {
          "output_type": "stream",
          "text": [
            "704/704 [==============================] - 18s 24ms/step - loss: 2.1544 - custom_catrgorical_accuracy: 0.1866 - val_loss: 1.7241 - val_custom_catrgorical_accuracy: 0.3662\n",
            "Epoch 2/100\n",
            "704/704 [==============================] - 16s 23ms/step - loss: 1.8771 - custom_catrgorical_accuracy: 0.3088 - val_loss: 1.5947 - val_custom_catrgorical_accuracy: 0.4258\n",
            "Epoch 3/100\n",
            "704/704 [==============================] - 16s 23ms/step - loss: 1.7663 - custom_catrgorical_accuracy: 0.3513 - val_loss: 1.4022 - val_custom_catrgorical_accuracy: 0.4860\n",
            "Epoch 4/100\n",
            "704/704 [==============================] - 16s 23ms/step - loss: 1.6610 - custom_catrgorical_accuracy: 0.3927 - val_loss: 1.3312 - val_custom_catrgorical_accuracy: 0.5206\n",
            "Epoch 5/100\n",
            "704/704 [==============================] - 16s 23ms/step - loss: 1.5923 - custom_catrgorical_accuracy: 0.4309 - val_loss: 1.3421 - val_custom_catrgorical_accuracy: 0.5280\n",
            "Epoch 6/100\n",
            "704/704 [==============================] - 16s 23ms/step - loss: 1.5250 - custom_catrgorical_accuracy: 0.4510 - val_loss: 1.2049 - val_custom_catrgorical_accuracy: 0.5558\n",
            "Epoch 7/100\n",
            "704/704 [==============================] - 16s 23ms/step - loss: 1.4788 - custom_catrgorical_accuracy: 0.4715 - val_loss: 1.2056 - val_custom_catrgorical_accuracy: 0.5784\n",
            "Epoch 8/100\n",
            "704/704 [==============================] - 17s 23ms/step - loss: 1.4359 - custom_catrgorical_accuracy: 0.4907 - val_loss: 1.1187 - val_custom_catrgorical_accuracy: 0.5956\n",
            "Epoch 9/100\n",
            "704/704 [==============================] - 16s 23ms/step - loss: 1.3934 - custom_catrgorical_accuracy: 0.5056 - val_loss: 1.0885 - val_custom_catrgorical_accuracy: 0.6130\n",
            "Epoch 10/100\n",
            "704/704 [==============================] - 16s 23ms/step - loss: 1.3713 - custom_catrgorical_accuracy: 0.5179 - val_loss: 1.0651 - val_custom_catrgorical_accuracy: 0.6232\n",
            "Epoch 11/100\n",
            "704/704 [==============================] - 16s 23ms/step - loss: 1.3307 - custom_catrgorical_accuracy: 0.5347 - val_loss: 1.0312 - val_custom_catrgorical_accuracy: 0.6458\n",
            "Epoch 12/100\n",
            "704/704 [==============================] - 16s 23ms/step - loss: 1.2991 - custom_catrgorical_accuracy: 0.5426 - val_loss: 1.0013 - val_custom_catrgorical_accuracy: 0.6414\n",
            "Epoch 13/100\n",
            "704/704 [==============================] - 17s 23ms/step - loss: 1.2834 - custom_catrgorical_accuracy: 0.5532 - val_loss: 0.9699 - val_custom_catrgorical_accuracy: 0.6590\n",
            "Epoch 14/100\n",
            "704/704 [==============================] - 16s 23ms/step - loss: 1.2579 - custom_catrgorical_accuracy: 0.5629 - val_loss: 0.9653 - val_custom_catrgorical_accuracy: 0.6596\n",
            "Epoch 15/100\n",
            "704/704 [==============================] - 16s 23ms/step - loss: 1.2548 - custom_catrgorical_accuracy: 0.5617 - val_loss: 0.9054 - val_custom_catrgorical_accuracy: 0.6816\n",
            "Epoch 16/100\n",
            "704/704 [==============================] - 16s 23ms/step - loss: 1.2167 - custom_catrgorical_accuracy: 0.5760 - val_loss: 0.9085 - val_custom_catrgorical_accuracy: 0.6868\n",
            "Epoch 17/100\n",
            "704/704 [==============================] - 17s 23ms/step - loss: 1.2062 - custom_catrgorical_accuracy: 0.5868 - val_loss: 0.9101 - val_custom_catrgorical_accuracy: 0.6730\n",
            "Epoch 18/100\n",
            "704/704 [==============================] - 16s 23ms/step - loss: 1.1861 - custom_catrgorical_accuracy: 0.5859 - val_loss: 0.8764 - val_custom_catrgorical_accuracy: 0.6916\n",
            "Epoch 19/100\n",
            "704/704 [==============================] - 17s 24ms/step - loss: 1.1740 - custom_catrgorical_accuracy: 0.5953 - val_loss: 0.8377 - val_custom_catrgorical_accuracy: 0.7024\n",
            "Epoch 20/100\n",
            "704/704 [==============================] - 17s 23ms/step - loss: 1.1555 - custom_catrgorical_accuracy: 0.6020 - val_loss: 0.8754 - val_custom_catrgorical_accuracy: 0.6852\n",
            "Epoch 21/100\n",
            "704/704 [==============================] - 17s 24ms/step - loss: 1.1565 - custom_catrgorical_accuracy: 0.5997 - val_loss: 0.8443 - val_custom_catrgorical_accuracy: 0.7046\n",
            "Epoch 22/100\n",
            "704/704 [==============================] - 17s 23ms/step - loss: 1.1331 - custom_catrgorical_accuracy: 0.6073 - val_loss: 0.8456 - val_custom_catrgorical_accuracy: 0.6980\n",
            "Epoch 23/100\n",
            "704/704 [==============================] - 17s 24ms/step - loss: 1.1183 - custom_catrgorical_accuracy: 0.6201 - val_loss: 0.7910 - val_custom_catrgorical_accuracy: 0.7250\n",
            "Epoch 24/100\n",
            "704/704 [==============================] - 17s 23ms/step - loss: 1.0952 - custom_catrgorical_accuracy: 0.6223 - val_loss: 0.8074 - val_custom_catrgorical_accuracy: 0.7106\n",
            "Epoch 25/100\n",
            "704/704 [==============================] - 17s 24ms/step - loss: 1.0948 - custom_catrgorical_accuracy: 0.6227 - val_loss: 0.8210 - val_custom_catrgorical_accuracy: 0.7162\n",
            "Epoch 26/100\n",
            "704/704 [==============================] - 17s 23ms/step - loss: 1.0728 - custom_catrgorical_accuracy: 0.6332 - val_loss: 0.7916 - val_custom_catrgorical_accuracy: 0.7256\n",
            "Epoch 27/100\n",
            "704/704 [==============================] - 17s 24ms/step - loss: 1.0805 - custom_catrgorical_accuracy: 0.6311 - val_loss: 0.7898 - val_custom_catrgorical_accuracy: 0.7206\n",
            "Epoch 28/100\n",
            "704/704 [==============================] - 17s 23ms/step - loss: 1.0550 - custom_catrgorical_accuracy: 0.6421 - val_loss: 0.7783 - val_custom_catrgorical_accuracy: 0.7306\n",
            "Epoch 29/100\n",
            "704/704 [==============================] - 17s 24ms/step - loss: 1.0688 - custom_catrgorical_accuracy: 0.6366 - val_loss: 0.7741 - val_custom_catrgorical_accuracy: 0.7314\n",
            "Epoch 30/100\n",
            "704/704 [==============================] - 17s 24ms/step - loss: 1.0474 - custom_catrgorical_accuracy: 0.6403 - val_loss: 0.7748 - val_custom_catrgorical_accuracy: 0.7278\n",
            "Epoch 31/100\n",
            "704/704 [==============================] - 17s 24ms/step - loss: 1.0386 - custom_catrgorical_accuracy: 0.6449 - val_loss: 0.7715 - val_custom_catrgorical_accuracy: 0.7366\n",
            "Epoch 32/100\n",
            "704/704 [==============================] - 16s 23ms/step - loss: 1.0327 - custom_catrgorical_accuracy: 0.6502 - val_loss: 0.7259 - val_custom_catrgorical_accuracy: 0.7518\n",
            "Epoch 33/100\n",
            "704/704 [==============================] - 17s 23ms/step - loss: 1.0262 - custom_catrgorical_accuracy: 0.6513 - val_loss: 0.7879 - val_custom_catrgorical_accuracy: 0.7312\n",
            "Epoch 34/100\n",
            "704/704 [==============================] - 17s 24ms/step - loss: 0.9978 - custom_catrgorical_accuracy: 0.6589 - val_loss: 0.7766 - val_custom_catrgorical_accuracy: 0.7390\n",
            "Epoch 35/100\n",
            "704/704 [==============================] - 17s 24ms/step - loss: 1.0002 - custom_catrgorical_accuracy: 0.6574 - val_loss: 0.7413 - val_custom_catrgorical_accuracy: 0.7486\n",
            "Epoch 36/100\n",
            "704/704 [==============================] - 17s 23ms/step - loss: 1.0018 - custom_catrgorical_accuracy: 0.6614 - val_loss: 0.7337 - val_custom_catrgorical_accuracy: 0.7534\n",
            "Epoch 37/100\n",
            "704/704 [==============================] - 17s 24ms/step - loss: 0.9873 - custom_catrgorical_accuracy: 0.6628 - val_loss: 0.7448 - val_custom_catrgorical_accuracy: 0.7472\n",
            "Epoch 38/100\n",
            "704/704 [==============================] - 17s 24ms/step - loss: 0.9672 - custom_catrgorical_accuracy: 0.6696 - val_loss: 0.7572 - val_custom_catrgorical_accuracy: 0.7382\n",
            "Epoch 39/100\n",
            "704/704 [==============================] - 17s 23ms/step - loss: 0.9762 - custom_catrgorical_accuracy: 0.6675 - val_loss: 0.7027 - val_custom_catrgorical_accuracy: 0.7616\n",
            "Epoch 40/100\n",
            "704/704 [==============================] - 17s 24ms/step - loss: 0.9742 - custom_catrgorical_accuracy: 0.6723 - val_loss: 0.7198 - val_custom_catrgorical_accuracy: 0.7558\n",
            "Epoch 41/100\n",
            "704/704 [==============================] - 17s 24ms/step - loss: 0.9541 - custom_catrgorical_accuracy: 0.6790 - val_loss: 0.7377 - val_custom_catrgorical_accuracy: 0.7490\n",
            "Epoch 42/100\n",
            "704/704 [==============================] - 17s 24ms/step - loss: 0.9631 - custom_catrgorical_accuracy: 0.6753 - val_loss: 0.7374 - val_custom_catrgorical_accuracy: 0.7508\n",
            "Epoch 43/100\n",
            "704/704 [==============================] - 17s 23ms/step - loss: 0.9412 - custom_catrgorical_accuracy: 0.6829 - val_loss: 0.7031 - val_custom_catrgorical_accuracy: 0.7582\n",
            "Epoch 44/100\n",
            "704/704 [==============================] - 17s 24ms/step - loss: 0.9592 - custom_catrgorical_accuracy: 0.6757 - val_loss: 0.7065 - val_custom_catrgorical_accuracy: 0.7584\n",
            "Epoch 45/100\n",
            "704/704 [==============================] - 17s 23ms/step - loss: 0.9422 - custom_catrgorical_accuracy: 0.6824 - val_loss: 0.7421 - val_custom_catrgorical_accuracy: 0.7524\n",
            "Epoch 46/100\n",
            "704/704 [==============================] - 17s 24ms/step - loss: 0.9548 - custom_catrgorical_accuracy: 0.6769 - val_loss: 0.7422 - val_custom_catrgorical_accuracy: 0.7464\n",
            "Epoch 47/100\n",
            "704/704 [==============================] - 17s 24ms/step - loss: 0.9358 - custom_catrgorical_accuracy: 0.6839 - val_loss: 0.7075 - val_custom_catrgorical_accuracy: 0.7548\n",
            "Epoch 48/100\n",
            "704/704 [==============================] - 17s 23ms/step - loss: 0.9389 - custom_catrgorical_accuracy: 0.6859 - val_loss: 0.7066 - val_custom_catrgorical_accuracy: 0.7626\n",
            "Epoch 49/100\n",
            "704/704 [==============================] - 17s 23ms/step - loss: 0.9185 - custom_catrgorical_accuracy: 0.6917 - val_loss: 0.6995 - val_custom_catrgorical_accuracy: 0.7624\n",
            "Epoch 50/100\n",
            "704/704 [==============================] - 17s 24ms/step - loss: 0.9137 - custom_catrgorical_accuracy: 0.6965 - val_loss: 0.6679 - val_custom_catrgorical_accuracy: 0.7716\n",
            "Epoch 51/100\n",
            "704/704 [==============================] - 16s 23ms/step - loss: 0.9165 - custom_catrgorical_accuracy: 0.6902 - val_loss: 0.7259 - val_custom_catrgorical_accuracy: 0.7506\n",
            "Epoch 52/100\n",
            "704/704 [==============================] - 17s 24ms/step - loss: 0.9192 - custom_catrgorical_accuracy: 0.6894 - val_loss: 0.7149 - val_custom_catrgorical_accuracy: 0.7640\n",
            "Epoch 53/100\n",
            "704/704 [==============================] - 16s 23ms/step - loss: 0.9155 - custom_catrgorical_accuracy: 0.6951 - val_loss: 0.6792 - val_custom_catrgorical_accuracy: 0.7726\n",
            "Epoch 54/100\n",
            "704/704 [==============================] - 17s 23ms/step - loss: 0.8909 - custom_catrgorical_accuracy: 0.7012 - val_loss: 0.6690 - val_custom_catrgorical_accuracy: 0.7744\n",
            "Epoch 55/100\n",
            "704/704 [==============================] - 16s 23ms/step - loss: 0.8841 - custom_catrgorical_accuracy: 0.7015 - val_loss: 0.6461 - val_custom_catrgorical_accuracy: 0.7800\n",
            "Epoch 56/100\n",
            "704/704 [==============================] - 17s 23ms/step - loss: 0.8892 - custom_catrgorical_accuracy: 0.7045 - val_loss: 0.6564 - val_custom_catrgorical_accuracy: 0.7778\n",
            "Epoch 57/100\n",
            "704/704 [==============================] - 17s 23ms/step - loss: 0.8833 - custom_catrgorical_accuracy: 0.7023 - val_loss: 0.7088 - val_custom_catrgorical_accuracy: 0.7668\n",
            "Epoch 58/100\n",
            "704/704 [==============================] - 17s 23ms/step - loss: 0.8844 - custom_catrgorical_accuracy: 0.7051 - val_loss: 0.7172 - val_custom_catrgorical_accuracy: 0.7686\n",
            "Epoch 59/100\n",
            "704/704 [==============================] - 16s 23ms/step - loss: 0.8698 - custom_catrgorical_accuracy: 0.7082 - val_loss: 0.6579 - val_custom_catrgorical_accuracy: 0.7778\n",
            "Epoch 60/100\n",
            "704/704 [==============================] - 16s 23ms/step - loss: 0.8728 - custom_catrgorical_accuracy: 0.7110 - val_loss: 0.6666 - val_custom_catrgorical_accuracy: 0.7738\n",
            "Epoch 61/100\n",
            "704/704 [==============================] - 16s 23ms/step - loss: 0.8667 - custom_catrgorical_accuracy: 0.7115 - val_loss: 0.6653 - val_custom_catrgorical_accuracy: 0.7744\n",
            "Epoch 62/100\n",
            "704/704 [==============================] - 17s 23ms/step - loss: 0.8536 - custom_catrgorical_accuracy: 0.7150 - val_loss: 0.6677 - val_custom_catrgorical_accuracy: 0.7738\n",
            "Epoch 63/100\n",
            "704/704 [==============================] - 16s 23ms/step - loss: 0.8478 - custom_catrgorical_accuracy: 0.7149 - val_loss: 0.7227 - val_custom_catrgorical_accuracy: 0.7602\n",
            "Epoch 64/100\n",
            "704/704 [==============================] - 17s 24ms/step - loss: 0.8665 - custom_catrgorical_accuracy: 0.7128 - val_loss: 0.6585 - val_custom_catrgorical_accuracy: 0.7858\n",
            "Epoch 65/100\n",
            "704/704 [==============================] - 17s 24ms/step - loss: 0.8650 - custom_catrgorical_accuracy: 0.7100 - val_loss: 0.6507 - val_custom_catrgorical_accuracy: 0.7878\n",
            "Epoch 66/100\n",
            "704/704 [==============================] - 17s 24ms/step - loss: 0.8582 - custom_catrgorical_accuracy: 0.7158 - val_loss: 0.6538 - val_custom_catrgorical_accuracy: 0.7852\n",
            "Epoch 67/100\n",
            "704/704 [==============================] - 17s 24ms/step - loss: 0.8557 - custom_catrgorical_accuracy: 0.7138 - val_loss: 0.6631 - val_custom_catrgorical_accuracy: 0.7784\n",
            "Epoch 68/100\n",
            "704/704 [==============================] - 17s 24ms/step - loss: 0.8457 - custom_catrgorical_accuracy: 0.7128 - val_loss: 0.6642 - val_custom_catrgorical_accuracy: 0.7804\n",
            "Epoch 69/100\n",
            "704/704 [==============================] - 17s 23ms/step - loss: 0.8361 - custom_catrgorical_accuracy: 0.7213 - val_loss: 0.6737 - val_custom_catrgorical_accuracy: 0.7856\n",
            "Epoch 70/100\n",
            "704/704 [==============================] - 17s 24ms/step - loss: 0.8422 - custom_catrgorical_accuracy: 0.7167 - val_loss: 0.6682 - val_custom_catrgorical_accuracy: 0.7746\n",
            "Epoch 71/100\n",
            "704/704 [==============================] - 17s 24ms/step - loss: 0.8357 - custom_catrgorical_accuracy: 0.7214 - val_loss: 0.6470 - val_custom_catrgorical_accuracy: 0.7876\n",
            "Epoch 72/100\n",
            "704/704 [==============================] - 17s 24ms/step - loss: 0.8312 - custom_catrgorical_accuracy: 0.7226 - val_loss: 0.6721 - val_custom_catrgorical_accuracy: 0.7738\n",
            "Epoch 73/100\n",
            "704/704 [==============================] - 16s 23ms/step - loss: 0.8232 - custom_catrgorical_accuracy: 0.7257 - val_loss: 0.6280 - val_custom_catrgorical_accuracy: 0.7886\n",
            "Epoch 74/100\n",
            "704/704 [==============================] - 17s 23ms/step - loss: 0.8285 - custom_catrgorical_accuracy: 0.7239 - val_loss: 0.6205 - val_custom_catrgorical_accuracy: 0.7944\n",
            "Epoch 75/100\n",
            "704/704 [==============================] - 16s 23ms/step - loss: 0.8246 - custom_catrgorical_accuracy: 0.7260 - val_loss: 0.6320 - val_custom_catrgorical_accuracy: 0.7896\n",
            "Epoch 76/100\n",
            "704/704 [==============================] - 17s 23ms/step - loss: 0.8135 - custom_catrgorical_accuracy: 0.7310 - val_loss: 0.6331 - val_custom_catrgorical_accuracy: 0.7876\n",
            "Epoch 77/100\n",
            "704/704 [==============================] - 16s 23ms/step - loss: 0.8148 - custom_catrgorical_accuracy: 0.7257 - val_loss: 0.6329 - val_custom_catrgorical_accuracy: 0.7966\n",
            "Epoch 78/100\n",
            "704/704 [==============================] - 16s 23ms/step - loss: 0.8243 - custom_catrgorical_accuracy: 0.7285 - val_loss: 0.6707 - val_custom_catrgorical_accuracy: 0.7786\n",
            "Epoch 79/100\n",
            "704/704 [==============================] - 17s 24ms/step - loss: 0.8158 - custom_catrgorical_accuracy: 0.7274 - val_loss: 0.6508 - val_custom_catrgorical_accuracy: 0.7914\n",
            "Epoch 80/100\n",
            "704/704 [==============================] - 17s 24ms/step - loss: 0.8078 - custom_catrgorical_accuracy: 0.7304 - val_loss: 0.6178 - val_custom_catrgorical_accuracy: 0.7916\n",
            "Epoch 81/100\n",
            "704/704 [==============================] - 17s 23ms/step - loss: 0.8022 - custom_catrgorical_accuracy: 0.7301 - val_loss: 0.7536 - val_custom_catrgorical_accuracy: 0.7664\n",
            "Epoch 82/100\n",
            "704/704 [==============================] - 17s 24ms/step - loss: 0.8169 - custom_catrgorical_accuracy: 0.7305 - val_loss: 0.6660 - val_custom_catrgorical_accuracy: 0.7824\n",
            "Epoch 83/100\n",
            "704/704 [==============================] - 17s 24ms/step - loss: 0.8073 - custom_catrgorical_accuracy: 0.7322 - val_loss: 0.6628 - val_custom_catrgorical_accuracy: 0.7836\n",
            "Epoch 84/100\n",
            "704/704 [==============================] - 17s 24ms/step - loss: 0.8187 - custom_catrgorical_accuracy: 0.7282 - val_loss: 0.6399 - val_custom_catrgorical_accuracy: 0.7906\n",
            "Epoch 85/100\n",
            "704/704 [==============================] - 17s 24ms/step - loss: 0.8051 - custom_catrgorical_accuracy: 0.7334 - val_loss: 0.6541 - val_custom_catrgorical_accuracy: 0.7886\n",
            "Epoch 86/100\n",
            "704/704 [==============================] - 17s 24ms/step - loss: 0.8105 - custom_catrgorical_accuracy: 0.7325 - val_loss: 0.6384 - val_custom_catrgorical_accuracy: 0.7948\n",
            "Epoch 87/100\n",
            "704/704 [==============================] - 17s 24ms/step - loss: 0.7861 - custom_catrgorical_accuracy: 0.7422 - val_loss: 0.6345 - val_custom_catrgorical_accuracy: 0.7964\n",
            "Epoch 88/100\n",
            "704/704 [==============================] - 17s 24ms/step - loss: 0.7913 - custom_catrgorical_accuracy: 0.7378 - val_loss: 0.6840 - val_custom_catrgorical_accuracy: 0.7698\n",
            "Epoch 89/100\n",
            "704/704 [==============================] - 17s 24ms/step - loss: 0.7857 - custom_catrgorical_accuracy: 0.7397 - val_loss: 0.6928 - val_custom_catrgorical_accuracy: 0.7810\n",
            "Epoch 90/100\n",
            "704/704 [==============================] - 17s 24ms/step - loss: 0.7771 - custom_catrgorical_accuracy: 0.7414 - val_loss: 0.6532 - val_custom_catrgorical_accuracy: 0.7866\n",
            "Epoch 91/100\n",
            "704/704 [==============================] - 17s 24ms/step - loss: 0.7936 - custom_catrgorical_accuracy: 0.7356 - val_loss: 0.6300 - val_custom_catrgorical_accuracy: 0.7978\n",
            "Epoch 92/100\n",
            "704/704 [==============================] - 17s 24ms/step - loss: 0.7936 - custom_catrgorical_accuracy: 0.7375 - val_loss: 0.6529 - val_custom_catrgorical_accuracy: 0.7926\n",
            "Epoch 93/100\n",
            "704/704 [==============================] - 17s 25ms/step - loss: 0.7950 - custom_catrgorical_accuracy: 0.7379 - val_loss: 0.6242 - val_custom_catrgorical_accuracy: 0.7952\n",
            "Epoch 94/100\n",
            "704/704 [==============================] - 17s 24ms/step - loss: 0.7852 - custom_catrgorical_accuracy: 0.7426 - val_loss: 0.6200 - val_custom_catrgorical_accuracy: 0.8038\n",
            "Epoch 95/100\n",
            "704/704 [==============================] - 17s 24ms/step - loss: 0.7828 - custom_catrgorical_accuracy: 0.7399 - val_loss: 0.6631 - val_custom_catrgorical_accuracy: 0.7882\n",
            "Epoch 96/100\n",
            "704/704 [==============================] - 17s 24ms/step - loss: 0.7947 - custom_catrgorical_accuracy: 0.7345 - val_loss: 0.6423 - val_custom_catrgorical_accuracy: 0.7834\n",
            "Epoch 97/100\n",
            "704/704 [==============================] - 17s 24ms/step - loss: 0.7869 - custom_catrgorical_accuracy: 0.7391 - val_loss: 0.6558 - val_custom_catrgorical_accuracy: 0.7852\n",
            "Epoch 98/100\n",
            "704/704 [==============================] - 17s 23ms/step - loss: 0.7881 - custom_catrgorical_accuracy: 0.7400 - val_loss: 0.6491 - val_custom_catrgorical_accuracy: 0.7884\n",
            "Epoch 99/100\n",
            "704/704 [==============================] - 17s 24ms/step - loss: 0.7851 - custom_catrgorical_accuracy: 0.7404 - val_loss: 0.6245 - val_custom_catrgorical_accuracy: 0.7958\n",
            "Epoch 100/100\n",
            "704/704 [==============================] - 17s 23ms/step - loss: 0.7696 - custom_catrgorical_accuracy: 0.7456 - val_loss: 0.6358 - val_custom_catrgorical_accuracy: 0.7866\n"
          ],
          "name": "stdout"
        },
        {
          "output_type": "execute_result",
          "data": {
            "text/plain": [
              "<tensorflow.python.keras.callbacks.History at 0x7f85e008afd0>"
            ]
          },
          "metadata": {
            "tags": []
          },
          "execution_count": 15
        }
      ]
    },
    {
      "cell_type": "markdown",
      "metadata": {
        "id": "P9XXYsmarhxb"
      },
      "source": [
        "### 比較兩種方法的訓練結果"
      ]
    },
    {
      "cell_type": "markdown",
      "metadata": {
        "id": "x_27Lx91rhxc"
      },
      "source": [
        "載入兩種方法的模型權重："
      ]
    },
    {
      "cell_type": "code",
      "metadata": {
        "id": "TTIq58vwrhxe"
      },
      "source": [
        "model_1.load_weights(model_dirs+'/save.h5')\n",
        "model_2.load_weights(model_dirs+'/custom_save.h5')"
      ],
      "execution_count": 16,
      "outputs": []
    },
    {
      "cell_type": "markdown",
      "metadata": {
        "id": "bmSRbV1Prhxf"
      },
      "source": [
        "驗證網路模型："
      ]
    },
    {
      "cell_type": "code",
      "metadata": {
        "id": "FMCqE8errhxg",
        "colab": {
          "base_uri": "https://localhost:8080/",
          "height": 145
        },
        "outputId": "40f69ad6-66b2-4bb1-e2d4-8b4872d5260d"
      },
      "source": [
        "loss_1, acc_1 = model_1.evaluate(test_data)\n",
        "loss_2, acc_2 = model_2.evaluate(test_data)\n",
        "loss = [loss_1, loss_2]  \n",
        "acc = [acc_1, acc_2]\n",
        "dict = {\"Loss\": loss, \"Accuracy\": acc}\n",
        "pd.DataFrame(dict)"
      ],
      "execution_count": 17,
      "outputs": [
        {
          "output_type": "stream",
          "text": [
            "157/157 [==============================] - 2s 15ms/step - loss: 0.6477 - categorical_accuracy: 0.7953\n",
            "157/157 [==============================] - 1s 8ms/step - loss: 0.6438 - custom_catrgorical_accuracy: 0.7969\n"
          ],
          "name": "stdout"
        },
        {
          "output_type": "execute_result",
          "data": {
            "text/html": [
              "<div>\n",
              "<style scoped>\n",
              "    .dataframe tbody tr th:only-of-type {\n",
              "        vertical-align: middle;\n",
              "    }\n",
              "\n",
              "    .dataframe tbody tr th {\n",
              "        vertical-align: top;\n",
              "    }\n",
              "\n",
              "    .dataframe thead th {\n",
              "        text-align: right;\n",
              "    }\n",
              "</style>\n",
              "<table border=\"1\" class=\"dataframe\">\n",
              "  <thead>\n",
              "    <tr style=\"text-align: right;\">\n",
              "      <th></th>\n",
              "      <th>Loss</th>\n",
              "      <th>Accuracy</th>\n",
              "    </tr>\n",
              "  </thead>\n",
              "  <tbody>\n",
              "    <tr>\n",
              "      <th>0</th>\n",
              "      <td>0.647746</td>\n",
              "      <td>0.7953</td>\n",
              "    </tr>\n",
              "    <tr>\n",
              "      <th>1</th>\n",
              "      <td>0.643795</td>\n",
              "      <td>0.7969</td>\n",
              "    </tr>\n",
              "  </tbody>\n",
              "</table>\n",
              "</div>"
            ],
            "text/plain": [
              "       Loss  Accuracy\n",
              "0  0.647746    0.7953\n",
              "1  0.643795    0.7969"
            ]
          },
          "metadata": {
            "tags": []
          },
          "execution_count": 17
        }
      ]
    }
  ]
}