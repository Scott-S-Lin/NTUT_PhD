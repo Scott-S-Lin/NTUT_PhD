{
  "nbformat": 4,
  "nbformat_minor": 0,
  "metadata": {
    "kernelspec": {
      "display_name": "tf2",
      "language": "python",
      "name": "tf2"
    },
    "language_info": {
      "codemirror_mode": {
        "name": "ipython",
        "version": 3
      },
      "file_extension": ".py",
      "mimetype": "text/x-python",
      "name": "python",
      "nbconvert_exporter": "python",
      "pygments_lexer": "ipython3",
      "version": "3.7.7"
    },
    "colab": {
      "name": "Lab8_scott.ipynb",
      "private_outputs": true,
      "provenance": [],
      "toc_visible": true,
      "include_colab_link": true
    },
    "accelerator": "GPU"
  },
  "cells": [
    {
      "cell_type": "markdown",
      "metadata": {
        "id": "view-in-github",
        "colab_type": "text"
      },
      "source": [
        "<a href=\"https://colab.research.google.com/github/Scott-S-Lin/NTUT_PhD/blob/main/Lab8_scott.ipynb\" target=\"_parent\"><img src=\"https://colab.research.google.com/assets/colab-badge.svg\" alt=\"Open In Colab\"/></a>"
      ]
    },
    {
      "cell_type": "markdown",
      "metadata": {
        "id": "0nUDQ9Z8cQ2p"
      },
      "source": [
        "# 實驗：實作InceptionV3網路架構"
      ]
    },
    {
      "cell_type": "markdown",
      "metadata": {
        "id": "UTVYtHBHcQ2r"
      },
      "source": [
        "<table class=\"tfo-notebook-buttons\" align=\"left\">\n",
        "  <td>\n",
        "    <a target=\"_blank\" href=\"https://colab.research.google.com/github/taipeitechmmslab/MMSLAB-TF2/blob/master/Lab8.ipynb\"><img src=\"https://www.tensorflow.org/images/colab_logo_32px.png\" />Run in Google Colab</a>\n",
        "  </td>\n",
        "  <td>\n",
        "    <a target=\"_blank\" href=\"https://github.com/taipeitechmmslab/MMSLAB-TF2/blob/master/Lab8.ipynb\"><img src=\"https://www.tensorflow.org/images/GitHub-Mark-32px.png\" />View source on GitHub</a>\n",
        "  </td>\n",
        "</table>"
      ]
    },
    {
      "cell_type": "markdown",
      "metadata": {
        "id": "O6Nj46SucQ2t"
      },
      "source": [
        "### Import必要套件"
      ]
    },
    {
      "cell_type": "code",
      "metadata": {
        "id": "3MGB5aJjcQ2u"
      },
      "source": [
        "import numpy as np\n",
        "import matplotlib.pyplot as plt\n",
        "import tensorflow as tf"
      ],
      "execution_count": null,
      "outputs": []
    },
    {
      "cell_type": "markdown",
      "metadata": {
        "id": "NKqu7rGocQ2w"
      },
      "source": [
        "---\n",
        "## Keras Applications\n",
        "### 創建InceptionV3網路架構\n",
        "- 輸入大小(預設)：(299, 299, 3)\n",
        "- 權重(預設)：`imagenet`\n",
        "- 輸出類別(預設)：1000個類別"
      ]
    },
    {
      "cell_type": "code",
      "metadata": {
        "id": "G0CqCP03cQ2w"
      },
      "source": [
        "model = tf.keras.applications.InceptionV3(include_top=True, weights='imagenet')"
      ],
      "execution_count": null,
      "outputs": []
    },
    {
      "cell_type": "markdown",
      "metadata": {
        "id": "Kl5cdReQcQ2y"
      },
      "source": [
        "透過`model.summary`可以察看網路模型的每一層資訊："
      ]
    },
    {
      "cell_type": "code",
      "metadata": {
        "scrolled": true,
        "id": "rxyNnAItcQ2z"
      },
      "source": [
        "model.summary()"
      ],
      "execution_count": null,
      "outputs": []
    },
    {
      "cell_type": "markdown",
      "metadata": {
        "id": "ty-NelUDcQ20"
      },
      "source": [
        "將網路模型儲存到TensorBoard上："
      ]
    },
    {
      "cell_type": "code",
      "metadata": {
        "id": "XeM3XRQocQ20"
      },
      "source": [
        "model_tb = tf.keras.callbacks.TensorBoard(log_dir='lab8-logs-inceptionv3-keras')\n",
        "model_tb.set_model(model)"
      ],
      "execution_count": null,
      "outputs": []
    },
    {
      "cell_type": "code",
      "metadata": {
        "id": "arp759ikhhKB"
      },
      "source": [
        "%reload_ext tensorboard"
      ],
      "execution_count": null,
      "outputs": []
    },
    {
      "cell_type": "code",
      "metadata": {
        "id": "3V_U6ofqhzwy"
      },
      "source": [
        "tensorboard --logdir lab8-logs-inceptionv3-keras/"
      ],
      "execution_count": null,
      "outputs": []
    },
    {
      "cell_type": "markdown",
      "metadata": {
        "id": "LJfGF5oOcQ21"
      },
      "source": [
        "### 資料前處理和輸出解碼"
      ]
    },
    {
      "cell_type": "markdown",
      "metadata": {
        "id": "iXvvd7E7cQ21"
      },
      "source": [
        "使用別人提供的模型預測，需要注意兩件事情，1)訓練時的資料前處理，2)輸出結果對應到的類別。\n",
        "\n",
        "Keras很貼心的提供每個模型相對應的資料預處理和輸出解碼的函式。\n",
        "- preprocess_input：網路架構的影像前處理(注意：每一個模型在訓練時做的資料正規化並不會相同，例如：VGG、ResNet-50輸入影像為0~255的數值，而inception_v3、xception輸入影像為-1~1的數值)。\n",
        "- decode_predictions：對應網路架構的輸出解碼。"
      ]
    },
    {
      "cell_type": "markdown",
      "metadata": {
        "id": "jwwGf_73cQ22"
      },
      "source": [
        "Import資料預處理和輸出解碼的函式："
      ]
    },
    {
      "cell_type": "code",
      "metadata": {
        "id": "qKV4M9JYcQ22"
      },
      "source": [
        "from tensorflow.keras.applications.inception_v3 import preprocess_input\n",
        "from tensorflow.keras.applications.inception_v3 import decode_predictions"
      ],
      "execution_count": null,
      "outputs": []
    },
    {
      "cell_type": "markdown",
      "metadata": {
        "id": "IpdnLsXbcQ23"
      },
      "source": [
        "### 預測輸出結果"
      ]
    },
    {
      "cell_type": "markdown",
      "metadata": {
        "id": "WCz38jR1cQ23"
      },
      "source": [
        "創建影像讀取的函式：讀取影像，並將影像大小縮放大299x299x3的尺寸。"
      ]
    },
    {
      "cell_type": "code",
      "metadata": {
        "id": "cd9K7F2XcQ24"
      },
      "source": [
        "def read_img(img_path, resize=(299,299)):\n",
        "    img_string = tf.io.read_file(img_path)  # 讀取檔案\n",
        "    img_decode = tf.image.decode_image(img_string)  # 將檔案以影像格式來解碼\n",
        "    img_decode = tf.image.resize(img_decode, resize)  # 將影像resize到網路輸入大小\n",
        "    # 將影像格式增加到4維(batch, height, width, channels)，模型預測要求格式\n",
        "    img_decode = tf.expand_dims(img_decode, axis=0)\n",
        "    return img_decode"
      ],
      "execution_count": null,
      "outputs": []
    },
    {
      "cell_type": "code",
      "metadata": {
        "id": "53KoTqDzc89n"
      },
      "source": [
        "%pwd"
      ],
      "execution_count": null,
      "outputs": []
    },
    {
      "cell_type": "markdown",
      "metadata": {
        "id": "7NXG78IrcQ24"
      },
      "source": [
        "從資料夾中讀取一張影像（elephant.jpg）作為測試："
      ]
    },
    {
      "cell_type": "code",
      "metadata": {
        "id": "gXIVMi8RcQ25"
      },
      "source": [
        "img_path = 'image/elephant.jpg'\n",
        "img = read_img(img_path)  # 透過剛創建的函式讀取影像\n",
        "plt.imshow(tf.cast(img, tf.uint8)[0])  # 透過matplotlib顯示圖片需將影像轉為Integers"
      ],
      "execution_count": null,
      "outputs": []
    },
    {
      "cell_type": "markdown",
      "metadata": {
        "id": "NQAMzU0KcQ26"
      },
      "source": [
        "預測結果："
      ]
    },
    {
      "cell_type": "code",
      "metadata": {
        "id": "LMlq49NgcQ26"
      },
      "source": [
        "img = preprocess_input(img)  # 影像前處理\n",
        "preds = model.predict(img)  # 預測圖片\n",
        "print(\"Predicted:\", decode_predictions(preds, top=3)[0])  # 輸出預測最高的三個類別"
      ],
      "execution_count": null,
      "outputs": []
    },
    {
      "cell_type": "markdown",
      "metadata": {
        "id": "Rezk0sZbcQ27"
      },
      "source": [
        "---\n",
        "## TensorFlow Hub\n",
        "\n",
        "Install:\n",
        "```\n",
        "pip install tensorflow-hub\n",
        "```\n",
        "\n",
        "Search:\n",
        "https://tfhub.dev/"
      ]
    },
    {
      "cell_type": "code",
      "metadata": {
        "id": "v5gm6xwlcQ27"
      },
      "source": [
        "import tensorflow as tf\n",
        "import tensorflow_hub as hub"
      ],
      "execution_count": null,
      "outputs": []
    },
    {
      "cell_type": "markdown",
      "metadata": {
        "id": "wUR98v8EcQ28"
      },
      "source": [
        "### 創建Inception V3模型\n",
        "\n",
        "Model:\n",
        "https://tfhub.dev/google/tf2-preview/inception_v3/classification/2\n",
        "\n",
        "num_classes = 1001 classes of the classification from the original training\n",
        " \n",
        "Image:height x width = 299 x 299 pixels, 3 RGB color values in the range 0~1\n",
        "\n",
        "labels file: https://storage.googleapis.com/download.tensorflow.org/data/ImageNetLabels.txt"
      ]
    },
    {
      "cell_type": "code",
      "metadata": {
        "id": "cgBHN5TUcQ28"
      },
      "source": [
        "# Inception V3預訓練模型的URL\n",
        "module_url = \"https://tfhub.dev/google/tf2-preview/inception_v3/classification/4\"\n",
        "\n",
        "# 創建一個Sequential Model，網路模型裡面包含了Inception V3網路層\n",
        "model = tf.keras.Sequential([\n",
        "    # hub.KerasLayer將載入的Inception V3模型封裝成網路層(Keras Layer)\n",
        "    hub.KerasLayer(module_url, \n",
        "                  input_shape=(299, 299, 3),  # 模型輸入大小\n",
        "                   output_shape=(1001, ),   # 模型輸出大小\n",
        "                   name='Inception_v3')  # 網路層名稱\n",
        "])"
      ],
      "execution_count": null,
      "outputs": []
    },
    {
      "cell_type": "code",
      "metadata": {
        "scrolled": true,
        "id": "zjzvp3jPcQ29"
      },
      "source": [
        "model.summary()"
      ],
      "execution_count": null,
      "outputs": []
    },
    {
      "cell_type": "markdown",
      "metadata": {
        "id": "hgS-7XEucQ29"
      },
      "source": [
        "### 資料前處理和輸出解碼"
      ]
    },
    {
      "cell_type": "markdown",
      "metadata": {
        "id": "4n-rPIpycQ2-"
      },
      "source": [
        "創建資料前處理函式："
      ]
    },
    {
      "cell_type": "code",
      "metadata": {
        "id": "fJCdpbI2cQ2-"
      },
      "source": [
        "def read_img(img_path, resize=(299,299)):\n",
        "    img_string = tf.io.read_file(img_path)  # 讀取檔案\n",
        "    img_decode = tf.image.decode_image(img_string)  # 將檔案以影像格式來解碼\n",
        "    img_decode = tf.image.resize(img_decode, resize)  # 將影像resize到網路輸入大小\n",
        "    img_decode = img_decode / 255.0  # 對影像做正規畫，將數值縮放到0~1之間\n",
        "    # 將影像格式增加到4維(batch, height, width, channels)，模型預測要求格式\n",
        "    img_decode = tf.expand_dims(img_decode, axis=0)  # \n",
        "    return img_decode"
      ],
      "execution_count": null,
      "outputs": []
    },
    {
      "cell_type": "markdown",
      "metadata": {
        "id": "vgneLD4HcQ2_"
      },
      "source": [
        "創建輸出解碼器："
      ]
    },
    {
      "cell_type": "code",
      "metadata": {
        "scrolled": true,
        "id": "sjCEQQCucQ2_"
      },
      "source": [
        "# 下載ImageNet 的標籤檔\n",
        "labels_path = tf.keras.utils.get_file('ImageNetLabels.txt', 'https://storage.googleapis.com/download.tensorflow.org/data/ImageNetLabels.txt')\n",
        "# 讀取標籤檔中的數據\n",
        "with open(labels_path) as file:\n",
        "    lines = file.read().splitlines()\n",
        "print(lines)  # 顯示讀取的標籤\n",
        "\n",
        "imagenet_labels = np.array(lines)  # 將標籤轉成numpy array做為網路輸出的解碼器"
      ],
      "execution_count": null,
      "outputs": []
    },
    {
      "cell_type": "markdown",
      "metadata": {
        "id": "tGe9RVtjcQ3A"
      },
      "source": [
        "### 預測輸出結果"
      ]
    },
    {
      "cell_type": "markdown",
      "metadata": {
        "id": "v7ihbWXDcQ3A"
      },
      "source": [
        "從資料夾中讀取一張影像（elephant.jpg）作為測試："
      ]
    },
    {
      "cell_type": "code",
      "metadata": {
        "id": "A36-8ywQcQ3A"
      },
      "source": [
        "img_path = 'image/elephant.jpg'\n",
        "img = read_img(img_path)  # 透過剛創建的函式讀取影像\n",
        "plt.imshow(img[0])"
      ],
      "execution_count": null,
      "outputs": []
    },
    {
      "cell_type": "markdown",
      "metadata": {
        "id": "lHq5PRMhcQ3B"
      },
      "source": [
        "預測結果："
      ]
    },
    {
      "cell_type": "code",
      "metadata": {
        "id": "mYFwpXSDcQ3B"
      },
      "source": [
        "preds = model.predict(img)  # 預測圖片\n",
        "index = np.argmax(preds)  # 取得預測結果最大的Index\n",
        "print(\"Predicted:\", imagenet_labels[index])  # 透過解碼器將輸出轉成標籤"
      ],
      "execution_count": null,
      "outputs": []
    },
    {
      "cell_type": "markdown",
      "metadata": {
        "id": "fCCB8AymcQ3C"
      },
      "source": [
        "顯示最好的三個預測："
      ]
    },
    {
      "cell_type": "code",
      "metadata": {
        "id": "-0a881zNcQ3C"
      },
      "source": [
        "# 取得預測結果最大的三個indexs\n",
        "top3_indexs = np.argsort(preds)[0, ::-1][:3]  \n",
        "print(\"Predicted:\", imagenet_labels[top3_indexs])  # 透過解碼器將輸出轉成標籤"
      ],
      "execution_count": null,
      "outputs": []
    }
  ]
}